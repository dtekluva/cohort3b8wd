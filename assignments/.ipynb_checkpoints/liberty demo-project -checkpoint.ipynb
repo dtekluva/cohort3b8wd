{
 "cells": [
  {
   "cell_type": "code",
   "execution_count": 3,
   "id": "muslim-walnut",
   "metadata": {},
   "outputs": [],
   "source": [
    "# username= doadmin\n",
    "# password= u2tyggh85a814r0h\n",
    "# host = class-sql-db-do-user-4304571-0.b.db.ondigitalocean\n",
    "# port= 25060\n",
    "# database = defaultdb\n",
    "# sslmode = REQIRED\n"
   ]
  },
  {
   "cell_type": "code",
   "execution_count": 4,
   "id": "geological-operations",
   "metadata": {},
   "outputs": [],
   "source": [
    "import pymysql.cursors\n",
    "# !pip install cryptography"
   ]
  },
  {
   "cell_type": "code",
   "execution_count": 7,
   "id": "international-allen",
   "metadata": {},
   "outputs": [],
   "source": [
    "def connect():\n",
    "    connection =pymysql.connect(host='class-sql-db-do-user-4304571-0.b.db.ondigitalocean.com',\n",
    "                                user='doadmin',\n",
    "                               password='u2tyggh85a814r0h',\n",
    "                               database='liberty',\n",
    "                               cursorclass=pymysql.cursors.DictCursor,\n",
    "                               port= 25060)\n",
    "    return connection"
   ]
  },
  {
   "cell_type": "code",
   "execution_count": 10,
   "id": "inner-royal",
   "metadata": {},
   "outputs": [],
   "source": [
    "connection = connect()\n",
    "with connection.cursor() as cursor:\n",
    "    \n",
    "    sql = \"\"\"\n",
    "            CREATE TABLE `Lloyds` (\n",
    "                                `id` int(11) NOT NULL AUTO_INCREMENT,\n",
    "                                `email` varchar(255) COLLATE utf8_bin NOT NULL,\n",
    "                                `password` varchar(255) COLLATE utf8_bin NOT NULL,\n",
    "                                PRIMARY KEY (`id`)\n",
    "                                ) ENGINE=InnoDB DEFAULT CHARSET=utf8mb4 COLLATE=utf8mb4_bin\n",
    "                                AUTO_INCREMENT=1 ;\n",
    "        \"\"\"\n",
    "    cursor.execute(sql)\n",
    "    connection.commit()\n",
    "        "
   ]
  },
  {
   "cell_type": "code",
   "execution_count": 27,
   "id": "regulated-interval",
   "metadata": {},
   "outputs": [],
   "source": [
    "connection= connect()\n",
    "with connection.cursor()as cursor:\n",
    "    sql=\"INSERT INTO  `Lloyds`(`email`, `password`) VALUES ('samuel@univelcity.edu','harde')\"\n",
    "    cursor.execute(sql)\n",
    "    connection.commit()\n",
    "    "
   ]
  },
  {
   "cell_type": "code",
   "execution_count": 28,
   "id": "fitting-limitation",
   "metadata": {},
   "outputs": [
    {
     "name": "stdout",
     "output_type": "stream",
     "text": [
      "[{'id': 1, 'email': 'samuel@univelcity.edu', 'password': 'harde'}, {'id': 2, 'email': 'samuel@univelcity.edu', 'password': 'harde'}]\n"
     ]
    }
   ],
   "source": [
    "connection= connect()\n",
    "with connection.cursor()as cursor:\n",
    "    sql = \"SELECT *FROM `Lloyds`\"\n",
    "    cursor.execute(sql)\n",
    "    result= cursor.fetchall()\n",
    "    print(result)"
   ]
  },
  {
   "cell_type": "code",
   "execution_count": null,
   "id": "shaped-narrative",
   "metadata": {},
   "outputs": [],
   "source": []
  },
  {
   "cell_type": "code",
   "execution_count": null,
   "id": "technological-diversity",
   "metadata": {},
   "outputs": [],
   "source": []
  }
 ],
 "metadata": {
  "hide_input": false,
  "kernelspec": {
   "display_name": "Python 3",
   "language": "python",
   "name": "python3"
  },
  "language_info": {
   "codemirror_mode": {
    "name": "ipython",
    "version": 3
   },
   "file_extension": ".py",
   "mimetype": "text/x-python",
   "name": "python",
   "nbconvert_exporter": "python",
   "pygments_lexer": "ipython3",
   "version": "3.7.9"
  },
  "varInspector": {
   "cols": {
    "lenName": 16,
    "lenType": 16,
    "lenVar": 40
   },
   "kernels_config": {
    "python": {
     "delete_cmd_postfix": "",
     "delete_cmd_prefix": "del ",
     "library": "var_list.py",
     "varRefreshCmd": "print(var_dic_list())"
    },
    "r": {
     "delete_cmd_postfix": ") ",
     "delete_cmd_prefix": "rm(",
     "library": "var_list.r",
     "varRefreshCmd": "cat(var_dic_list()) "
    }
   },
   "types_to_exclude": [
    "module",
    "function",
    "builtin_function_or_method",
    "instance",
    "_Feature"
   ],
   "window_display": false
  }
 },
 "nbformat": 4,
 "nbformat_minor": 5
}
