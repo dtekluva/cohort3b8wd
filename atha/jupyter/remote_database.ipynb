{
 "cells": [
  {
   "cell_type": "code",
   "execution_count": 49,
   "metadata": {},
   "outputs": [],
   "source": [
    "import pymysql.cursors\n",
    "import pandas as pd"
   ]
  },
  {
   "cell_type": "code",
   "execution_count": 2,
   "metadata": {},
   "outputs": [
    {
     "ename": "SyntaxError",
     "evalue": "invalid syntax (<ipython-input-2-f915cb1dcb18>, line 1)",
     "output_type": "error",
     "traceback": [
      "\u001b[1;36m  File \u001b[1;32m\"<ipython-input-2-f915cb1dcb18>\"\u001b[1;36m, line \u001b[1;32m1\u001b[0m\n\u001b[1;33m    CREATE TABLE `users` (\u001b[0m\n\u001b[1;37m               ^\u001b[0m\n\u001b[1;31mSyntaxError\u001b[0m\u001b[1;31m:\u001b[0m invalid syntax\n"
     ]
    }
   ],
   "source": [
    "CREATE TABLE `users` (\n",
    "    `id` int(11) NOT NULL AUTO_INCREMENT,\n",
    "    `email` varchar(255) COLLATE utf8_bin NOT NULL,\n",
    "    `password` varchar(255) COLLATE utf8_bin NOT NULL,\n",
    "    PRIMARY KEY (`id`)\n",
    ") ENGINE=InnoDB DEFAULT CHARSET=utf8mb4 COLLATE=utf8mb4_bin\n",
    "AUTO_INCREMENT=1 ;"
   ]
  },
  {
   "cell_type": "code",
   "execution_count": null,
   "metadata": {},
   "outputs": [],
   "source": [
    "username = doadmin\n",
    "password = u2tyggh85a814r0h hide\n",
    "host = class-sql-db-do-user-4304571-0.b.db.ondigitalocean.com\n",
    "port = 25060\n",
    "database = defaultdb\n",
    "sslmode = REQUIRED"
   ]
  },
  {
   "cell_type": "code",
   "execution_count": 50,
   "metadata": {},
   "outputs": [],
   "source": [
    "# Connect to the database\n",
    "def connect():\n",
    "    connection = pymysql.connect(host='class-sql-db-do-user-4304571-0.b.db.ondigitalocean.com',\n",
    "                                 user='doadmin',\n",
    "                                 password='u2tyggh85a814r0h',\n",
    "                                 database='liberty',\n",
    "                                 cursorclass=pymysql.cursors.DictCursor,\n",
    "                                 port= 25060)\n",
    "    return connection"
   ]
  },
  {
   "cell_type": "code",
   "execution_count": 54,
   "metadata": {},
   "outputs": [],
   "source": [
    "# Connect to the for second database created\n",
    "def connect():\n",
    "    connection = pymysql.connect(host='165.22.7.9',\n",
    "                                 user='monty',\n",
    "                                 password='@1Univel',\n",
    "                                 database='liberty',\n",
    "                                 cursorclass=pymysql.cursors.DictCursor)\n",
    "    return connection"
   ]
  },
  {
   "cell_type": "code",
   "execution_count": 57,
   "metadata": {},
   "outputs": [],
   "source": [
    "connection = connect()\n",
    "\n",
    "with connection.cursor() as cursor:\n",
    "    # Create a new table\n",
    "\n",
    "    sql = \"\"\"\n",
    "            CREATE TABLE `users` (\n",
    "                                    `id` int(11) NOT NULL AUTO_INCREMENT,\n",
    "                                    `email` varchar(255) COLLATE utf8_bin NOT NULL,\n",
    "                                    `password` varchar(255) COLLATE utf8_bin NOT NULL,\n",
    "                                    PRIMARY KEY (`id`)\n",
    "                                    ) ENGINE=InnoDB DEFAULT CHARSET=utf8mb4 COLLATE=utf8mb4_bin\n",
    "                                    AUTO_INCREMENT=1 ;\n",
    "            \"\"\"\n",
    "    cursor.execute(sql)\n",
    "\n",
    "# connection is not autocommit by default. So you must commit to save\n",
    "# your changes.\n",
    "    connection.commit()"
   ]
  },
  {
   "cell_type": "code",
   "execution_count": 58,
   "metadata": {},
   "outputs": [],
   "source": [
    "connection = connect()\n",
    "with connection.cursor() as cursor:\n",
    "    # Create a new record\n",
    "\n",
    "    sql = \"INSERT INTO `users` (`email`, `password`) VALUES ('samuel@univel.edu', 'hardcode')\"\n",
    "    cursor.execute(sql)\n",
    "\n",
    "    connection.commit()"
   ]
  },
  {
   "cell_type": "code",
   "execution_count": 48,
   "metadata": {},
   "outputs": [
    {
     "name": "stdout",
     "output_type": "stream",
     "text": [
      "[{'id': 1, 'email': 'vinchy@libertytech.com', 'password': 'pythonister1'}, {'id': 2, 'email': 'vinchy@libertytech.com', 'password': 'pythonister1123'}, {'id': 3, 'email': 'lolu-dave@libertytech.com', 'password': 'pythonister54321'}]\n"
     ]
    }
   ],
   "source": [
    "connection = connect()\n",
    "\n",
    "with connection.cursor() as cursor:\n",
    "    # Read a single record\n",
    "    sql = \"SELECT * FROM `vinchy`\"\n",
    "    cursor.execute(sql)\n",
    "    result = cursor.fetchall()\n",
    "    print(result)"
   ]
  },
  {
   "cell_type": "code",
   "execution_count": null,
   "metadata": {},
   "outputs": [],
   "source": []
  }
 ],
 "metadata": {
  "hide_input": false,
  "kernelspec": {
   "display_name": "Python 3",
   "language": "python",
   "name": "python3"
  },
  "language_info": {
   "codemirror_mode": {
    "name": "ipython",
    "version": 3
   },
   "file_extension": ".py",
   "mimetype": "text/x-python",
   "name": "python",
   "nbconvert_exporter": "python",
   "pygments_lexer": "ipython3",
   "version": "3.7.9"
  },
  "toc": {
   "base_numbering": 1,
   "nav_menu": {},
   "number_sections": true,
   "sideBar": true,
   "skip_h1_title": false,
   "title_cell": "Table of Contents",
   "title_sidebar": "Contents",
   "toc_cell": false,
   "toc_position": {},
   "toc_section_display": true,
   "toc_window_display": false
  },
  "varInspector": {
   "cols": {
    "lenName": 16,
    "lenType": 16,
    "lenVar": 40
   },
   "kernels_config": {
    "python": {
     "delete_cmd_postfix": "",
     "delete_cmd_prefix": "del ",
     "library": "var_list.py",
     "varRefreshCmd": "print(var_dic_list())"
    },
    "r": {
     "delete_cmd_postfix": ") ",
     "delete_cmd_prefix": "rm(",
     "library": "var_list.r",
     "varRefreshCmd": "cat(var_dic_list()) "
    }
   },
   "types_to_exclude": [
    "module",
    "function",
    "builtin_function_or_method",
    "instance",
    "_Feature"
   ],
   "window_display": false
  }
 },
 "nbformat": 4,
 "nbformat_minor": 4
}
