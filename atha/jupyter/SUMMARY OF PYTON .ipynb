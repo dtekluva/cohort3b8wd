{
 "cells": [
  {
   "cell_type": "markdown",
   "id": "sunset-gossip",
   "metadata": {},
   "source": [
    "# Assignment 1"
   ]
  },
  {
   "cell_type": "code",
   "execution_count": 23,
   "id": "exceptional-winner",
   "metadata": {},
   "outputs": [
    {
     "name": "stdout",
     "output_type": "stream",
     "text": [
      "[0, 1, 2, 3, 4, 5, 6, 7, 8, 9, 10, 11, 12, 13, 14, 15, 16, 17, 18, 19, 20]\n",
      "[5, 6, 7, 8, 9, 10, 11, 12, 13, 14, 15]\n"
     ]
    }
   ],
   "source": [
    "my_list=list(range(21))\n",
    "print(my_list)\n",
    "my_slice= my_list[5:16]\n",
    "print(my_slice)"
   ]
  },
  {
   "cell_type": "code",
   "execution_count": 21,
   "id": "equal-group",
   "metadata": {},
   "outputs": [
    {
     "name": "stdout",
     "output_type": "stream",
     "text": [
      "10\n",
      "[0, 4, 8, 12, 16, 20]\n"
     ]
    }
   ],
   "source": [
    "print(my_list[10])\n",
    "my_slice = my_list[0:21:4] #first number indicate the starting point of the slice and second number tells the range of numbers \n",
    "#to be slide and the last number is the interval between each number in the sliced list\n",
    "print(my_slice)"
   ]
  },
  {
   "cell_type": "code",
   "execution_count": 25,
   "id": "hindu-copyright",
   "metadata": {},
   "outputs": [
    {
     "data": {
      "text/plain": [
       "[2, 3, 4, 5, 6, 7, 8, 9]"
      ]
     },
     "execution_count": 25,
     "metadata": {},
     "output_type": "execute_result"
    }
   ],
   "source": [
    "my_slice = my_list[2:10]\n",
    "my_slice"
   ]
  },
  {
   "cell_type": "markdown",
   "id": "furnished-infrared",
   "metadata": {},
   "source": [
    "# test \n"
   ]
  },
  {
   "cell_type": "code",
   "execution_count": 28,
   "id": "foster-collar",
   "metadata": {},
   "outputs": [
    {
     "name": "stdout",
     "output_type": "stream",
     "text": [
      "[0, 1, 2, 3, 4, 5, 6, 7, 8, 9, 10, 11, 12, 13, 14, 15, 16, 17, 18, 19, 20, 21, 22, 23, 24]\n"
     ]
    }
   ],
   "source": [
    "segun = list(range(25))\n",
    "print(segun)"
   ]
  },
  {
   "cell_type": "code",
   "execution_count": 32,
   "id": "rising-distribution",
   "metadata": {},
   "outputs": [
    {
     "data": {
      "text/plain": [
       "[0, 3, 6, 9, 12]"
      ]
     },
     "execution_count": 32,
     "metadata": {},
     "output_type": "execute_result"
    }
   ],
   "source": [
    "sliced = segun[0:15:3]\n",
    "\n",
    "sliced"
   ]
  },
  {
   "cell_type": "code",
   "execution_count": 35,
   "id": "western-mouse",
   "metadata": {},
   "outputs": [
    {
     "name": "stdout",
     "output_type": "stream",
     "text": [
      "23\n",
      "45\n"
     ]
    }
   ],
   "source": [
    "[ade, jonah, seun] = [23, 45, 66]\n",
    "print(ade)\n",
    "print(jonah)"
   ]
  },
  {
   "cell_type": "code",
   "execution_count": 45,
   "id": "cardiovascular-delta",
   "metadata": {},
   "outputs": [
    {
     "name": "stdout",
     "output_type": "stream",
     "text": [
      "7 2 5 4\n"
     ]
    }
   ],
   "source": [
    "[p,g,t,u]=[7,2,5,4]\n",
    "print(p,g,t,u)"
   ]
  },
  {
   "cell_type": "markdown",
   "id": "optimum-israeli",
   "metadata": {},
   "source": [
    "# len min max functions test\n"
   ]
  },
  {
   "cell_type": "code",
   "execution_count": 51,
   "id": "radical-effort",
   "metadata": {},
   "outputs": [
    {
     "name": "stdout",
     "output_type": "stream",
     "text": [
      "6\n",
      "eyes\n",
      "toes\n"
     ]
    }
   ],
   "source": [
    "my_list=['head', 'tail', 'shoulder', 'kneel', 'toes', 'eyes']\n",
    "lenght=len(my_list)\n",
    "print(lenght)\n",
    "mini=min(my_list)\n",
    "print(mini)\n",
    "maxi=max(my_list)\n",
    "print(maxi)"
   ]
  },
  {
   "cell_type": "code",
   "execution_count": 53,
   "id": "parental-advocacy",
   "metadata": {},
   "outputs": [
    {
     "name": "stdout",
     "output_type": "stream",
     "text": [
      "baz\n",
      "5\n",
      "a\n",
      "ccc\n",
      "['bb', ['ccc', 'ddd'], 'ee', 'ff']\n",
      "ccc\n",
      "g\n",
      "ccc\n",
      "['hh', 'ii']\n",
      "ccc\n",
      "j\n",
      "ccc\n"
     ]
    }
   ],
   "source": [
    "print(['foo', 'bar', 'baz', 'qux', 'quux', 'corge'][2])\n",
    "x = ['a', ['bb', ['ccc', 'ddd'], 'ee', 'ff'], 'g', ['hh', 'ii'], 'j']\n",
    "\n",
    "print(len(x))\n",
    "for i in x:\n",
    "     print(i)\n",
    "     print(x[1][1][0])"
   ]
  },
  {
   "cell_type": "code",
   "execution_count": 56,
   "id": "subject-constitutional",
   "metadata": {},
   "outputs": [
    {
     "name": "stdout",
     "output_type": "stream",
     "text": [
      "['a', ['bb', ['ccc', 'ddd'], 'ee', 'ff'], [2, 3, 4, 'as'], ['hh', 'ii'], 'j']\n"
     ]
    }
   ],
   "source": [
    "x[2] = [2,3,4,\"as\"] # this will replace g in our list with the list on the left hand side\n",
    "print(x)\n"
   ]
  },
  {
   "cell_type": "code",
   "execution_count": null,
   "id": "corporate-buffalo",
   "metadata": {},
   "outputs": [],
   "source": []
  }
 ],
 "metadata": {
  "hide_input": false,
  "kernelspec": {
   "display_name": "Python 3",
   "language": "python",
   "name": "python3"
  },
  "language_info": {
   "codemirror_mode": {
    "name": "ipython",
    "version": 3
   },
   "file_extension": ".py",
   "mimetype": "text/x-python",
   "name": "python",
   "nbconvert_exporter": "python",
   "pygments_lexer": "ipython3",
   "version": "3.7.9"
  },
  "varInspector": {
   "cols": {
    "lenName": 16,
    "lenType": 16,
    "lenVar": 40
   },
   "kernels_config": {
    "python": {
     "delete_cmd_postfix": "",
     "delete_cmd_prefix": "del ",
     "library": "var_list.py",
     "varRefreshCmd": "print(var_dic_list())"
    },
    "r": {
     "delete_cmd_postfix": ") ",
     "delete_cmd_prefix": "rm(",
     "library": "var_list.r",
     "varRefreshCmd": "cat(var_dic_list()) "
    }
   },
   "types_to_exclude": [
    "module",
    "function",
    "builtin_function_or_method",
    "instance",
    "_Feature"
   ],
   "window_display": false
  }
 },
 "nbformat": 4,
 "nbformat_minor": 5
}
