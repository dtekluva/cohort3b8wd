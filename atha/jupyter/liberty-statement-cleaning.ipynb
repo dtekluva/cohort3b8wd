{
 "cells": [
  {
   "cell_type": "code",
   "execution_count": 29,
   "metadata": {
    "ExecuteTime": {
     "end_time": "2021-04-12T14:11:49.282337Z",
     "start_time": "2021-04-12T14:11:49.263776Z"
    }
   },
   "outputs": [],
   "source": [
    "import pandas as pd"
   ]
  },
  {
   "cell_type": "code",
   "execution_count": 27,
   "metadata": {
    "ExecuteTime": {
     "end_time": "2021-04-12T14:07:17.990476Z",
     "start_time": "2021-04-12T14:07:17.941173Z"
    }
   },
   "outputs": [],
   "source": [
    "file = open(\"account_stmt_01May2020_09Apr2021.csv\", \"r\")\n",
    "data = file.readlines()\n",
    "data.pop(0)\n",
    "heading = data.pop(0)"
   ]
  },
  {
   "cell_type": "code",
   "execution_count": 12,
   "metadata": {
    "ExecuteTime": {
     "end_time": "2021-04-12T13:52:30.497921Z",
     "start_time": "2021-04-12T13:52:30.494913Z"
    }
   },
   "outputs": [],
   "source": [
    "for line in data: # quick review\n",
    "    if len(line.split(\",\")) > 7:\n",
    "        print(len(line.split(\",\")))\n",
    "        print(line)"
   ]
  },
  {
   "cell_type": "code",
   "execution_count": 21,
   "metadata": {
    "ExecuteTime": {
     "end_time": "2021-04-12T14:00:43.723353Z",
     "start_time": "2021-04-12T14:00:43.719355Z"
    }
   },
   "outputs": [],
   "source": [
    "# for line in data:\n",
    "#     splitted_line = line.split(\",\")\n",
    "#     if len(splitted_line) > 7:\n",
    "#         middle = splitted_line[3:-3]\n",
    "#         reformatted_middle = \" \".join(middle)\n",
    "#         print(reformatted_middle)"
   ]
  },
  {
   "cell_type": "code",
   "execution_count": 26,
   "metadata": {
    "ExecuteTime": {
     "end_time": "2021-04-12T14:06:06.539585Z",
     "start_time": "2021-04-12T14:06:06.535584Z"
    }
   },
   "outputs": [],
   "source": [
    "# for line in data:\n",
    "#     splitted_line = line.split(\",\")\n",
    "#     if len(splitted_line) > 7:\n",
    "#         middle = splitted_line[3:-3]\n",
    "#         reformatted_middle = \" \".join(middle)\n",
    "        \n",
    "#         splitted_line[3:-3] = [reformatted_middle]\n",
    "#         print(splitted_line)"
   ]
  },
  {
   "cell_type": "code",
   "execution_count": 28,
   "metadata": {
    "ExecuteTime": {
     "end_time": "2021-04-12T14:09:54.971896Z",
     "start_time": "2021-04-12T14:09:54.851307Z"
    }
   },
   "outputs": [],
   "source": [
    "file = open(\"account_stmt_01May2020_09Apr2021_clean.csv\", \"w\")\n",
    "file.write(heading)\n",
    "\n",
    "for line in data:\n",
    "    splitted_line = line.split(\",\")\n",
    "    if len(splitted_line) > 7:\n",
    "        middle = splitted_line[3:-3]\n",
    "        reformatted_middle = \" \".join(middle)\n",
    "        \n",
    "        splitted_line[3:-3] = [reformatted_middle]\n",
    "    \n",
    "    file.write(\",\".join(splitted_line))\n",
    "file.close()"
   ]
  }
 ],
 "metadata": {
  "hide_input": false,
  "kernelspec": {
   "display_name": "Python 3",
   "language": "python",
   "name": "python3"
  },
  "language_info": {
   "codemirror_mode": {
    "name": "ipython",
    "version": 3
   },
   "file_extension": ".py",
   "mimetype": "text/x-python",
   "name": "python",
   "nbconvert_exporter": "python",
   "pygments_lexer": "ipython3",
   "version": "3.7.9"
  },
  "toc": {
   "base_numbering": 1,
   "nav_menu": {},
   "number_sections": true,
   "sideBar": true,
   "skip_h1_title": false,
   "title_cell": "Table of Contents",
   "title_sidebar": "Contents",
   "toc_cell": false,
   "toc_position": {},
   "toc_section_display": true,
   "toc_window_display": false
  },
  "varInspector": {
   "cols": {
    "lenName": 16,
    "lenType": 16,
    "lenVar": 40
   },
   "kernels_config": {
    "python": {
     "delete_cmd_postfix": "",
     "delete_cmd_prefix": "del ",
     "library": "var_list.py",
     "varRefreshCmd": "print(var_dic_list())"
    },
    "r": {
     "delete_cmd_postfix": ") ",
     "delete_cmd_prefix": "rm(",
     "library": "var_list.r",
     "varRefreshCmd": "cat(var_dic_list()) "
    }
   },
   "types_to_exclude": [
    "module",
    "function",
    "builtin_function_or_method",
    "instance",
    "_Feature"
   ],
   "window_display": false
  }
 },
 "nbformat": 4,
 "nbformat_minor": 4
}
