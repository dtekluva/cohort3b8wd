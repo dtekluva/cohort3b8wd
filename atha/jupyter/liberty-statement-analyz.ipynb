{
 "cells": [
  {
   "cell_type": "code",
   "execution_count": 2,
   "metadata": {
    "ExecuteTime": {
     "end_time": "2021-04-12T14:13:17.240156Z",
     "start_time": "2021-04-12T14:13:17.236165Z"
    }
   },
   "outputs": [],
   "source": [
    "import pandas as pd"
   ]
  },
  {
   "cell_type": "code",
   "execution_count": 4,
   "metadata": {
    "ExecuteTime": {
     "end_time": "2021-04-12T14:15:11.926222Z",
     "start_time": "2021-04-12T14:15:11.822319Z"
    }
   },
   "outputs": [],
   "source": [
    "data = pd.read_csv(\"account_stmt_01May2020_09Apr2021_clean.csv\")"
   ]
  },
  {
   "cell_type": "code",
   "execution_count": 5,
   "metadata": {
    "ExecuteTime": {
     "end_time": "2021-04-12T14:15:20.505077Z",
     "start_time": "2021-04-12T14:15:20.480076Z"
    }
   },
   "outputs": [
    {
     "data": {
      "text/html": [
       "<div>\n",
       "<style scoped>\n",
       "    .dataframe tbody tr th:only-of-type {\n",
       "        vertical-align: middle;\n",
       "    }\n",
       "\n",
       "    .dataframe tbody tr th {\n",
       "        vertical-align: top;\n",
       "    }\n",
       "\n",
       "    .dataframe thead th {\n",
       "        text-align: right;\n",
       "    }\n",
       "</style>\n",
       "<table border=\"1\" class=\"dataframe\">\n",
       "  <thead>\n",
       "    <tr style=\"text-align: right;\">\n",
       "      <th></th>\n",
       "      <th>S/N</th>\n",
       "      <th>POSTING DATE</th>\n",
       "      <th>VALUE DATE</th>\n",
       "      <th>DESCRIPTION</th>\n",
       "      <th>DEBIT</th>\n",
       "      <th>CREDIT</th>\n",
       "      <th>BALANCE</th>\n",
       "    </tr>\n",
       "  </thead>\n",
       "  <tbody>\n",
       "    <tr>\n",
       "      <th>0</th>\n",
       "      <td>1</td>\n",
       "      <td>01 May 2020</td>\n",
       "      <td>01 May 2020</td>\n",
       "      <td>SMS ALERT CHARGE 0032258717/03-APR-20/NGN/00...</td>\n",
       "      <td>5.38</td>\n",
       "      <td>0.0</td>\n",
       "      <td>1738164.96</td>\n",
       "    </tr>\n",
       "    <tr>\n",
       "      <th>1</th>\n",
       "      <td>2</td>\n",
       "      <td>01 May 2020</td>\n",
       "      <td>30 Apr 2020</td>\n",
       "      <td>PSL 99999999 000000010265 DR 20200501003756 ...</td>\n",
       "      <td>2104.00</td>\n",
       "      <td>0.0</td>\n",
       "      <td>1736060.96</td>\n",
       "    </tr>\n",
       "    <tr>\n",
       "      <th>2</th>\n",
       "      <td>3</td>\n",
       "      <td>01 May 2020</td>\n",
       "      <td>01 May 2020</td>\n",
       "      <td>090175200501115302050135995695 RBX_013858091...</td>\n",
       "      <td>0.00</td>\n",
       "      <td>30000.0</td>\n",
       "      <td>1766060.96</td>\n",
       "    </tr>\n",
       "    <tr>\n",
       "      <th>3</th>\n",
       "      <td>4</td>\n",
       "      <td>01 May 2020</td>\n",
       "      <td>01 May 2020</td>\n",
       "      <td>PSL 10582321 000000004933 DR 20200501132619 ...</td>\n",
       "      <td>0.00</td>\n",
       "      <td>70000.0</td>\n",
       "      <td>1836060.96</td>\n",
       "    </tr>\n",
       "    <tr>\n",
       "      <th>4</th>\n",
       "      <td>5</td>\n",
       "      <td>01 May 2020</td>\n",
       "      <td>01 May 2020</td>\n",
       "      <td>Org. Amt: 70000 20200501_S52682184_   2_NG15...</td>\n",
       "      <td>50.00</td>\n",
       "      <td>0.0</td>\n",
       "      <td>1836010.96</td>\n",
       "    </tr>\n",
       "    <tr>\n",
       "      <th>...</th>\n",
       "      <td>...</td>\n",
       "      <td>...</td>\n",
       "      <td>...</td>\n",
       "      <td>...</td>\n",
       "      <td>...</td>\n",
       "      <td>...</td>\n",
       "      <td>...</td>\n",
       "    </tr>\n",
       "    <tr>\n",
       "      <th>23384</th>\n",
       "      <td>23385</td>\n",
       "      <td>09 Apr 2021</td>\n",
       "      <td>09 Apr 2021</td>\n",
       "      <td>REMITA RBX_GY2045811QN-_REMITA_94775432272 H...</td>\n",
       "      <td>0.00</td>\n",
       "      <td>14000.0</td>\n",
       "      <td>15456253.26</td>\n",
       "    </tr>\n",
       "    <tr>\n",
       "      <th>23385</th>\n",
       "      <td>23386</td>\n",
       "      <td>09 Apr 2021</td>\n",
       "      <td>09 Apr 2021</td>\n",
       "      <td>000015210409100500001637210258 RBX_-AUGUSTA ...</td>\n",
       "      <td>0.00</td>\n",
       "      <td>9310.0</td>\n",
       "      <td>15465563.26</td>\n",
       "    </tr>\n",
       "    <tr>\n",
       "      <th>23386</th>\n",
       "      <td>23387</td>\n",
       "      <td>09 Apr 2021</td>\n",
       "      <td>09 Apr 2021</td>\n",
       "      <td>payment:CBN RBX_4L336777H9B-_REMITA_94774036...</td>\n",
       "      <td>0.00</td>\n",
       "      <td>23940.0</td>\n",
       "      <td>15489503.26</td>\n",
       "    </tr>\n",
       "    <tr>\n",
       "      <th>23387</th>\n",
       "      <td>23388</td>\n",
       "      <td>09 Apr 2021</td>\n",
       "      <td>09 Apr 2021</td>\n",
       "      <td>N:95288070- RBX_V8G36800J46-_REMITA_94776019...</td>\n",
       "      <td>0.00</td>\n",
       "      <td>22610.0</td>\n",
       "      <td>15512113.26</td>\n",
       "    </tr>\n",
       "    <tr>\n",
       "      <th>23388</th>\n",
       "      <td>23389</td>\n",
       "      <td>09 Apr 2021</td>\n",
       "      <td>09 Apr 2021</td>\n",
       "      <td>000016210409103323000063141687 RBX_-CHISOM A...</td>\n",
       "      <td>0.00</td>\n",
       "      <td>6000.0</td>\n",
       "      <td>15518113.26</td>\n",
       "    </tr>\n",
       "  </tbody>\n",
       "</table>\n",
       "<p>23389 rows × 7 columns</p>\n",
       "</div>"
      ],
      "text/plain": [
       "         S/N  POSTING DATE    VALUE DATE  \\\n",
       "0          1   01 May 2020   01 May 2020   \n",
       "1          2   01 May 2020   30 Apr 2020   \n",
       "2          3   01 May 2020   01 May 2020   \n",
       "3          4   01 May 2020   01 May 2020   \n",
       "4          5   01 May 2020   01 May 2020   \n",
       "...      ...           ...           ...   \n",
       "23384  23385   09 Apr 2021   09 Apr 2021   \n",
       "23385  23386   09 Apr 2021   09 Apr 2021   \n",
       "23386  23387   09 Apr 2021   09 Apr 2021   \n",
       "23387  23388   09 Apr 2021   09 Apr 2021   \n",
       "23388  23389   09 Apr 2021   09 Apr 2021   \n",
       "\n",
       "                                             DESCRIPTION    DEBIT   CREDIT  \\\n",
       "0        SMS ALERT CHARGE 0032258717/03-APR-20/NGN/00...     5.38      0.0   \n",
       "1        PSL 99999999 000000010265 DR 20200501003756 ...  2104.00      0.0   \n",
       "2        090175200501115302050135995695 RBX_013858091...     0.00  30000.0   \n",
       "3        PSL 10582321 000000004933 DR 20200501132619 ...     0.00  70000.0   \n",
       "4        Org. Amt: 70000 20200501_S52682184_   2_NG15...    50.00      0.0   \n",
       "...                                                  ...      ...      ...   \n",
       "23384    REMITA RBX_GY2045811QN-_REMITA_94775432272 H...     0.00  14000.0   \n",
       "23385    000015210409100500001637210258 RBX_-AUGUSTA ...     0.00   9310.0   \n",
       "23386    payment:CBN RBX_4L336777H9B-_REMITA_94774036...     0.00  23940.0   \n",
       "23387    N:95288070- RBX_V8G36800J46-_REMITA_94776019...     0.00  22610.0   \n",
       "23388    000016210409103323000063141687 RBX_-CHISOM A...     0.00   6000.0   \n",
       "\n",
       "           BALANCE  \n",
       "0       1738164.96  \n",
       "1       1736060.96  \n",
       "2       1766060.96  \n",
       "3       1836060.96  \n",
       "4       1836010.96  \n",
       "...            ...  \n",
       "23384  15456253.26  \n",
       "23385  15465563.26  \n",
       "23386  15489503.26  \n",
       "23387  15512113.26  \n",
       "23388  15518113.26  \n",
       "\n",
       "[23389 rows x 7 columns]"
      ]
     },
     "execution_count": 5,
     "metadata": {},
     "output_type": "execute_result"
    }
   ],
   "source": [
    "data"
   ]
  },
  {
   "cell_type": "code",
   "execution_count": 12,
   "metadata": {
    "ExecuteTime": {
     "end_time": "2021-04-12T14:18:18.280481Z",
     "start_time": "2021-04-12T14:18:18.249483Z"
    }
   },
   "outputs": [],
   "source": [
    "payday_mask = data[\" DESCRIPTION\"].str.contains(\"PayDay\")\n",
    "payday = data[payday_mask]"
   ]
  },
  {
   "cell_type": "code",
   "execution_count": 15,
   "metadata": {
    "ExecuteTime": {
     "end_time": "2021-04-12T14:25:11.794601Z",
     "start_time": "2021-04-12T14:25:11.788598Z"
    }
   },
   "outputs": [
    {
     "data": {
      "text/plain": [
       "'  payment:CBN RBX_M7A82554LH7-_REMITA_93991536790 HERBERT MACAULAY R-399153679/Central Ba:140399153471-PayDay-LoanRe'"
      ]
     },
     "execution_count": 15,
     "metadata": {},
     "output_type": "execute_result"
    }
   ],
   "source": [
    "payday.loc[389][\" DESCRIPTION\"]"
   ]
  },
  {
   "cell_type": "code",
   "execution_count": 36,
   "metadata": {
    "ExecuteTime": {
     "end_time": "2021-04-12T14:39:11.453312Z",
     "start_time": "2021-04-12T14:39:11.409308Z"
    }
   },
   "outputs": [
    {
     "name": "stderr",
     "output_type": "stream",
     "text": [
      "c:\\users\\kboys\\appdata\\local\\programs\\python\\python37\\lib\\site-packages\\ipykernel_launcher.py:1: SettingWithCopyWarning: \n",
      "A value is trying to be set on a copy of a slice from a DataFrame.\n",
      "Try using .loc[row_indexer,col_indexer] = value instead\n",
      "\n",
      "See the caveats in the documentation: https://pandas.pydata.org/pandas-docs/stable/user_guide/indexing.html#returning-a-view-versus-a-copy\n",
      "  \"\"\"Entry point for launching an IPython kernel.\n"
     ]
    }
   ],
   "source": [
    "payday[\"mandates\"] = payday[\" DESCRIPTION\"].str.extract(r\":([0-9]*)-PayDay\")"
   ]
  },
  {
   "cell_type": "code",
   "execution_count": 37,
   "metadata": {
    "ExecuteTime": {
     "end_time": "2021-04-12T14:39:12.321572Z",
     "start_time": "2021-04-12T14:39:12.291573Z"
    }
   },
   "outputs": [
    {
     "data": {
      "text/html": [
       "<div>\n",
       "<style scoped>\n",
       "    .dataframe tbody tr th:only-of-type {\n",
       "        vertical-align: middle;\n",
       "    }\n",
       "\n",
       "    .dataframe tbody tr th {\n",
       "        vertical-align: top;\n",
       "    }\n",
       "\n",
       "    .dataframe thead th {\n",
       "        text-align: right;\n",
       "    }\n",
       "</style>\n",
       "<table border=\"1\" class=\"dataframe\">\n",
       "  <thead>\n",
       "    <tr style=\"text-align: right;\">\n",
       "      <th></th>\n",
       "      <th>S/N</th>\n",
       "      <th>POSTING DATE</th>\n",
       "      <th>VALUE DATE</th>\n",
       "      <th>DESCRIPTION</th>\n",
       "      <th>DEBIT</th>\n",
       "      <th>CREDIT</th>\n",
       "      <th>BALANCE</th>\n",
       "      <th>mandates</th>\n",
       "    </tr>\n",
       "  </thead>\n",
       "  <tbody>\n",
       "    <tr>\n",
       "      <th>389</th>\n",
       "      <td>390</td>\n",
       "      <td>27 May 2020</td>\n",
       "      <td>27 May 2020</td>\n",
       "      <td>payment:CBN RBX_M7A82554LH7-_REMITA_93991536...</td>\n",
       "      <td>0.0</td>\n",
       "      <td>37500.0</td>\n",
       "      <td>325963.21</td>\n",
       "      <td>140399153471</td>\n",
       "    </tr>\n",
       "    <tr>\n",
       "      <th>390</th>\n",
       "      <td>391</td>\n",
       "      <td>27 May 2020</td>\n",
       "      <td>27 May 2020</td>\n",
       "      <td>payment:CBN RBX_OV587353EP3-_REMITA_93991677...</td>\n",
       "      <td>0.0</td>\n",
       "      <td>62500.0</td>\n",
       "      <td>388463.21</td>\n",
       "      <td>100399164552</td>\n",
       "    </tr>\n",
       "    <tr>\n",
       "      <th>391</th>\n",
       "      <td>392</td>\n",
       "      <td>27 May 2020</td>\n",
       "      <td>27 May 2020</td>\n",
       "      <td>payment:CBN RBX_S45932323GP-_REMITA_93994542...</td>\n",
       "      <td>0.0</td>\n",
       "      <td>12500.0</td>\n",
       "      <td>400963.21</td>\n",
       "      <td>180399410793</td>\n",
       "    </tr>\n",
       "    <tr>\n",
       "      <th>401</th>\n",
       "      <td>402</td>\n",
       "      <td>27 May 2020</td>\n",
       "      <td>27 May 2020</td>\n",
       "      <td>payment:CBN RBX_9GB4487305V-_REMITA_93995553...</td>\n",
       "      <td>0.0</td>\n",
       "      <td>1.0</td>\n",
       "      <td>347860.45</td>\n",
       "      <td>100398324047</td>\n",
       "    </tr>\n",
       "    <tr>\n",
       "      <th>402</th>\n",
       "      <td>403</td>\n",
       "      <td>27 May 2020</td>\n",
       "      <td>27 May 2020</td>\n",
       "      <td>payment:CBN RBX_CZJ419839XQ-_REMITA_93995222...</td>\n",
       "      <td>0.0</td>\n",
       "      <td>1.0</td>\n",
       "      <td>347861.45</td>\n",
       "      <td>140399132228</td>\n",
       "    </tr>\n",
       "    <tr>\n",
       "      <th>...</th>\n",
       "      <td>...</td>\n",
       "      <td>...</td>\n",
       "      <td>...</td>\n",
       "      <td>...</td>\n",
       "      <td>...</td>\n",
       "      <td>...</td>\n",
       "      <td>...</td>\n",
       "      <td>...</td>\n",
       "    </tr>\n",
       "    <tr>\n",
       "      <th>23377</th>\n",
       "      <td>23378</td>\n",
       "      <td>09 Apr 2021</td>\n",
       "      <td>09 Apr 2021</td>\n",
       "      <td>payment:CBN RBX_S2N68818HIL-_REMITA_94774035...</td>\n",
       "      <td>0.0</td>\n",
       "      <td>6650.0</td>\n",
       "      <td>15318763.26</td>\n",
       "      <td>140464109257</td>\n",
       "    </tr>\n",
       "    <tr>\n",
       "      <th>23378</th>\n",
       "      <td>23379</td>\n",
       "      <td>09 Apr 2021</td>\n",
       "      <td>09 Apr 2021</td>\n",
       "      <td>payment:CBN RBX_NYC688355SL-_REMITA_94775338...</td>\n",
       "      <td>0.0</td>\n",
       "      <td>46550.0</td>\n",
       "      <td>15365313.26</td>\n",
       "      <td>110475914181</td>\n",
       "    </tr>\n",
       "    <tr>\n",
       "      <th>23379</th>\n",
       "      <td>23380</td>\n",
       "      <td>09 Apr 2021</td>\n",
       "      <td>09 Apr 2021</td>\n",
       "      <td>payment:CBN RBX_ZLH68802GE9-_REMITA_94774035...</td>\n",
       "      <td>0.0</td>\n",
       "      <td>77140.0</td>\n",
       "      <td>15442453.26</td>\n",
       "      <td>250463589673</td>\n",
       "    </tr>\n",
       "    <tr>\n",
       "      <th>23386</th>\n",
       "      <td>23387</td>\n",
       "      <td>09 Apr 2021</td>\n",
       "      <td>09 Apr 2021</td>\n",
       "      <td>payment:CBN RBX_4L336777H9B-_REMITA_94774036...</td>\n",
       "      <td>0.0</td>\n",
       "      <td>23940.0</td>\n",
       "      <td>15489503.26</td>\n",
       "      <td>180475706859</td>\n",
       "    </tr>\n",
       "    <tr>\n",
       "      <th>23387</th>\n",
       "      <td>23388</td>\n",
       "      <td>09 Apr 2021</td>\n",
       "      <td>09 Apr 2021</td>\n",
       "      <td>N:95288070- RBX_V8G36800J46-_REMITA_94776019...</td>\n",
       "      <td>0.0</td>\n",
       "      <td>22610.0</td>\n",
       "      <td>15512113.26</td>\n",
       "      <td>290466590511</td>\n",
       "    </tr>\n",
       "  </tbody>\n",
       "</table>\n",
       "<p>10062 rows × 8 columns</p>\n",
       "</div>"
      ],
      "text/plain": [
       "         S/N  POSTING DATE    VALUE DATE  \\\n",
       "389      390   27 May 2020   27 May 2020   \n",
       "390      391   27 May 2020   27 May 2020   \n",
       "391      392   27 May 2020   27 May 2020   \n",
       "401      402   27 May 2020   27 May 2020   \n",
       "402      403   27 May 2020   27 May 2020   \n",
       "...      ...           ...           ...   \n",
       "23377  23378   09 Apr 2021   09 Apr 2021   \n",
       "23378  23379   09 Apr 2021   09 Apr 2021   \n",
       "23379  23380   09 Apr 2021   09 Apr 2021   \n",
       "23386  23387   09 Apr 2021   09 Apr 2021   \n",
       "23387  23388   09 Apr 2021   09 Apr 2021   \n",
       "\n",
       "                                             DESCRIPTION   DEBIT   CREDIT  \\\n",
       "389      payment:CBN RBX_M7A82554LH7-_REMITA_93991536...     0.0  37500.0   \n",
       "390      payment:CBN RBX_OV587353EP3-_REMITA_93991677...     0.0  62500.0   \n",
       "391      payment:CBN RBX_S45932323GP-_REMITA_93994542...     0.0  12500.0   \n",
       "401      payment:CBN RBX_9GB4487305V-_REMITA_93995553...     0.0      1.0   \n",
       "402      payment:CBN RBX_CZJ419839XQ-_REMITA_93995222...     0.0      1.0   \n",
       "...                                                  ...     ...      ...   \n",
       "23377    payment:CBN RBX_S2N68818HIL-_REMITA_94774035...     0.0   6650.0   \n",
       "23378    payment:CBN RBX_NYC688355SL-_REMITA_94775338...     0.0  46550.0   \n",
       "23379    payment:CBN RBX_ZLH68802GE9-_REMITA_94774035...     0.0  77140.0   \n",
       "23386    payment:CBN RBX_4L336777H9B-_REMITA_94774036...     0.0  23940.0   \n",
       "23387    N:95288070- RBX_V8G36800J46-_REMITA_94776019...     0.0  22610.0   \n",
       "\n",
       "           BALANCE      mandates  \n",
       "389      325963.21  140399153471  \n",
       "390      388463.21  100399164552  \n",
       "391      400963.21  180399410793  \n",
       "401      347860.45  100398324047  \n",
       "402      347861.45  140399132228  \n",
       "...            ...           ...  \n",
       "23377  15318763.26  140464109257  \n",
       "23378  15365313.26  110475914181  \n",
       "23379  15442453.26  250463589673  \n",
       "23386  15489503.26  180475706859  \n",
       "23387  15512113.26  290466590511  \n",
       "\n",
       "[10062 rows x 8 columns]"
      ]
     },
     "execution_count": 37,
     "metadata": {},
     "output_type": "execute_result"
    }
   ],
   "source": [
    "payday"
   ]
  },
  {
   "cell_type": "code",
   "execution_count": 38,
   "metadata": {
    "ExecuteTime": {
     "end_time": "2021-04-12T14:40:41.119848Z",
     "start_time": "2021-04-12T14:40:41.105851Z"
    }
   },
   "outputs": [
    {
     "data": {
      "text/html": [
       "<div>\n",
       "<style scoped>\n",
       "    .dataframe tbody tr th:only-of-type {\n",
       "        vertical-align: middle;\n",
       "    }\n",
       "\n",
       "    .dataframe tbody tr th {\n",
       "        vertical-align: top;\n",
       "    }\n",
       "\n",
       "    .dataframe thead th {\n",
       "        text-align: right;\n",
       "    }\n",
       "</style>\n",
       "<table border=\"1\" class=\"dataframe\">\n",
       "  <thead>\n",
       "    <tr style=\"text-align: right;\">\n",
       "      <th></th>\n",
       "      <th>S/N</th>\n",
       "      <th>POSTING DATE</th>\n",
       "      <th>VALUE DATE</th>\n",
       "      <th>DESCRIPTION</th>\n",
       "      <th>DEBIT</th>\n",
       "      <th>CREDIT</th>\n",
       "      <th>BALANCE</th>\n",
       "      <th>mandates</th>\n",
       "    </tr>\n",
       "  </thead>\n",
       "  <tbody>\n",
       "  </tbody>\n",
       "</table>\n",
       "</div>"
      ],
      "text/plain": [
       "Empty DataFrame\n",
       "Columns: [S/N,  POSTING DATE,  VALUE DATE,  DESCRIPTION,  DEBIT,  CREDIT,  BALANCE, mandates]\n",
       "Index: []"
      ]
     },
     "execution_count": 38,
     "metadata": {},
     "output_type": "execute_result"
    }
   ],
   "source": [
    "payday[payday.mandates.isna()]#.to_csv(\"mandates.csv\") # CHECK FOR MISSING MADATES"
   ]
  },
  {
   "cell_type": "code",
   "execution_count": 44,
   "metadata": {
    "ExecuteTime": {
     "end_time": "2021-04-12T14:43:49.219641Z",
     "start_time": "2021-04-12T14:43:49.181632Z"
    }
   },
   "outputs": [],
   "source": [
    "summed_duplicates = payday.groupby(\"mandates\").sum().reset_index()"
   ]
  },
  {
   "cell_type": "code",
   "execution_count": 47,
   "metadata": {
    "ExecuteTime": {
     "end_time": "2021-04-12T14:44:34.622876Z",
     "start_time": "2021-04-12T14:44:34.600875Z"
    }
   },
   "outputs": [
    {
     "data": {
      "text/html": [
       "<div>\n",
       "<style scoped>\n",
       "    .dataframe tbody tr th:only-of-type {\n",
       "        vertical-align: middle;\n",
       "    }\n",
       "\n",
       "    .dataframe tbody tr th {\n",
       "        vertical-align: top;\n",
       "    }\n",
       "\n",
       "    .dataframe thead th {\n",
       "        text-align: right;\n",
       "    }\n",
       "</style>\n",
       "<table border=\"1\" class=\"dataframe\">\n",
       "  <thead>\n",
       "    <tr style=\"text-align: right;\">\n",
       "      <th></th>\n",
       "      <th>mandates</th>\n",
       "      <th>CREDIT</th>\n",
       "    </tr>\n",
       "  </thead>\n",
       "  <tbody>\n",
       "    <tr>\n",
       "      <th>0</th>\n",
       "      <td>100398324047</td>\n",
       "      <td>1.0</td>\n",
       "    </tr>\n",
       "    <tr>\n",
       "      <th>1</th>\n",
       "      <td>100399164552</td>\n",
       "      <td>62500.0</td>\n",
       "    </tr>\n",
       "    <tr>\n",
       "      <th>2</th>\n",
       "      <td>100399409615</td>\n",
       "      <td>6250.0</td>\n",
       "    </tr>\n",
       "    <tr>\n",
       "      <th>3</th>\n",
       "      <td>100399548879</td>\n",
       "      <td>1.0</td>\n",
       "    </tr>\n",
       "    <tr>\n",
       "      <th>4</th>\n",
       "      <td>100399548898</td>\n",
       "      <td>1.0</td>\n",
       "    </tr>\n",
       "    <tr>\n",
       "      <th>...</th>\n",
       "      <td>...</td>\n",
       "      <td>...</td>\n",
       "    </tr>\n",
       "    <tr>\n",
       "      <th>9599</th>\n",
       "      <td>350472119608</td>\n",
       "      <td>9310.0</td>\n",
       "    </tr>\n",
       "    <tr>\n",
       "      <th>9600</th>\n",
       "      <td>350472408038</td>\n",
       "      <td>5320.0</td>\n",
       "    </tr>\n",
       "    <tr>\n",
       "      <th>9601</th>\n",
       "      <td>350473057727</td>\n",
       "      <td>3990.0</td>\n",
       "    </tr>\n",
       "    <tr>\n",
       "      <th>9602</th>\n",
       "      <td>350474175008</td>\n",
       "      <td>12967.5</td>\n",
       "    </tr>\n",
       "    <tr>\n",
       "      <th>9603</th>\n",
       "      <td>350475500689</td>\n",
       "      <td>6650.0</td>\n",
       "    </tr>\n",
       "  </tbody>\n",
       "</table>\n",
       "<p>9604 rows × 2 columns</p>\n",
       "</div>"
      ],
      "text/plain": [
       "          mandates   CREDIT\n",
       "0     100398324047      1.0\n",
       "1     100399164552  62500.0\n",
       "2     100399409615   6250.0\n",
       "3     100399548879      1.0\n",
       "4     100399548898      1.0\n",
       "...            ...      ...\n",
       "9599  350472119608   9310.0\n",
       "9600  350472408038   5320.0\n",
       "9601  350473057727   3990.0\n",
       "9602  350474175008  12967.5\n",
       "9603  350475500689   6650.0\n",
       "\n",
       "[9604 rows x 2 columns]"
      ]
     },
     "execution_count": 47,
     "metadata": {},
     "output_type": "execute_result"
    }
   ],
   "source": [
    "summed_duplicates[[\"mandates\", \" CREDIT\"]]"
   ]
  },
  {
   "cell_type": "code",
   "execution_count": null,
   "metadata": {},
   "outputs": [],
   "source": []
  },
  {
   "cell_type": "code",
   "execution_count": null,
   "metadata": {},
   "outputs": [],
   "source": []
  },
  {
   "cell_type": "code",
   "execution_count": 51,
   "metadata": {
    "ExecuteTime": {
     "end_time": "2021-04-12T14:54:22.993283Z",
     "start_time": "2021-04-12T14:54:22.985280Z"
    }
   },
   "outputs": [],
   "source": [
    "def clean_file(file_name):\n",
    "\n",
    "    clean_file_name = f\"{file_name}_cleaned.csv\"\n",
    "\n",
    "    file = open(f\"{file_name}.csv\", \"r\")\n",
    "    data = file.readlines()\n",
    "    data.pop(0)\n",
    "    heading = data.pop(0)\n",
    "\n",
    "    file = open(clean_file_name, \"w\")\n",
    "    file.write(heading)\n",
    "\n",
    "    for line in data:\n",
    "        splitted_line = line.split(\",\")\n",
    "        if len(splitted_line) > 7:\n",
    "            middle = splitted_line[3:-3]\n",
    "            reformatted_middle = \" \".join(middle)\n",
    "\n",
    "            splitted_line[3:-3] = [reformatted_middle]\n",
    "\n",
    "        file.write(\",\".join(splitted_line))\n",
    "    file.close()\n",
    "    \n",
    "    return clean_file_name\n",
    "\n",
    "def extract_mandates(clean_file_name):\n",
    "    data = pd.read_csv(clean_file_name)\n",
    "\n",
    "    payday_mask = data[\" DESCRIPTION\"].str.contains(\"PayDay\")\n",
    "    payday = data[payday_mask]\n",
    "\n",
    "    payday[\"mandates\"] = payday[\" DESCRIPTION\"].str.extract(r\":([0-9]*)-PayDay\")\n",
    "\n",
    "    summed_duplicates = payday.groupby(\"mandates\").sum().reset_index()\n",
    "    \n",
    "    return summed_duplicates[[\"mandates\", \" CREDIT\"]]"
   ]
  },
  {
   "cell_type": "code",
   "execution_count": 55,
   "metadata": {
    "ExecuteTime": {
     "end_time": "2021-04-12T14:57:47.486342Z",
     "start_time": "2021-04-12T14:57:47.481346Z"
    }
   },
   "outputs": [],
   "source": []
  },
  {
   "cell_type": "code",
   "execution_count": 57,
   "metadata": {
    "ExecuteTime": {
     "end_time": "2021-04-12T14:58:52.309445Z",
     "start_time": "2021-04-12T14:58:52.024286Z"
    }
   },
   "outputs": [
    {
     "name": "stderr",
     "output_type": "stream",
     "text": [
      "c:\\users\\kboys\\appdata\\local\\programs\\python\\python37\\lib\\site-packages\\ipykernel_launcher.py:7: SettingWithCopyWarning: \n",
      "A value is trying to be set on a copy of a slice from a DataFrame.\n",
      "Try using .loc[row_indexer,col_indexer] = value instead\n",
      "\n",
      "See the caveats in the documentation: https://pandas.pydata.org/pandas-docs/stable/user_guide/indexing.html#returning-a-view-versus-a-copy\n",
      "  import sys\n"
     ]
    },
    {
     "data": {
      "text/html": [
       "<div>\n",
       "<style scoped>\n",
       "    .dataframe tbody tr th:only-of-type {\n",
       "        vertical-align: middle;\n",
       "    }\n",
       "\n",
       "    .dataframe tbody tr th {\n",
       "        vertical-align: top;\n",
       "    }\n",
       "\n",
       "    .dataframe thead th {\n",
       "        text-align: right;\n",
       "    }\n",
       "</style>\n",
       "<table border=\"1\" class=\"dataframe\">\n",
       "  <thead>\n",
       "    <tr style=\"text-align: right;\">\n",
       "      <th></th>\n",
       "      <th>mandates</th>\n",
       "      <th>CREDIT</th>\n",
       "    </tr>\n",
       "  </thead>\n",
       "  <tbody>\n",
       "    <tr>\n",
       "      <th>0</th>\n",
       "      <td>100398324047</td>\n",
       "      <td>1.0</td>\n",
       "    </tr>\n",
       "    <tr>\n",
       "      <th>1</th>\n",
       "      <td>100399164552</td>\n",
       "      <td>62500.0</td>\n",
       "    </tr>\n",
       "    <tr>\n",
       "      <th>2</th>\n",
       "      <td>100399409615</td>\n",
       "      <td>6250.0</td>\n",
       "    </tr>\n",
       "    <tr>\n",
       "      <th>3</th>\n",
       "      <td>100399548879</td>\n",
       "      <td>1.0</td>\n",
       "    </tr>\n",
       "    <tr>\n",
       "      <th>4</th>\n",
       "      <td>100399548898</td>\n",
       "      <td>1.0</td>\n",
       "    </tr>\n",
       "    <tr>\n",
       "      <th>...</th>\n",
       "      <td>...</td>\n",
       "      <td>...</td>\n",
       "    </tr>\n",
       "    <tr>\n",
       "      <th>9599</th>\n",
       "      <td>350472119608</td>\n",
       "      <td>9310.0</td>\n",
       "    </tr>\n",
       "    <tr>\n",
       "      <th>9600</th>\n",
       "      <td>350472408038</td>\n",
       "      <td>5320.0</td>\n",
       "    </tr>\n",
       "    <tr>\n",
       "      <th>9601</th>\n",
       "      <td>350473057727</td>\n",
       "      <td>3990.0</td>\n",
       "    </tr>\n",
       "    <tr>\n",
       "      <th>9602</th>\n",
       "      <td>350474175008</td>\n",
       "      <td>12967.5</td>\n",
       "    </tr>\n",
       "    <tr>\n",
       "      <th>9603</th>\n",
       "      <td>350475500689</td>\n",
       "      <td>6650.0</td>\n",
       "    </tr>\n",
       "  </tbody>\n",
       "</table>\n",
       "<p>9604 rows × 2 columns</p>\n",
       "</div>"
      ],
      "text/plain": [
       "          mandates   CREDIT\n",
       "0     100398324047      1.0\n",
       "1     100399164552  62500.0\n",
       "2     100399409615   6250.0\n",
       "3     100399548879      1.0\n",
       "4     100399548898      1.0\n",
       "...            ...      ...\n",
       "9599  350472119608   9310.0\n",
       "9600  350472408038   5320.0\n",
       "9601  350473057727   3990.0\n",
       "9602  350474175008  12967.5\n",
       "9603  350475500689   6650.0\n",
       "\n",
       "[9604 rows x 2 columns]"
      ]
     },
     "execution_count": 57,
     "metadata": {},
     "output_type": "execute_result"
    }
   ],
   "source": [
    "target_file_name = \"account_stmt_01May2020_09Apr2021\"\n",
    "extract_mandates(clean_file(target_file_name))"
   ]
  },
  {
   "cell_type": "code",
   "execution_count": null,
   "metadata": {},
   "outputs": [],
   "source": []
  }
 ],
 "metadata": {
  "hide_input": false,
  "kernelspec": {
   "display_name": "Python 3",
   "language": "python",
   "name": "python3"
  },
  "language_info": {
   "codemirror_mode": {
    "name": "ipython",
    "version": 3
   },
   "file_extension": ".py",
   "mimetype": "text/x-python",
   "name": "python",
   "nbconvert_exporter": "python",
   "pygments_lexer": "ipython3",
   "version": "3.7.9"
  },
  "toc": {
   "base_numbering": 1,
   "nav_menu": {},
   "number_sections": true,
   "sideBar": true,
   "skip_h1_title": false,
   "title_cell": "Table of Contents",
   "title_sidebar": "Contents",
   "toc_cell": false,
   "toc_position": {},
   "toc_section_display": true,
   "toc_window_display": false
  },
  "varInspector": {
   "cols": {
    "lenName": 16,
    "lenType": 16,
    "lenVar": 40
   },
   "kernels_config": {
    "python": {
     "delete_cmd_postfix": "",
     "delete_cmd_prefix": "del ",
     "library": "var_list.py",
     "varRefreshCmd": "print(var_dic_list())"
    },
    "r": {
     "delete_cmd_postfix": ") ",
     "delete_cmd_prefix": "rm(",
     "library": "var_list.r",
     "varRefreshCmd": "cat(var_dic_list()) "
    }
   },
   "types_to_exclude": [
    "module",
    "function",
    "builtin_function_or_method",
    "instance",
    "_Feature"
   ],
   "window_display": false
  }
 },
 "nbformat": 4,
 "nbformat_minor": 4
}
