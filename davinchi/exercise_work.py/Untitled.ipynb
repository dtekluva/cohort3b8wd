{
 "cells": [
  {
   "cell_type": "code",
   "execution_count": 314,
   "id": "irish-excitement",
   "metadata": {
    "ExecuteTime": {
     "end_time": "2021-04-23T14:26:58.023383Z",
     "start_time": "2021-04-23T14:26:58.012386Z"
    }
   },
   "outputs": [],
   "source": [
    "import os\n",
    "import pandas as pd\n",
    "import numpy as np\n"
   ]
  },
  {
   "cell_type": "code",
   "execution_count": 315,
   "id": "official-burns",
   "metadata": {
    "ExecuteTime": {
     "end_time": "2021-04-23T14:26:58.196379Z",
     "start_time": "2021-04-23T14:26:58.029386Z"
    }
   },
   "outputs": [],
   "source": [
    "pd.set_option('display.max_rows', 10)"
   ]
  },
  {
   "cell_type": "code",
   "execution_count": 316,
   "id": "secret-bride",
   "metadata": {
    "ExecuteTime": {
     "end_time": "2021-04-23T14:27:00.122278Z",
     "start_time": "2021-04-23T14:26:58.204374Z"
    }
   },
   "outputs": [
    {
     "data": {
      "text/html": [
       "<div>\n",
       "<style scoped>\n",
       "    .dataframe tbody tr th:only-of-type {\n",
       "        vertical-align: middle;\n",
       "    }\n",
       "\n",
       "    .dataframe tbody tr th {\n",
       "        vertical-align: top;\n",
       "    }\n",
       "\n",
       "    .dataframe thead tr th {\n",
       "        text-align: left;\n",
       "    }\n",
       "</style>\n",
       "<table border=\"1\" class=\"dataframe\">\n",
       "  <thead>\n",
       "    <tr>\n",
       "      <th></th>\n",
       "      <th>Employee Number</th>\n",
       "      <th>Employee Name</th>\n",
       "      <th>Ministry Name</th>\n",
       "      <th colspan=\"2\" halign=\"left\">Deduction Amount</th>\n",
       "      <th colspan=\"2\" halign=\"left\">Element Name</th>\n",
       "      <th colspan=\"2\" halign=\"left\">Macro1</th>\n",
       "      <th colspan=\"2\" halign=\"left\">Auto_Open</th>\n",
       "    </tr>\n",
       "    <tr>\n",
       "      <th></th>\n",
       "      <th></th>\n",
       "      <th></th>\n",
       "      <th></th>\n",
       "      <th>sum</th>\n",
       "      <th>count</th>\n",
       "      <th>sum</th>\n",
       "      <th>count</th>\n",
       "      <th>sum</th>\n",
       "      <th>count</th>\n",
       "      <th>sum</th>\n",
       "      <th>count</th>\n",
       "    </tr>\n",
       "  </thead>\n",
       "  <tbody>\n",
       "    <tr>\n",
       "      <th>0</th>\n",
       "      <td>2.0</td>\n",
       "      <td>BAMIKARERE, Mr. OLADELE ADEOLA</td>\n",
       "      <td>FEDERAL MINISTRY OF SCIENCE AND TECHNOLOGY</td>\n",
       "      <td>16524.62</td>\n",
       "      <td>2</td>\n",
       "      <td>LIBERTY ASSURED LIMITEDLIBERTY ASSURED LIMITED</td>\n",
       "      <td>2</td>\n",
       "      <td>0</td>\n",
       "      <td>0</td>\n",
       "      <td>0.0</td>\n",
       "      <td>0</td>\n",
       "    </tr>\n",
       "    <tr>\n",
       "      <th>1</th>\n",
       "      <td>5.0</td>\n",
       "      <td>ARINZE, Ms. ONYINYE CHIKA</td>\n",
       "      <td>NATIONAL POPULATION COMMISSION</td>\n",
       "      <td>101045.32</td>\n",
       "      <td>2</td>\n",
       "      <td>LIBERTY ASSURED LIMITEDLIBERTY ASSURED LIMITED</td>\n",
       "      <td>2</td>\n",
       "      <td>0</td>\n",
       "      <td>0</td>\n",
       "      <td>0.0</td>\n",
       "      <td>0</td>\n",
       "    </tr>\n",
       "    <tr>\n",
       "      <th>2</th>\n",
       "      <td>65.0</td>\n",
       "      <td>IBRAHIM, Mr. ISYAKU</td>\n",
       "      <td>FEDERAL MINISTRY OF MINES AND STEEL DEVELOPMENT</td>\n",
       "      <td>121032.57</td>\n",
       "      <td>3</td>\n",
       "      <td>LIBERTY ASSURED LIMITEDLIBERTY ASSURED LIMITED...</td>\n",
       "      <td>3</td>\n",
       "      <td>0</td>\n",
       "      <td>0</td>\n",
       "      <td>0.0</td>\n",
       "      <td>0</td>\n",
       "    </tr>\n",
       "    <tr>\n",
       "      <th>3</th>\n",
       "      <td>211.0</td>\n",
       "      <td>MOHAMMED, Mr. DAMARGU IDRIS</td>\n",
       "      <td>POLICE SERVICE COMMISSION</td>\n",
       "      <td>13363.66</td>\n",
       "      <td>2</td>\n",
       "      <td>LIBERTY ASSURED LIMITEDLIBERTY ASSURED LIMITED</td>\n",
       "      <td>2</td>\n",
       "      <td>0</td>\n",
       "      <td>0</td>\n",
       "      <td>0.0</td>\n",
       "      <td>0</td>\n",
       "    </tr>\n",
       "    <tr>\n",
       "      <th>4</th>\n",
       "      <td>615.0</td>\n",
       "      <td>YUSUF, Mrs. JIMADA FATIMA</td>\n",
       "      <td>MINISTRY OF DEFENCE - MOD</td>\n",
       "      <td>18336.88</td>\n",
       "      <td>2</td>\n",
       "      <td>LIBERTY ASSURED LIMITEDLIBERTY ASSURED LIMITED</td>\n",
       "      <td>2</td>\n",
       "      <td>0</td>\n",
       "      <td>0</td>\n",
       "      <td>0.0</td>\n",
       "      <td>0</td>\n",
       "    </tr>\n",
       "    <tr>\n",
       "      <th>...</th>\n",
       "      <td>...</td>\n",
       "      <td>...</td>\n",
       "      <td>...</td>\n",
       "      <td>...</td>\n",
       "      <td>...</td>\n",
       "      <td>...</td>\n",
       "      <td>...</td>\n",
       "      <td>...</td>\n",
       "      <td>...</td>\n",
       "      <td>...</td>\n",
       "      <td>...</td>\n",
       "    </tr>\n",
       "    <tr>\n",
       "      <th>921</th>\n",
       "      <td>486387.0</td>\n",
       "      <td>OJO, Mr. SAMUEL OLUWATUYI</td>\n",
       "      <td>UNIVERSITY COLLEGE HOSPITAL - IBADAN</td>\n",
       "      <td>30722.16</td>\n",
       "      <td>3</td>\n",
       "      <td>LIBERTY ASSURED LIMITEDLIBERTY ASSURED LIMITED...</td>\n",
       "      <td>3</td>\n",
       "      <td>0</td>\n",
       "      <td>0</td>\n",
       "      <td>0.0</td>\n",
       "      <td>0</td>\n",
       "    </tr>\n",
       "    <tr>\n",
       "      <th>922</th>\n",
       "      <td>486693.0</td>\n",
       "      <td>ADEDOKUN, Mr. SEUN TUNDE</td>\n",
       "      <td>UNIVERSITY COLLEGE HOSPITAL - IBADAN</td>\n",
       "      <td>10898.96</td>\n",
       "      <td>1</td>\n",
       "      <td>LIBERTY ASSURED LIMITED</td>\n",
       "      <td>1</td>\n",
       "      <td>0</td>\n",
       "      <td>0</td>\n",
       "      <td>0.0</td>\n",
       "      <td>0</td>\n",
       "    </tr>\n",
       "    <tr>\n",
       "      <th>923</th>\n",
       "      <td>486762.0</td>\n",
       "      <td>OJO, Mr. KAYODE BABATUNDE</td>\n",
       "      <td>UNIVERSITY COLLEGE HOSPITAL - IBADAN</td>\n",
       "      <td>34785.76</td>\n",
       "      <td>1</td>\n",
       "      <td>LIBERTY ASSURED LIMITED</td>\n",
       "      <td>1</td>\n",
       "      <td>0</td>\n",
       "      <td>0</td>\n",
       "      <td>0.0</td>\n",
       "      <td>0</td>\n",
       "    </tr>\n",
       "    <tr>\n",
       "      <th>924</th>\n",
       "      <td>486819.0</td>\n",
       "      <td>AYINDE, Mr. AYOMIDE OLATUNBOSUN</td>\n",
       "      <td>UNIVERSITY COLLEGE HOSPITAL - IBADAN</td>\n",
       "      <td>11103.12</td>\n",
       "      <td>3</td>\n",
       "      <td>LIBERTY ASSURED LIMITEDLIBERTY ASSURED LIMITED...</td>\n",
       "      <td>3</td>\n",
       "      <td>0</td>\n",
       "      <td>0</td>\n",
       "      <td>0.0</td>\n",
       "      <td>0</td>\n",
       "    </tr>\n",
       "    <tr>\n",
       "      <th>925</th>\n",
       "      <td>487221.0</td>\n",
       "      <td>UMAR, Mr. ZUBAIRU</td>\n",
       "      <td>FEDERAL MEDICAL CENTRE - GUSAU</td>\n",
       "      <td>23335.47</td>\n",
       "      <td>3</td>\n",
       "      <td>LIBERTY ASSURED LIMITEDLIBERTY ASSURED LIMITED...</td>\n",
       "      <td>3</td>\n",
       "      <td>0</td>\n",
       "      <td>0</td>\n",
       "      <td>0.0</td>\n",
       "      <td>0</td>\n",
       "    </tr>\n",
       "  </tbody>\n",
       "</table>\n",
       "<p>926 rows × 11 columns</p>\n",
       "</div>"
      ],
      "text/plain": [
       "    Employee Number                    Employee Name  \\\n",
       "                                                       \n",
       "0               2.0   BAMIKARERE, Mr. OLADELE ADEOLA   \n",
       "1               5.0        ARINZE, Ms. ONYINYE CHIKA   \n",
       "2              65.0              IBRAHIM, Mr. ISYAKU   \n",
       "3             211.0      MOHAMMED, Mr. DAMARGU IDRIS   \n",
       "4             615.0        YUSUF, Mrs. JIMADA FATIMA   \n",
       "..              ...                              ...   \n",
       "921        486387.0        OJO, Mr. SAMUEL OLUWATUYI   \n",
       "922        486693.0         ADEDOKUN, Mr. SEUN TUNDE   \n",
       "923        486762.0        OJO, Mr. KAYODE BABATUNDE   \n",
       "924        486819.0  AYINDE, Mr. AYOMIDE OLATUNBOSUN   \n",
       "925        487221.0                UMAR, Mr. ZUBAIRU   \n",
       "\n",
       "                                       Ministry Name Deduction Amount        \\\n",
       "                                                                  sum count   \n",
       "0         FEDERAL MINISTRY OF SCIENCE AND TECHNOLOGY         16524.62     2   \n",
       "1                     NATIONAL POPULATION COMMISSION        101045.32     2   \n",
       "2    FEDERAL MINISTRY OF MINES AND STEEL DEVELOPMENT        121032.57     3   \n",
       "3                          POLICE SERVICE COMMISSION         13363.66     2   \n",
       "4                          MINISTRY OF DEFENCE - MOD         18336.88     2   \n",
       "..                                               ...              ...   ...   \n",
       "921             UNIVERSITY COLLEGE HOSPITAL - IBADAN         30722.16     3   \n",
       "922             UNIVERSITY COLLEGE HOSPITAL - IBADAN         10898.96     1   \n",
       "923             UNIVERSITY COLLEGE HOSPITAL - IBADAN         34785.76     1   \n",
       "924             UNIVERSITY COLLEGE HOSPITAL - IBADAN         11103.12     3   \n",
       "925                   FEDERAL MEDICAL CENTRE - GUSAU         23335.47     3   \n",
       "\n",
       "                                          Element Name       Macro1        \\\n",
       "                                                   sum count    sum count   \n",
       "0       LIBERTY ASSURED LIMITEDLIBERTY ASSURED LIMITED     2      0     0   \n",
       "1       LIBERTY ASSURED LIMITEDLIBERTY ASSURED LIMITED     2      0     0   \n",
       "2    LIBERTY ASSURED LIMITEDLIBERTY ASSURED LIMITED...     3      0     0   \n",
       "3       LIBERTY ASSURED LIMITEDLIBERTY ASSURED LIMITED     2      0     0   \n",
       "4       LIBERTY ASSURED LIMITEDLIBERTY ASSURED LIMITED     2      0     0   \n",
       "..                                                 ...   ...    ...   ...   \n",
       "921  LIBERTY ASSURED LIMITEDLIBERTY ASSURED LIMITED...     3      0     0   \n",
       "922                            LIBERTY ASSURED LIMITED     1      0     0   \n",
       "923                            LIBERTY ASSURED LIMITED     1      0     0   \n",
       "924  LIBERTY ASSURED LIMITEDLIBERTY ASSURED LIMITED...     3      0     0   \n",
       "925  LIBERTY ASSURED LIMITEDLIBERTY ASSURED LIMITED...     3      0     0   \n",
       "\n",
       "    Auto_Open        \n",
       "          sum count  \n",
       "0         0.0     0  \n",
       "1         0.0     0  \n",
       "2         0.0     0  \n",
       "3         0.0     0  \n",
       "4         0.0     0  \n",
       "..        ...   ...  \n",
       "921       0.0     0  \n",
       "922       0.0     0  \n",
       "923       0.0     0  \n",
       "924       0.0     0  \n",
       "925       0.0     0  \n",
       "\n",
       "[926 rows x 11 columns]"
      ]
     },
     "execution_count": 316,
     "metadata": {},
     "output_type": "execute_result"
    }
   ],
   "source": [
    "my_data = pd.read_excel(\"ippis_deduc_reports.xlsx\", sheet_name = None)\n",
    "my_data = pd.concat(my_data[frame] for frame in my_data.keys())\n",
    "# my_data.drop(columns = ['Macro1', 'Auto_Open'])\n",
    "deduction = my_data.groupby(['Employee Number', 'Employee Name', 'Ministry Name']).agg([\"sum\",\"count\"]).reset_index()\n",
    "\n",
    "# columns = deduction.columns\n",
    "# deduction.columns\n",
    "# columns.apply(tuple)\n",
    "\n",
    "deduction"
   ]
  },
  {
   "cell_type": "code",
   "execution_count": 320,
   "id": "combined-proceeding",
   "metadata": {
    "ExecuteTime": {
     "end_time": "2021-04-23T14:27:50.834331Z",
     "start_time": "2021-04-23T14:27:50.817334Z"
    }
   },
   "outputs": [
    {
     "data": {
      "text/plain": [
       "Index(['Employee Number', 'Employee Name', 'Ministry Name',\n",
       "       'Deduction Amountsum', 'Deduction Amountcount', 'Element Namesum',\n",
       "       'Element Namecount', 'Macro1sum', 'Macro1count', 'Auto_Opensum',\n",
       "       'Auto_Opencount'],\n",
       "      dtype='object')"
      ]
     },
     "execution_count": 320,
     "metadata": {},
     "output_type": "execute_result"
    }
   ],
   "source": [
    "deduction_columns = deduction.columns.map(''.join)\n",
    "deduction.columns = deduction_columns\n",
    "deduction.columns"
   ]
  },
  {
   "cell_type": "code",
   "execution_count": 324,
   "id": "heated-chase",
   "metadata": {
    "ExecuteTime": {
     "end_time": "2021-04-23T14:28:43.994256Z",
     "start_time": "2021-04-23T14:28:43.978258Z"
    }
   },
   "outputs": [],
   "source": [
    "required_columns = ['Employee Number',\n",
    "                    'Ministry Name',\n",
    "                    'Employee Name',\n",
    "                    'Deduction Amountsum',\n",
    "                    'Deduction Amountcount',\n",
    "                    ]\n",
    "           "
   ]
  },
  {
   "cell_type": "code",
   "execution_count": null,
   "id": "conscious-transfer",
   "metadata": {},
   "outputs": [],
   "source": []
  },
  {
   "cell_type": "code",
   "execution_count": 325,
   "id": "brave-viewer",
   "metadata": {
    "ExecuteTime": {
     "end_time": "2021-04-23T14:28:49.840919Z",
     "start_time": "2021-04-23T14:28:49.815921Z"
    }
   },
   "outputs": [],
   "source": [
    "# deduction[columns].apply(tuple)\n",
    "target_deduction = deduction[required_columns]"
   ]
  },
  {
   "cell_type": "code",
   "execution_count": 326,
   "id": "informational-cycling",
   "metadata": {
    "ExecuteTime": {
     "end_time": "2021-04-23T14:29:31.837492Z",
     "start_time": "2021-04-23T14:29:31.770494Z"
    }
   },
   "outputs": [
    {
     "data": {
      "text/html": [
       "<div>\n",
       "<style scoped>\n",
       "    .dataframe tbody tr th:only-of-type {\n",
       "        vertical-align: middle;\n",
       "    }\n",
       "\n",
       "    .dataframe tbody tr th {\n",
       "        vertical-align: top;\n",
       "    }\n",
       "\n",
       "    .dataframe thead th {\n",
       "        text-align: right;\n",
       "    }\n",
       "</style>\n",
       "<table border=\"1\" class=\"dataframe\">\n",
       "  <thead>\n",
       "    <tr style=\"text-align: right;\">\n",
       "      <th></th>\n",
       "      <th>Employee Number</th>\n",
       "      <th>Ministry Name</th>\n",
       "      <th>Employee Name</th>\n",
       "      <th>TotalRepayment</th>\n",
       "      <th>Nos Deducted</th>\n",
       "    </tr>\n",
       "  </thead>\n",
       "  <tbody>\n",
       "    <tr>\n",
       "      <th>0</th>\n",
       "      <td>2.0</td>\n",
       "      <td>FEDERAL MINISTRY OF SCIENCE AND TECHNOLOGY</td>\n",
       "      <td>BAMIKARERE, Mr. OLADELE ADEOLA</td>\n",
       "      <td>16524.62</td>\n",
       "      <td>2</td>\n",
       "    </tr>\n",
       "    <tr>\n",
       "      <th>1</th>\n",
       "      <td>5.0</td>\n",
       "      <td>NATIONAL POPULATION COMMISSION</td>\n",
       "      <td>ARINZE, Ms. ONYINYE CHIKA</td>\n",
       "      <td>101045.32</td>\n",
       "      <td>2</td>\n",
       "    </tr>\n",
       "    <tr>\n",
       "      <th>2</th>\n",
       "      <td>65.0</td>\n",
       "      <td>FEDERAL MINISTRY OF MINES AND STEEL DEVELOPMENT</td>\n",
       "      <td>IBRAHIM, Mr. ISYAKU</td>\n",
       "      <td>121032.57</td>\n",
       "      <td>3</td>\n",
       "    </tr>\n",
       "    <tr>\n",
       "      <th>3</th>\n",
       "      <td>211.0</td>\n",
       "      <td>POLICE SERVICE COMMISSION</td>\n",
       "      <td>MOHAMMED, Mr. DAMARGU IDRIS</td>\n",
       "      <td>13363.66</td>\n",
       "      <td>2</td>\n",
       "    </tr>\n",
       "    <tr>\n",
       "      <th>4</th>\n",
       "      <td>615.0</td>\n",
       "      <td>MINISTRY OF DEFENCE - MOD</td>\n",
       "      <td>YUSUF, Mrs. JIMADA FATIMA</td>\n",
       "      <td>18336.88</td>\n",
       "      <td>2</td>\n",
       "    </tr>\n",
       "    <tr>\n",
       "      <th>...</th>\n",
       "      <td>...</td>\n",
       "      <td>...</td>\n",
       "      <td>...</td>\n",
       "      <td>...</td>\n",
       "      <td>...</td>\n",
       "    </tr>\n",
       "    <tr>\n",
       "      <th>921</th>\n",
       "      <td>486387.0</td>\n",
       "      <td>UNIVERSITY COLLEGE HOSPITAL - IBADAN</td>\n",
       "      <td>OJO, Mr. SAMUEL OLUWATUYI</td>\n",
       "      <td>30722.16</td>\n",
       "      <td>3</td>\n",
       "    </tr>\n",
       "    <tr>\n",
       "      <th>922</th>\n",
       "      <td>486693.0</td>\n",
       "      <td>UNIVERSITY COLLEGE HOSPITAL - IBADAN</td>\n",
       "      <td>ADEDOKUN, Mr. SEUN TUNDE</td>\n",
       "      <td>10898.96</td>\n",
       "      <td>1</td>\n",
       "    </tr>\n",
       "    <tr>\n",
       "      <th>923</th>\n",
       "      <td>486762.0</td>\n",
       "      <td>UNIVERSITY COLLEGE HOSPITAL - IBADAN</td>\n",
       "      <td>OJO, Mr. KAYODE BABATUNDE</td>\n",
       "      <td>34785.76</td>\n",
       "      <td>1</td>\n",
       "    </tr>\n",
       "    <tr>\n",
       "      <th>924</th>\n",
       "      <td>486819.0</td>\n",
       "      <td>UNIVERSITY COLLEGE HOSPITAL - IBADAN</td>\n",
       "      <td>AYINDE, Mr. AYOMIDE OLATUNBOSUN</td>\n",
       "      <td>11103.12</td>\n",
       "      <td>3</td>\n",
       "    </tr>\n",
       "    <tr>\n",
       "      <th>925</th>\n",
       "      <td>487221.0</td>\n",
       "      <td>FEDERAL MEDICAL CENTRE - GUSAU</td>\n",
       "      <td>UMAR, Mr. ZUBAIRU</td>\n",
       "      <td>23335.47</td>\n",
       "      <td>3</td>\n",
       "    </tr>\n",
       "  </tbody>\n",
       "</table>\n",
       "<p>926 rows × 5 columns</p>\n",
       "</div>"
      ],
      "text/plain": [
       "     Employee Number                                    Ministry Name  \\\n",
       "0                2.0       FEDERAL MINISTRY OF SCIENCE AND TECHNOLOGY   \n",
       "1                5.0                   NATIONAL POPULATION COMMISSION   \n",
       "2               65.0  FEDERAL MINISTRY OF MINES AND STEEL DEVELOPMENT   \n",
       "3              211.0                        POLICE SERVICE COMMISSION   \n",
       "4              615.0                        MINISTRY OF DEFENCE - MOD   \n",
       "..               ...                                              ...   \n",
       "921         486387.0             UNIVERSITY COLLEGE HOSPITAL - IBADAN   \n",
       "922         486693.0             UNIVERSITY COLLEGE HOSPITAL - IBADAN   \n",
       "923         486762.0             UNIVERSITY COLLEGE HOSPITAL - IBADAN   \n",
       "924         486819.0             UNIVERSITY COLLEGE HOSPITAL - IBADAN   \n",
       "925         487221.0                   FEDERAL MEDICAL CENTRE - GUSAU   \n",
       "\n",
       "                       Employee Name  TotalRepayment  Nos Deducted  \n",
       "0     BAMIKARERE, Mr. OLADELE ADEOLA        16524.62             2  \n",
       "1          ARINZE, Ms. ONYINYE CHIKA       101045.32             2  \n",
       "2                IBRAHIM, Mr. ISYAKU       121032.57             3  \n",
       "3        MOHAMMED, Mr. DAMARGU IDRIS        13363.66             2  \n",
       "4          YUSUF, Mrs. JIMADA FATIMA        18336.88             2  \n",
       "..                               ...             ...           ...  \n",
       "921        OJO, Mr. SAMUEL OLUWATUYI        30722.16             3  \n",
       "922         ADEDOKUN, Mr. SEUN TUNDE        10898.96             1  \n",
       "923        OJO, Mr. KAYODE BABATUNDE        34785.76             1  \n",
       "924  AYINDE, Mr. AYOMIDE OLATUNBOSUN        11103.12             3  \n",
       "925                UMAR, Mr. ZUBAIRU        23335.47             3  \n",
       "\n",
       "[926 rows x 5 columns]"
      ]
     },
     "execution_count": 326,
     "metadata": {},
     "output_type": "execute_result"
    }
   ],
   "source": [
    "target_deduction.rename(columns = {'Deduction Amountsum': 'TotalRepayment', 'Deduction Amountcount': 'Nos Deducted'})\n"
   ]
  },
  {
   "cell_type": "code",
   "execution_count": null,
   "id": "immune-forestry",
   "metadata": {},
   "outputs": [],
   "source": []
  },
  {
   "cell_type": "code",
   "execution_count": null,
   "id": "settled-logic",
   "metadata": {},
   "outputs": [],
   "source": []
  },
  {
   "cell_type": "code",
   "execution_count": null,
   "id": "configured-method",
   "metadata": {
    "ExecuteTime": {
     "end_time": "2021-04-23T14:27:00.462246Z",
     "start_time": "2021-04-23T14:26:54.521Z"
    }
   },
   "outputs": [],
   "source": [
    "deduction.applymap(lambda x: isinstance (x, list) or (x, dict)).all()"
   ]
  },
  {
   "cell_type": "code",
   "execution_count": null,
   "id": "disabled-phoenix",
   "metadata": {
    "ExecuteTime": {
     "end_time": "2021-04-23T14:27:00.465243Z",
     "start_time": "2021-04-23T14:26:54.535Z"
    }
   },
   "outputs": [],
   "source": [
    "deduction.applymap(lambda x: isinstance (x, dict)).all()"
   ]
  },
  {
   "cell_type": "code",
   "execution_count": null,
   "id": "urban-state",
   "metadata": {},
   "outputs": [],
   "source": []
  },
  {
   "cell_type": "code",
   "execution_count": null,
   "id": "apart-exclusive",
   "metadata": {
    "ExecuteTime": {
     "end_time": "2021-04-23T14:27:00.469244Z",
     "start_time": "2021-04-23T14:26:54.556Z"
    }
   },
   "outputs": [],
   "source": [
    "deduc_309344_mask = deduction[\"Employee Number\"]==309344\n",
    "search = deduction[deduc_309344_mask]\n",
    "search"
   ]
  },
  {
   "cell_type": "code",
   "execution_count": null,
   "id": "fitting-messaging",
   "metadata": {},
   "outputs": [],
   "source": []
  },
  {
   "cell_type": "code",
   "execution_count": null,
   "id": "limiting-regulation",
   "metadata": {
    "ExecuteTime": {
     "end_time": "2021-04-23T14:27:00.472245Z",
     "start_time": "2021-04-23T14:26:54.585Z"
    }
   },
   "outputs": [],
   "source": [
    "os.listdir()"
   ]
  },
  {
   "cell_type": "code",
   "execution_count": null,
   "id": "prostate-repair",
   "metadata": {
    "ExecuteTime": {
     "end_time": "2021-04-23T14:27:00.477243Z",
     "start_time": "2021-04-23T14:26:54.595Z"
    }
   },
   "outputs": [],
   "source": [
    "my_data = pd.read_excel(\"ippis_deduc_reports.xlsx\", sheet_name = None)\n",
    "my_data"
   ]
  },
  {
   "cell_type": "code",
   "execution_count": null,
   "id": "annoying-segment",
   "metadata": {
    "ExecuteTime": {
     "end_time": "2021-04-23T14:27:00.479243Z",
     "start_time": "2021-04-23T14:26:54.608Z"
    }
   },
   "outputs": [],
   "source": [
    "my_data = pd.concat(my_data[frame] for frame in my_data.keys())\n",
    "my_data"
   ]
  },
  {
   "cell_type": "code",
   "execution_count": null,
   "id": "intended-output",
   "metadata": {
    "ExecuteTime": {
     "end_time": "2021-04-23T14:27:00.482244Z",
     "start_time": "2021-04-23T14:26:54.618Z"
    }
   },
   "outputs": [],
   "source": [
    "my_data.info()"
   ]
  },
  {
   "cell_type": "code",
   "execution_count": null,
   "id": "verified-fountain",
   "metadata": {
    "ExecuteTime": {
     "end_time": "2021-04-23T14:27:00.486244Z",
     "start_time": "2021-04-23T14:26:54.630Z"
    }
   },
   "outputs": [],
   "source": [
    "my_data.columns"
   ]
  },
  {
   "cell_type": "code",
   "execution_count": null,
   "id": "still-walker",
   "metadata": {
    "ExecuteTime": {
     "end_time": "2021-04-23T14:27:00.489243Z",
     "start_time": "2021-04-23T14:26:54.642Z"
    }
   },
   "outputs": [],
   "source": [
    "my_data.iloc[1]"
   ]
  },
  {
   "cell_type": "code",
   "execution_count": null,
   "id": "veterinary-speaking",
   "metadata": {
    "ExecuteTime": {
     "end_time": "2021-04-23T14:27:00.493243Z",
     "start_time": "2021-04-23T14:26:54.655Z"
    }
   },
   "outputs": [],
   "source": [
    "my_data.drop(columns = ['Macro1', 'Auto_Open'])"
   ]
  },
  {
   "cell_type": "code",
   "execution_count": null,
   "id": "modified-contest",
   "metadata": {
    "ExecuteTime": {
     "end_time": "2021-04-21T16:36:50.816199Z",
     "start_time": "2021-04-21T16:36:50.787199Z"
    }
   },
   "outputs": [],
   "source": []
  },
  {
   "cell_type": "code",
   "execution_count": null,
   "id": "coated-adelaide",
   "metadata": {
    "ExecuteTime": {
     "end_time": "2021-04-23T14:27:00.497242Z",
     "start_time": "2021-04-23T14:26:54.673Z"
    }
   },
   "outputs": [],
   "source": [
    "deduction = my_data.groupby('Employee Number').sum().reset_index()"
   ]
  },
  {
   "cell_type": "code",
   "execution_count": null,
   "id": "registered-intellectual",
   "metadata": {
    "ExecuteTime": {
     "end_time": "2021-04-23T14:27:00.500243Z",
     "start_time": "2021-04-23T14:26:54.683Z"
    }
   },
   "outputs": [],
   "source": [
    "deduction = my_data.groupby('Employee Number')['Employee Number'].transform('count').sum()"
   ]
  },
  {
   "cell_type": "code",
   "execution_count": null,
   "id": "practical-arrest",
   "metadata": {
    "ExecuteTime": {
     "end_time": "2021-04-23T14:27:00.502242Z",
     "start_time": "2021-04-23T14:26:54.693Z"
    }
   },
   "outputs": [],
   "source": [
    "deduction\n",
    "# df = pd.DataFrame(deduction)|\n",
    "# df.rename(columns={0:\"Employee Number\"})\n",
    "# df.columns"
   ]
  },
  {
   "cell_type": "markdown",
   "id": "competitive-islam",
   "metadata": {
    "ExecuteTime": {
     "end_time": "2021-04-21T15:55:03.775894Z",
     "start_time": "2021-04-21T15:55:03.670900Z"
    }
   },
   "source": [
    "johnson = my_data.groupby([\"Employee Number\",\"Employee Name\", \"Month\", \"Ministry Name\"])[\"Deduction Amount\"].agg([\"sum\",\"count\"]).reset_index()"
   ]
  },
  {
   "cell_type": "code",
   "execution_count": null,
   "id": "written-paint",
   "metadata": {
    "ExecuteTime": {
     "end_time": "2021-04-23T14:27:00.504242Z",
     "start_time": "2021-04-23T14:26:54.773Z"
    }
   },
   "outputs": [],
   "source": [
    "johnson"
   ]
  },
  {
   "cell_type": "code",
   "execution_count": null,
   "id": "naval-frost",
   "metadata": {},
   "outputs": [],
   "source": []
  },
  {
   "cell_type": "code",
   "execution_count": null,
   "id": "lesser-vision",
   "metadata": {
    "ExecuteTime": {
     "end_time": "2021-04-23T14:27:00.506240Z",
     "start_time": "2021-04-23T14:26:54.798Z"
    }
   },
   "outputs": [],
   "source": [
    "deduc_309344_mask = johnson[\"Employee Number\"]==309344\n",
    "search = johnson[deduc_309344_mask]\n",
    "search"
   ]
  },
  {
   "cell_type": "code",
   "execution_count": null,
   "id": "canadian-nicholas",
   "metadata": {},
   "outputs": [],
   "source": []
  },
  {
   "cell_type": "code",
   "execution_count": null,
   "id": "arranged-chicken",
   "metadata": {},
   "outputs": [],
   "source": []
  },
  {
   "cell_type": "code",
   "execution_count": null,
   "id": "several-graphic",
   "metadata": {
    "ExecuteTime": {
     "end_time": "2021-04-23T14:27:00.508241Z",
     "start_time": "2021-04-23T14:26:54.836Z"
    }
   },
   "outputs": [],
   "source": [
    "pd.set_option(\"display.max_columns\", 20)\n"
   ]
  },
  {
   "cell_type": "code",
   "execution_count": null,
   "id": "relative-fleet",
   "metadata": {
    "ExecuteTime": {
     "end_time": "2021-04-21T14:35:24.963519Z",
     "start_time": "2021-04-21T14:35:24.954522Z"
    }
   },
   "outputs": [],
   "source": []
  },
  {
   "cell_type": "code",
   "execution_count": null,
   "id": "blank-gibson",
   "metadata": {
    "ExecuteTime": {
     "end_time": "2021-04-23T14:27:00.511241Z",
     "start_time": "2021-04-23T14:26:54.880Z"
    }
   },
   "outputs": [],
   "source": [
    "deduction.get_group(\"Ministry Name\")"
   ]
  },
  {
   "cell_type": "code",
   "execution_count": null,
   "id": "defensive-hammer",
   "metadata": {},
   "outputs": [],
   "source": []
  },
  {
   "cell_type": "code",
   "execution_count": null,
   "id": "sixth-deadline",
   "metadata": {
    "ExecuteTime": {
     "end_time": "2021-04-23T14:27:00.515241Z",
     "start_time": "2021-04-23T14:26:54.899Z"
    }
   },
   "outputs": [],
   "source": [
    "my_data.groupby(['Element Name']).get_group(\"LIBERTY ASSURED LIMITED\")"
   ]
  },
  {
   "cell_type": "code",
   "execution_count": null,
   "id": "electronic-poster",
   "metadata": {},
   "outputs": [],
   "source": []
  },
  {
   "cell_type": "markdown",
   "id": "elect-correlation",
   "metadata": {
    "ExecuteTime": {
     "end_time": "2021-04-21T13:23:28.572065Z",
     "start_time": "2021-04-21T13:23:28.288084Z"
    }
   },
   "source": [
    "new_deduction = my_data[deduction]\n",
    "new_deduction"
   ]
  },
  {
   "cell_type": "code",
   "execution_count": null,
   "id": "auburn-petersburg",
   "metadata": {
    "ExecuteTime": {
     "end_time": "2021-04-23T14:27:00.518242Z",
     "start_time": "2021-04-23T14:26:54.920Z"
    }
   },
   "outputs": [],
   "source": [
    "# done = deduction.get(\"Ministry Name\")\n",
    "# done"
   ]
  },
  {
   "cell_type": "code",
   "execution_count": null,
   "id": "spiritual-broadcast",
   "metadata": {},
   "outputs": [],
   "source": []
  },
  {
   "cell_type": "code",
   "execution_count": null,
   "id": "automated-subscriber",
   "metadata": {},
   "outputs": [],
   "source": []
  },
  {
   "cell_type": "markdown",
   "id": "tough-notion",
   "metadata": {
    "ExecuteTime": {
     "end_time": "2021-04-21T13:47:27.528482Z",
     "start_time": "2021-04-21T13:47:27.446491Z"
    }
   },
   "source": [
    "deduc_309344_mask = deduction[\"Employee Number\"]==309344\n",
    "search = deduction[deduc_309344_mask]\n",
    "search"
   ]
  },
  {
   "cell_type": "code",
   "execution_count": null,
   "id": "regional-fashion",
   "metadata": {},
   "outputs": [],
   "source": []
  },
  {
   "cell_type": "code",
   "execution_count": null,
   "id": "innocent-bottle",
   "metadata": {
    "ExecuteTime": {
     "end_time": "2021-04-23T14:27:00.521242Z",
     "start_time": "2021-04-23T14:26:54.966Z"
    }
   },
   "outputs": [],
   "source": [
    "ippis_data = pd.read_csv(\"loandisk_ippis_2020.csv\")\n",
    "ippis_data"
   ]
  },
  {
   "cell_type": "code",
   "execution_count": null,
   "id": "trying-thermal",
   "metadata": {
    "ExecuteTime": {
     "end_time": "2021-04-23T14:27:00.525241Z",
     "start_time": "2021-04-23T14:26:54.976Z"
    }
   },
   "outputs": [],
   "source": [
    "ippis_data.columns"
   ]
  },
  {
   "cell_type": "code",
   "execution_count": null,
   "id": "naked-party",
   "metadata": {
    "ExecuteTime": {
     "end_time": "2021-04-23T14:27:00.527240Z",
     "start_time": "2021-04-23T14:26:54.988Z"
    }
   },
   "outputs": [],
   "source": [
    "ippis_data.drop(columns = ['Remita Mandate Status', 'Mobile','Principal After Deduct', 'Account Number', 'Bank Code'])"
   ]
  },
  {
   "cell_type": "code",
   "execution_count": null,
   "id": "homeless-upper",
   "metadata": {
    "ExecuteTime": {
     "end_time": "2021-04-23T14:27:00.530242Z",
     "start_time": "2021-04-23T14:26:55.004Z"
    }
   },
   "outputs": [],
   "source": [
    "merge = pd.merge(\n",
    "                left= ippis_data,\n",
    "                right= deduction,\n",
    "                how=\"outer\",\n",
    "                left_on=\"IPPIS No\",\n",
    "                right_on=\"Employee Number\"\n",
    "                )"
   ]
  },
  {
   "cell_type": "code",
   "execution_count": null,
   "id": "natural-california",
   "metadata": {
    "ExecuteTime": {
     "end_time": "2021-04-23T14:27:00.533241Z",
     "start_time": "2021-04-23T14:26:55.031Z"
    }
   },
   "outputs": [],
   "source": [
    "merge"
   ]
  },
  {
   "cell_type": "code",
   "execution_count": null,
   "id": "characteristic-chancellor",
   "metadata": {
    "ExecuteTime": {
     "end_time": "2021-04-23T14:27:00.536238Z",
     "start_time": "2021-04-23T14:26:55.043Z"
    }
   },
   "outputs": [],
   "source": [
    "merge.columns"
   ]
  },
  {
   "cell_type": "code",
   "execution_count": null,
   "id": "aquatic-people",
   "metadata": {
    "ExecuteTime": {
     "end_time": "2021-04-23T14:27:00.538243Z",
     "start_time": "2021-04-23T14:26:55.583Z"
    }
   },
   "outputs": [],
   "source": [
    "new_merge = merge[['Released', 'Maturity', 'Loan#', 'Name',\n",
    "       'IPPIS No','Employee Number', 'Principal', 'Due', 'Paid','Deduction Amount',\n",
    "        'PendingDue',\n",
    "       'Last Payment', 'Balance', 'MINISTRY/AGENCY', 'Status'\n",
    "        ]]\n",
    "new_merge.rename(columns={'Deduction Amount':'Deducted Amt'})"
   ]
  },
  {
   "cell_type": "code",
   "execution_count": null,
   "id": "polar-wilson",
   "metadata": {
    "ExecuteTime": {
     "end_time": "2021-04-23T14:27:00.541240Z",
     "start_time": "2021-04-23T14:26:55.597Z"
    }
   },
   "outputs": [],
   "source": [
    "new_merge"
   ]
  },
  {
   "cell_type": "code",
   "execution_count": null,
   "id": "polish-design",
   "metadata": {
    "ExecuteTime": {
     "end_time": "2021-04-23T14:27:00.544239Z",
     "start_time": "2021-04-23T14:26:56.054Z"
    }
   },
   "outputs": [],
   "source": [
    "new_merge"
   ]
  },
  {
   "cell_type": "code",
   "execution_count": null,
   "id": "funded-banana",
   "metadata": {},
   "outputs": [],
   "source": []
  }
 ],
 "metadata": {
  "kernelspec": {
   "display_name": "Python 3.7.9 32-bit",
   "language": "python",
   "name": "python37932bitdbd09dfa023d4867a5c7356bcb6a5889"
  },
  "language_info": {
   "codemirror_mode": {
    "name": "ipython",
    "version": 3
   },
   "file_extension": ".py",
   "mimetype": "text/x-python",
   "name": "python",
   "nbconvert_exporter": "python",
   "pygments_lexer": "ipython3",
   "version": "3.7.9"
  },
  "toc": {
   "base_numbering": 1,
   "nav_menu": {},
   "number_sections": true,
   "sideBar": true,
   "skip_h1_title": false,
   "title_cell": "Table of Contents",
   "title_sidebar": "Contents",
   "toc_cell": false,
   "toc_position": {},
   "toc_section_display": true,
   "toc_window_display": false
  },
  "varInspector": {
   "cols": {
    "lenName": 16,
    "lenType": 16,
    "lenVar": 40
   },
   "kernels_config": {
    "python": {
     "delete_cmd_postfix": "",
     "delete_cmd_prefix": "del ",
     "library": "var_list.py",
     "varRefreshCmd": "print(var_dic_list())"
    },
    "r": {
     "delete_cmd_postfix": ") ",
     "delete_cmd_prefix": "rm(",
     "library": "var_list.r",
     "varRefreshCmd": "cat(var_dic_list()) "
    }
   },
   "types_to_exclude": [
    "module",
    "function",
    "builtin_function_or_method",
    "instance",
    "_Feature"
   ],
   "window_display": false
  }
 },
 "nbformat": 4,
 "nbformat_minor": 5
}
