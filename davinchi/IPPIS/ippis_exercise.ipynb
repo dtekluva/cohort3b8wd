{
 "cells": [
  {
   "cell_type": "code",
   "execution_count": 1,
   "id": "rental-acoustic",
   "metadata": {
    "ExecuteTime": {
     "end_time": "2021-05-11T08:41:26.425311Z",
     "start_time": "2021-05-11T08:41:08.360273Z"
    }
   },
   "outputs": [],
   "source": [
    "import os\n",
    "import pandas as pd\n",
    "import numpy as np\n",
    "import datetime as dt\n",
    "from datetime import date\n",
    "from datetime import timedelta\n"
   ]
  },
  {
   "cell_type": "code",
   "execution_count": 2,
   "id": "played-physiology",
   "metadata": {
    "ExecuteTime": {
     "end_time": "2021-05-11T08:41:26.440279Z",
     "start_time": "2021-05-11T08:41:26.429281Z"
    }
   },
   "outputs": [],
   "source": [
    "pd.set_option('display.max_rows', 8)"
   ]
  },
  {
   "cell_type": "code",
   "execution_count": 3,
   "id": "ethical-seeking",
   "metadata": {
    "ExecuteTime": {
     "end_time": "2021-05-11T08:41:34.499898Z",
     "start_time": "2021-05-11T08:41:26.446281Z"
    },
    "scrolled": true
   },
   "outputs": [
    {
     "data": {
      "text/html": [
       "<div>\n",
       "<style scoped>\n",
       "    .dataframe tbody tr th:only-of-type {\n",
       "        vertical-align: middle;\n",
       "    }\n",
       "\n",
       "    .dataframe tbody tr th {\n",
       "        vertical-align: top;\n",
       "    }\n",
       "\n",
       "    .dataframe thead tr th {\n",
       "        text-align: left;\n",
       "    }\n",
       "</style>\n",
       "<table border=\"1\" class=\"dataframe\">\n",
       "  <thead>\n",
       "    <tr>\n",
       "      <th></th>\n",
       "      <th>Employee Number</th>\n",
       "      <th>Employee Name</th>\n",
       "      <th>Ministry Name</th>\n",
       "      <th colspan=\"2\" halign=\"left\">Deduction Amount</th>\n",
       "      <th colspan=\"2\" halign=\"left\">Element Name</th>\n",
       "      <th colspan=\"2\" halign=\"left\">Macro1</th>\n",
       "      <th colspan=\"2\" halign=\"left\">Auto_Open</th>\n",
       "    </tr>\n",
       "    <tr>\n",
       "      <th></th>\n",
       "      <th></th>\n",
       "      <th></th>\n",
       "      <th></th>\n",
       "      <th>sum</th>\n",
       "      <th>count</th>\n",
       "      <th>sum</th>\n",
       "      <th>count</th>\n",
       "      <th>sum</th>\n",
       "      <th>count</th>\n",
       "      <th>sum</th>\n",
       "      <th>count</th>\n",
       "    </tr>\n",
       "  </thead>\n",
       "  <tbody>\n",
       "    <tr>\n",
       "      <th>0</th>\n",
       "      <td>2.0</td>\n",
       "      <td>BAMIKARERE, Mr. OLADELE ADEOLA</td>\n",
       "      <td>FEDERAL MINISTRY OF SCIENCE AND TECHNOLOGY</td>\n",
       "      <td>16524.62</td>\n",
       "      <td>2</td>\n",
       "      <td>LIBERTY ASSURED LIMITEDLIBERTY ASSURED LIMITED</td>\n",
       "      <td>2</td>\n",
       "      <td>0</td>\n",
       "      <td>0</td>\n",
       "      <td>0.0</td>\n",
       "      <td>0</td>\n",
       "    </tr>\n",
       "    <tr>\n",
       "      <th>1</th>\n",
       "      <td>5.0</td>\n",
       "      <td>ARINZE, Ms. ONYINYE CHIKA</td>\n",
       "      <td>NATIONAL POPULATION COMMISSION</td>\n",
       "      <td>101045.32</td>\n",
       "      <td>2</td>\n",
       "      <td>LIBERTY ASSURED LIMITEDLIBERTY ASSURED LIMITED</td>\n",
       "      <td>2</td>\n",
       "      <td>0</td>\n",
       "      <td>0</td>\n",
       "      <td>0.0</td>\n",
       "      <td>0</td>\n",
       "    </tr>\n",
       "    <tr>\n",
       "      <th>2</th>\n",
       "      <td>65.0</td>\n",
       "      <td>IBRAHIM, Mr. ISYAKU</td>\n",
       "      <td>FEDERAL MINISTRY OF MINES AND STEEL DEVELOPMENT</td>\n",
       "      <td>121032.57</td>\n",
       "      <td>3</td>\n",
       "      <td>LIBERTY ASSURED LIMITEDLIBERTY ASSURED LIMITED...</td>\n",
       "      <td>3</td>\n",
       "      <td>0</td>\n",
       "      <td>0</td>\n",
       "      <td>0.0</td>\n",
       "      <td>0</td>\n",
       "    </tr>\n",
       "    <tr>\n",
       "      <th>3</th>\n",
       "      <td>211.0</td>\n",
       "      <td>MOHAMMED, Mr. DAMARGU IDRIS</td>\n",
       "      <td>POLICE SERVICE COMMISSION</td>\n",
       "      <td>13363.66</td>\n",
       "      <td>2</td>\n",
       "      <td>LIBERTY ASSURED LIMITEDLIBERTY ASSURED LIMITED</td>\n",
       "      <td>2</td>\n",
       "      <td>0</td>\n",
       "      <td>0</td>\n",
       "      <td>0.0</td>\n",
       "      <td>0</td>\n",
       "    </tr>\n",
       "    <tr>\n",
       "      <th>...</th>\n",
       "      <td>...</td>\n",
       "      <td>...</td>\n",
       "      <td>...</td>\n",
       "      <td>...</td>\n",
       "      <td>...</td>\n",
       "      <td>...</td>\n",
       "      <td>...</td>\n",
       "      <td>...</td>\n",
       "      <td>...</td>\n",
       "      <td>...</td>\n",
       "      <td>...</td>\n",
       "    </tr>\n",
       "    <tr>\n",
       "      <th>1062</th>\n",
       "      <td>486693.0</td>\n",
       "      <td>ADEDOKUN, Mr. SEUN TUNDE</td>\n",
       "      <td>UNIVERSITY COLLEGE HOSPITAL - IBADAN</td>\n",
       "      <td>10898.96</td>\n",
       "      <td>1</td>\n",
       "      <td>LIBERTY ASSURED LIMITED</td>\n",
       "      <td>1</td>\n",
       "      <td>0</td>\n",
       "      <td>0</td>\n",
       "      <td>0.0</td>\n",
       "      <td>0</td>\n",
       "    </tr>\n",
       "    <tr>\n",
       "      <th>1063</th>\n",
       "      <td>486762.0</td>\n",
       "      <td>OJO, Mr. KAYODE BABATUNDE</td>\n",
       "      <td>UNIVERSITY COLLEGE HOSPITAL - IBADAN</td>\n",
       "      <td>34785.76</td>\n",
       "      <td>1</td>\n",
       "      <td>LIBERTY ASSURED LIMITED</td>\n",
       "      <td>1</td>\n",
       "      <td>0</td>\n",
       "      <td>0</td>\n",
       "      <td>0.0</td>\n",
       "      <td>0</td>\n",
       "    </tr>\n",
       "    <tr>\n",
       "      <th>1064</th>\n",
       "      <td>486819.0</td>\n",
       "      <td>AYINDE, Mr. AYOMIDE OLATUNBOSUN</td>\n",
       "      <td>UNIVERSITY COLLEGE HOSPITAL - IBADAN</td>\n",
       "      <td>11103.12</td>\n",
       "      <td>3</td>\n",
       "      <td>LIBERTY ASSURED LIMITEDLIBERTY ASSURED LIMITED...</td>\n",
       "      <td>3</td>\n",
       "      <td>0</td>\n",
       "      <td>0</td>\n",
       "      <td>0.0</td>\n",
       "      <td>0</td>\n",
       "    </tr>\n",
       "    <tr>\n",
       "      <th>1065</th>\n",
       "      <td>487221.0</td>\n",
       "      <td>UMAR, Mr. ZUBAIRU</td>\n",
       "      <td>FEDERAL MEDICAL CENTRE - GUSAU</td>\n",
       "      <td>23335.47</td>\n",
       "      <td>3</td>\n",
       "      <td>LIBERTY ASSURED LIMITEDLIBERTY ASSURED LIMITED...</td>\n",
       "      <td>3</td>\n",
       "      <td>0</td>\n",
       "      <td>0</td>\n",
       "      <td>0.0</td>\n",
       "      <td>0</td>\n",
       "    </tr>\n",
       "  </tbody>\n",
       "</table>\n",
       "<p>1066 rows × 11 columns</p>\n",
       "</div>"
      ],
      "text/plain": [
       "     Employee Number                    Employee Name  \\\n",
       "                                                        \n",
       "0                2.0   BAMIKARERE, Mr. OLADELE ADEOLA   \n",
       "1                5.0        ARINZE, Ms. ONYINYE CHIKA   \n",
       "2               65.0              IBRAHIM, Mr. ISYAKU   \n",
       "3              211.0      MOHAMMED, Mr. DAMARGU IDRIS   \n",
       "...              ...                              ...   \n",
       "1062        486693.0         ADEDOKUN, Mr. SEUN TUNDE   \n",
       "1063        486762.0        OJO, Mr. KAYODE BABATUNDE   \n",
       "1064        486819.0  AYINDE, Mr. AYOMIDE OLATUNBOSUN   \n",
       "1065        487221.0                UMAR, Mr. ZUBAIRU   \n",
       "\n",
       "                                        Ministry Name Deduction Amount        \\\n",
       "                                                                   sum count   \n",
       "0          FEDERAL MINISTRY OF SCIENCE AND TECHNOLOGY         16524.62     2   \n",
       "1                      NATIONAL POPULATION COMMISSION        101045.32     2   \n",
       "2     FEDERAL MINISTRY OF MINES AND STEEL DEVELOPMENT        121032.57     3   \n",
       "3                           POLICE SERVICE COMMISSION         13363.66     2   \n",
       "...                                               ...              ...   ...   \n",
       "1062             UNIVERSITY COLLEGE HOSPITAL - IBADAN         10898.96     1   \n",
       "1063             UNIVERSITY COLLEGE HOSPITAL - IBADAN         34785.76     1   \n",
       "1064             UNIVERSITY COLLEGE HOSPITAL - IBADAN         11103.12     3   \n",
       "1065                   FEDERAL MEDICAL CENTRE - GUSAU         23335.47     3   \n",
       "\n",
       "                                           Element Name       Macro1        \\\n",
       "                                                    sum count    sum count   \n",
       "0        LIBERTY ASSURED LIMITEDLIBERTY ASSURED LIMITED     2      0     0   \n",
       "1        LIBERTY ASSURED LIMITEDLIBERTY ASSURED LIMITED     2      0     0   \n",
       "2     LIBERTY ASSURED LIMITEDLIBERTY ASSURED LIMITED...     3      0     0   \n",
       "3        LIBERTY ASSURED LIMITEDLIBERTY ASSURED LIMITED     2      0     0   \n",
       "...                                                 ...   ...    ...   ...   \n",
       "1062                            LIBERTY ASSURED LIMITED     1      0     0   \n",
       "1063                            LIBERTY ASSURED LIMITED     1      0     0   \n",
       "1064  LIBERTY ASSURED LIMITEDLIBERTY ASSURED LIMITED...     3      0     0   \n",
       "1065  LIBERTY ASSURED LIMITEDLIBERTY ASSURED LIMITED...     3      0     0   \n",
       "\n",
       "     Auto_Open        \n",
       "           sum count  \n",
       "0          0.0     0  \n",
       "1          0.0     0  \n",
       "2          0.0     0  \n",
       "3          0.0     0  \n",
       "...        ...   ...  \n",
       "1062       0.0     0  \n",
       "1063       0.0     0  \n",
       "1064       0.0     0  \n",
       "1065       0.0     0  \n",
       "\n",
       "[1066 rows x 11 columns]"
      ]
     },
     "execution_count": 3,
     "metadata": {},
     "output_type": "execute_result"
    }
   ],
   "source": [
    "my_data = pd.read_excel(\"ippis_deduc_reports.xlsx\", sheet_name = None)\n",
    "my_data = pd.concat(my_data[frame] for frame in my_data.keys())\n",
    "\n",
    "deduction = my_data.groupby(['Employee Number', 'Employee Name', 'Ministry Name']).agg([\"sum\",\"count\"]).reset_index()\n",
    "\n",
    "# columns = deduction.columns\n",
    "# deduction.columns\n",
    "# columns.apply(tuple)\n",
    "\n",
    "\n",
    "deduction"
   ]
  },
  {
   "cell_type": "code",
   "execution_count": 4,
   "id": "legendary-jesus",
   "metadata": {
    "ExecuteTime": {
     "end_time": "2021-05-11T08:41:34.515834Z",
     "start_time": "2021-05-11T08:41:34.503869Z"
    }
   },
   "outputs": [
    {
     "data": {
      "text/plain": [
       "Index(['Employee Number', 'Employee Name', 'Ministry Name',\n",
       "       'Deduction Amountsum', 'Deduction Amountcount', 'Element Namesum',\n",
       "       'Element Namecount', 'Macro1sum', 'Macro1count', 'Auto_Opensum',\n",
       "       'Auto_Opencount'],\n",
       "      dtype='object')"
      ]
     },
     "execution_count": 4,
     "metadata": {},
     "output_type": "execute_result"
    }
   ],
   "source": [
    "deduction_columns = deduction.columns.map(''.join)\n",
    "deduction.columns = deduction_columns\n",
    "deduction.columns"
   ]
  },
  {
   "cell_type": "code",
   "execution_count": 5,
   "id": "satisfied-leisure",
   "metadata": {
    "ExecuteTime": {
     "end_time": "2021-05-11T08:41:34.798821Z",
     "start_time": "2021-05-11T08:41:34.519838Z"
    }
   },
   "outputs": [
    {
     "data": {
      "text/html": [
       "<div>\n",
       "<style scoped>\n",
       "    .dataframe tbody tr th:only-of-type {\n",
       "        vertical-align: middle;\n",
       "    }\n",
       "\n",
       "    .dataframe tbody tr th {\n",
       "        vertical-align: top;\n",
       "    }\n",
       "\n",
       "    .dataframe thead th {\n",
       "        text-align: right;\n",
       "    }\n",
       "</style>\n",
       "<table border=\"1\" class=\"dataframe\">\n",
       "  <thead>\n",
       "    <tr style=\"text-align: right;\">\n",
       "      <th></th>\n",
       "      <th>Employee Number</th>\n",
       "      <th>Ministry Name</th>\n",
       "      <th>Employee Name</th>\n",
       "      <th>TotalDeducted</th>\n",
       "      <th>Nos Deducted</th>\n",
       "    </tr>\n",
       "  </thead>\n",
       "  <tbody>\n",
       "    <tr>\n",
       "      <th>0</th>\n",
       "      <td>2.0</td>\n",
       "      <td>FEDERAL MINISTRY OF SCIENCE AND TECHNOLOGY</td>\n",
       "      <td>BAMIKARERE, Mr. OLADELE ADEOLA</td>\n",
       "      <td>16524.62</td>\n",
       "      <td>2</td>\n",
       "    </tr>\n",
       "    <tr>\n",
       "      <th>1</th>\n",
       "      <td>5.0</td>\n",
       "      <td>NATIONAL POPULATION COMMISSION</td>\n",
       "      <td>ARINZE, Ms. ONYINYE CHIKA</td>\n",
       "      <td>101045.32</td>\n",
       "      <td>2</td>\n",
       "    </tr>\n",
       "    <tr>\n",
       "      <th>2</th>\n",
       "      <td>65.0</td>\n",
       "      <td>FEDERAL MINISTRY OF MINES AND STEEL DEVELOPMENT</td>\n",
       "      <td>IBRAHIM, Mr. ISYAKU</td>\n",
       "      <td>121032.57</td>\n",
       "      <td>3</td>\n",
       "    </tr>\n",
       "    <tr>\n",
       "      <th>3</th>\n",
       "      <td>211.0</td>\n",
       "      <td>POLICE SERVICE COMMISSION</td>\n",
       "      <td>MOHAMMED, Mr. DAMARGU IDRIS</td>\n",
       "      <td>13363.66</td>\n",
       "      <td>2</td>\n",
       "    </tr>\n",
       "    <tr>\n",
       "      <th>4</th>\n",
       "      <td>615.0</td>\n",
       "      <td>MINISTRY OF DEFENCE - MOD</td>\n",
       "      <td>YUSUF, Mrs. JIMADA FATIMA</td>\n",
       "      <td>36673.76</td>\n",
       "      <td>4</td>\n",
       "    </tr>\n",
       "    <tr>\n",
       "      <th>5</th>\n",
       "      <td>1071.0</td>\n",
       "      <td>MINISTRY OF DEFENCE - MOD</td>\n",
       "      <td>Owonibi, Mrs. Loveth Oluwabunmi</td>\n",
       "      <td>25894.51</td>\n",
       "      <td>1</td>\n",
       "    </tr>\n",
       "    <tr>\n",
       "      <th>6</th>\n",
       "      <td>1900.0</td>\n",
       "      <td>FEDERAL MINISTRY OF LABOUR &amp; PRODUCTIVITY</td>\n",
       "      <td>Egberike, Ms. Ebiakpo</td>\n",
       "      <td>37693.62</td>\n",
       "      <td>2</td>\n",
       "    </tr>\n",
       "  </tbody>\n",
       "</table>\n",
       "</div>"
      ],
      "text/plain": [
       "   Employee Number                                    Ministry Name  \\\n",
       "0              2.0       FEDERAL MINISTRY OF SCIENCE AND TECHNOLOGY   \n",
       "1              5.0                   NATIONAL POPULATION COMMISSION   \n",
       "2             65.0  FEDERAL MINISTRY OF MINES AND STEEL DEVELOPMENT   \n",
       "3            211.0                        POLICE SERVICE COMMISSION   \n",
       "4            615.0                        MINISTRY OF DEFENCE - MOD   \n",
       "5           1071.0                        MINISTRY OF DEFENCE - MOD   \n",
       "6           1900.0        FEDERAL MINISTRY OF LABOUR & PRODUCTIVITY   \n",
       "\n",
       "                     Employee Name  TotalDeducted  Nos Deducted  \n",
       "0   BAMIKARERE, Mr. OLADELE ADEOLA       16524.62             2  \n",
       "1        ARINZE, Ms. ONYINYE CHIKA      101045.32             2  \n",
       "2              IBRAHIM, Mr. ISYAKU      121032.57             3  \n",
       "3      MOHAMMED, Mr. DAMARGU IDRIS       13363.66             2  \n",
       "4        YUSUF, Mrs. JIMADA FATIMA       36673.76             4  \n",
       "5  Owonibi, Mrs. Loveth Oluwabunmi       25894.51             1  \n",
       "6            Egberike, Ms. Ebiakpo       37693.62             2  "
      ]
     },
     "execution_count": 5,
     "metadata": {},
     "output_type": "execute_result"
    }
   ],
   "source": [
    "required_columns = ['Employee Number',\n",
    "                    'Ministry Name',\n",
    "                    'Employee Name',\n",
    "                    'Deduction Amountsum',\n",
    "                    'Deduction Amountcount', \n",
    "                    ]\n",
    "\n",
    "target_deduction = deduction[required_columns]\n",
    "deduction = target_deduction.rename(columns = {'Deduction Amountsum': 'TotalDeducted', 'Deduction Amountcount': 'Nos Deducted'})\n",
    "\n",
    "deduction.head(7)"
   ]
  },
  {
   "cell_type": "code",
   "execution_count": 6,
   "id": "shared-mambo",
   "metadata": {
    "ExecuteTime": {
     "end_time": "2021-05-11T08:41:35.817764Z",
     "start_time": "2021-05-11T08:41:34.802821Z"
    }
   },
   "outputs": [],
   "source": [
    "deduction.to_excel('Cleaned_Deduction_Report.xlsx')"
   ]
  },
  {
   "cell_type": "code",
   "execution_count": null,
   "id": "decreased-discussion",
   "metadata": {},
   "outputs": [],
   "source": []
  },
  {
   "cell_type": "code",
   "execution_count": 7,
   "id": "suspended-intake",
   "metadata": {
    "ExecuteTime": {
     "end_time": "2021-05-11T08:41:37.849654Z",
     "start_time": "2021-05-11T08:41:35.822766Z"
    }
   },
   "outputs": [
    {
     "data": {
      "text/html": [
       "<div>\n",
       "<style scoped>\n",
       "    .dataframe tbody tr th:only-of-type {\n",
       "        vertical-align: middle;\n",
       "    }\n",
       "\n",
       "    .dataframe tbody tr th {\n",
       "        vertical-align: top;\n",
       "    }\n",
       "\n",
       "    .dataframe thead th {\n",
       "        text-align: right;\n",
       "    }\n",
       "</style>\n",
       "<table border=\"1\" class=\"dataframe\">\n",
       "  <thead>\n",
       "    <tr style=\"text-align: right;\">\n",
       "      <th></th>\n",
       "      <th>Unnamed: 0</th>\n",
       "      <th>Released</th>\n",
       "      <th>Maturity</th>\n",
       "      <th>Loan#</th>\n",
       "      <th>Name</th>\n",
       "      <th>IPPIS No</th>\n",
       "      <th>Principal</th>\n",
       "      <th>Duration</th>\n",
       "      <th>Due</th>\n",
       "      <th>Paid</th>\n",
       "      <th>Amortization</th>\n",
       "      <th>PendingDue</th>\n",
       "      <th>Last Paid Date</th>\n",
       "      <th>Last Payment</th>\n",
       "      <th>Balance</th>\n",
       "      <th>MINISTRY/AGENCY</th>\n",
       "      <th>Status</th>\n",
       "    </tr>\n",
       "  </thead>\n",
       "  <tbody>\n",
       "    <tr>\n",
       "      <th>0</th>\n",
       "      <td>0</td>\n",
       "      <td>2020-07-12</td>\n",
       "      <td>2021-07-03</td>\n",
       "      <td>CCM-3429654124</td>\n",
       "      <td>Okoye Ugochukwu Daniel</td>\n",
       "      <td>37503</td>\n",
       "      <td>18900.00</td>\n",
       "      <td>3</td>\n",
       "      <td>25042.31</td>\n",
       "      <td>NaN</td>\n",
       "      <td>8347.43</td>\n",
       "      <td>25042.31</td>\n",
       "      <td>NaN</td>\n",
       "      <td>NaN</td>\n",
       "      <td>25042.31</td>\n",
       "      <td>Scientific Equipment Development Institute</td>\n",
       "      <td>Processing</td>\n",
       "    </tr>\n",
       "    <tr>\n",
       "      <th>1</th>\n",
       "      <td>1</td>\n",
       "      <td>2020-10-27</td>\n",
       "      <td>2021-01-27</td>\n",
       "      <td>CC-3429654123</td>\n",
       "      <td>AMINU,  HADIZA A</td>\n",
       "      <td>127405</td>\n",
       "      <td>49018.00</td>\n",
       "      <td>3</td>\n",
       "      <td>64948.36</td>\n",
       "      <td>NaN</td>\n",
       "      <td>21649.46</td>\n",
       "      <td>64948.36</td>\n",
       "      <td>NaN</td>\n",
       "      <td>NaN</td>\n",
       "      <td>64948.36</td>\n",
       "      <td>NIGERIAN TELEVISION AUTHORITY</td>\n",
       "      <td>Past Maturity</td>\n",
       "    </tr>\n",
       "    <tr>\n",
       "      <th>2</th>\n",
       "      <td>2</td>\n",
       "      <td>2020-10-22</td>\n",
       "      <td>2021-01-22</td>\n",
       "      <td>CC-6706402307</td>\n",
       "      <td>OKELOLA,  KAYODE O</td>\n",
       "      <td>250300</td>\n",
       "      <td>71685.81</td>\n",
       "      <td>3</td>\n",
       "      <td>94976.53</td>\n",
       "      <td>63317.68</td>\n",
       "      <td>NaN</td>\n",
       "      <td>31658.85</td>\n",
       "      <td>08-03-21</td>\n",
       "      <td>31658.84</td>\n",
       "      <td>31658.85</td>\n",
       "      <td>FEDERAL MEDICAL CENTRE ABEOKUTA,</td>\n",
       "      <td>Past Maturity</td>\n",
       "    </tr>\n",
       "    <tr>\n",
       "      <th>3</th>\n",
       "      <td>3</td>\n",
       "      <td>2020-10-22</td>\n",
       "      <td>2021-01-22</td>\n",
       "      <td>CC-645924972</td>\n",
       "      <td>ALHASSAN, ALHASSAN LUKMAN A</td>\n",
       "      <td>464224</td>\n",
       "      <td>63848.04</td>\n",
       "      <td>3</td>\n",
       "      <td>84592.26</td>\n",
       "      <td>84592.26</td>\n",
       "      <td>NaN</td>\n",
       "      <td>NaN</td>\n",
       "      <td>30-01-21</td>\n",
       "      <td>28197.42</td>\n",
       "      <td>0.00</td>\n",
       "      <td>NATIONAL BOARD FOR ARABIC AND ISLAMIC STUDIES,</td>\n",
       "      <td>Fully Paid</td>\n",
       "    </tr>\n",
       "    <tr>\n",
       "      <th>...</th>\n",
       "      <td>...</td>\n",
       "      <td>...</td>\n",
       "      <td>...</td>\n",
       "      <td>...</td>\n",
       "      <td>...</td>\n",
       "      <td>...</td>\n",
       "      <td>...</td>\n",
       "      <td>...</td>\n",
       "      <td>...</td>\n",
       "      <td>...</td>\n",
       "      <td>...</td>\n",
       "      <td>...</td>\n",
       "      <td>...</td>\n",
       "      <td>...</td>\n",
       "      <td>...</td>\n",
       "      <td>...</td>\n",
       "      <td>...</td>\n",
       "    </tr>\n",
       "    <tr>\n",
       "      <th>1245</th>\n",
       "      <td>1248</td>\n",
       "      <td>2020-09-17</td>\n",
       "      <td>2020-12-17</td>\n",
       "      <td>CC-101222085</td>\n",
       "      <td>AKOLO, JOSEPH PAUL A</td>\n",
       "      <td>348836</td>\n",
       "      <td>31235.40</td>\n",
       "      <td>3</td>\n",
       "      <td>38263.37</td>\n",
       "      <td>38263.38</td>\n",
       "      <td>NaN</td>\n",
       "      <td>NaN</td>\n",
       "      <td>08-03-21</td>\n",
       "      <td>12754.46</td>\n",
       "      <td>-0.01</td>\n",
       "      <td>FEDERAL RADIO CORPORATION OF NIGERIA,</td>\n",
       "      <td>Fully Paid</td>\n",
       "    </tr>\n",
       "    <tr>\n",
       "      <th>1246</th>\n",
       "      <td>1249</td>\n",
       "      <td>2020-09-16</td>\n",
       "      <td>2020-12-16</td>\n",
       "      <td>CC-9737170206</td>\n",
       "      <td>MUHAMMAD,  NAFIU M</td>\n",
       "      <td>438725</td>\n",
       "      <td>20306.66</td>\n",
       "      <td>3</td>\n",
       "      <td>24875.66</td>\n",
       "      <td>16583.78</td>\n",
       "      <td>NaN</td>\n",
       "      <td>8291.88</td>\n",
       "      <td>08-03-21</td>\n",
       "      <td>8291.89</td>\n",
       "      <td>8291.88</td>\n",
       "      <td>NaN</td>\n",
       "      <td>Past Maturity</td>\n",
       "    </tr>\n",
       "    <tr>\n",
       "      <th>1247</th>\n",
       "      <td>1250</td>\n",
       "      <td>2020-09-16</td>\n",
       "      <td>2020-12-16</td>\n",
       "      <td>CC-8805963535</td>\n",
       "      <td>JIBRIN , OLABA  IBRAHIM J</td>\n",
       "      <td>307777</td>\n",
       "      <td>9861.68</td>\n",
       "      <td>3</td>\n",
       "      <td>12080.56</td>\n",
       "      <td>NaN</td>\n",
       "      <td>4026.84</td>\n",
       "      <td>12080.56</td>\n",
       "      <td>NaN</td>\n",
       "      <td>NaN</td>\n",
       "      <td>12080.56</td>\n",
       "      <td>NaN</td>\n",
       "      <td>Unsolicited Loan: resolved</td>\n",
       "    </tr>\n",
       "    <tr>\n",
       "      <th>1248</th>\n",
       "      <td>1251</td>\n",
       "      <td>2020-09-15</td>\n",
       "      <td>2020-12-15</td>\n",
       "      <td>CC-8815984159</td>\n",
       "      <td>ABDULLAHI, HAMZA GAMBO A</td>\n",
       "      <td>168582</td>\n",
       "      <td>2256.00</td>\n",
       "      <td>3</td>\n",
       "      <td>2763.60</td>\n",
       "      <td>NaN</td>\n",
       "      <td>921.20</td>\n",
       "      <td>2763.60</td>\n",
       "      <td>NaN</td>\n",
       "      <td>NaN</td>\n",
       "      <td>2763.60</td>\n",
       "      <td>NaN</td>\n",
       "      <td>Past Maturity</td>\n",
       "    </tr>\n",
       "  </tbody>\n",
       "</table>\n",
       "<p>1249 rows × 17 columns</p>\n",
       "</div>"
      ],
      "text/plain": [
       "      Unnamed: 0   Released   Maturity           Loan#  \\\n",
       "0              0 2020-07-12 2021-07-03  CCM-3429654124   \n",
       "1              1 2020-10-27 2021-01-27   CC-3429654123   \n",
       "2              2 2020-10-22 2021-01-22   CC-6706402307   \n",
       "3              3 2020-10-22 2021-01-22    CC-645924972   \n",
       "...          ...        ...        ...             ...   \n",
       "1245        1248 2020-09-17 2020-12-17    CC-101222085   \n",
       "1246        1249 2020-09-16 2020-12-16   CC-9737170206   \n",
       "1247        1250 2020-09-16 2020-12-16   CC-8805963535   \n",
       "1248        1251 2020-09-15 2020-12-15   CC-8815984159   \n",
       "\n",
       "                             Name  IPPIS No  Principal  Duration       Due  \\\n",
       "0          Okoye Ugochukwu Daniel     37503   18900.00         3  25042.31   \n",
       "1                AMINU,  HADIZA A    127405   49018.00         3  64948.36   \n",
       "2              OKELOLA,  KAYODE O    250300   71685.81         3  94976.53   \n",
       "3     ALHASSAN, ALHASSAN LUKMAN A    464224   63848.04         3  84592.26   \n",
       "...                           ...       ...        ...       ...       ...   \n",
       "1245         AKOLO, JOSEPH PAUL A    348836   31235.40         3  38263.37   \n",
       "1246           MUHAMMAD,  NAFIU M    438725   20306.66         3  24875.66   \n",
       "1247    JIBRIN , OLABA  IBRAHIM J    307777    9861.68         3  12080.56   \n",
       "1248     ABDULLAHI, HAMZA GAMBO A    168582    2256.00         3   2763.60   \n",
       "\n",
       "          Paid  Amortization  PendingDue Last Paid Date  Last Payment  \\\n",
       "0          NaN       8347.43    25042.31            NaN           NaN   \n",
       "1          NaN      21649.46    64948.36            NaN           NaN   \n",
       "2     63317.68           NaN    31658.85       08-03-21      31658.84   \n",
       "3     84592.26           NaN         NaN       30-01-21      28197.42   \n",
       "...        ...           ...         ...            ...           ...   \n",
       "1245  38263.38           NaN         NaN       08-03-21      12754.46   \n",
       "1246  16583.78           NaN     8291.88       08-03-21       8291.89   \n",
       "1247       NaN       4026.84    12080.56            NaN           NaN   \n",
       "1248       NaN        921.20     2763.60            NaN           NaN   \n",
       "\n",
       "       Balance                                 MINISTRY/AGENCY  \\\n",
       "0     25042.31      Scientific Equipment Development Institute   \n",
       "1     64948.36                   NIGERIAN TELEVISION AUTHORITY   \n",
       "2     31658.85                FEDERAL MEDICAL CENTRE ABEOKUTA,   \n",
       "3         0.00  NATIONAL BOARD FOR ARABIC AND ISLAMIC STUDIES,   \n",
       "...        ...                                             ...   \n",
       "1245     -0.01           FEDERAL RADIO CORPORATION OF NIGERIA,   \n",
       "1246   8291.88                                             NaN   \n",
       "1247  12080.56                                             NaN   \n",
       "1248   2763.60                                             NaN   \n",
       "\n",
       "                          Status  \n",
       "0                     Processing  \n",
       "1                  Past Maturity  \n",
       "2                  Past Maturity  \n",
       "3                     Fully Paid  \n",
       "...                          ...  \n",
       "1245                  Fully Paid  \n",
       "1246               Past Maturity  \n",
       "1247  Unsolicited Loan: resolved  \n",
       "1248               Past Maturity  \n",
       "\n",
       "[1249 rows x 17 columns]"
      ]
     },
     "execution_count": 7,
     "metadata": {},
     "output_type": "execute_result"
    }
   ],
   "source": [
    "ippis_data = pd.read_excel(\"Cleaned_loan_disk.xlsx\")\n",
    "ippis_data"
   ]
  },
  {
   "cell_type": "code",
   "execution_count": 8,
   "id": "satisfied-kingston",
   "metadata": {
    "ExecuteTime": {
     "end_time": "2021-05-11T08:41:38.222634Z",
     "start_time": "2021-05-11T08:41:37.860655Z"
    }
   },
   "outputs": [],
   "source": [
    "file_merge = pd.merge(\n",
    "                left= ippis_data,\n",
    "                right= deduction,\n",
    "                how=\"outer\",\n",
    "                left_on=\"IPPIS No\",\n",
    "                right_on=\"Employee Number\"\n",
    "                )\n",
    "\n"
   ]
  },
  {
   "cell_type": "code",
   "execution_count": 9,
   "id": "maritime-outline",
   "metadata": {
    "ExecuteTime": {
     "end_time": "2021-05-11T08:41:38.253632Z",
     "start_time": "2021-05-11T08:41:38.231633Z"
    }
   },
   "outputs": [
    {
     "data": {
      "text/plain": [
       "Index(['Unnamed: 0', 'Released', 'Maturity', 'Loan#', 'Name', 'IPPIS No',\n",
       "       'Principal', 'Duration', 'Due', 'Paid', 'Amortization', 'PendingDue',\n",
       "       'Last Paid Date', 'Last Payment', 'Balance', 'MINISTRY/AGENCY',\n",
       "       'Status', 'Employee Number', 'Ministry Name', 'Employee Name',\n",
       "       'TotalDeducted', 'Nos Deducted'],\n",
       "      dtype='object')"
      ]
     },
     "execution_count": 9,
     "metadata": {},
     "output_type": "execute_result"
    }
   ],
   "source": [
    "file_merge.columns"
   ]
  },
  {
   "cell_type": "code",
   "execution_count": 10,
   "id": "silver-harvard",
   "metadata": {
    "ExecuteTime": {
     "end_time": "2021-05-11T08:41:38.457620Z",
     "start_time": "2021-05-11T08:41:38.259632Z"
    }
   },
   "outputs": [],
   "source": [
    "new_merge = file_merge[['Released',\n",
    "                        'Maturity',\n",
    "                        'Loan#',\n",
    "                        'Name',\n",
    "                        'IPPIS No',\n",
    "                        'Employee Number',\n",
    "                        'Principal',\n",
    "                        'Due',\n",
    "                        'Paid',\n",
    "                        'TotalDeducted',\n",
    "                        'PendingDue',\n",
    "                        'Last Payment',\n",
    "                        'Duration',\n",
    "                        'Nos Deducted',\n",
    "                        'Balance',\n",
    "                        'MINISTRY/AGENCY',\n",
    "                        'Status'\n",
    "                        ]]\n"
   ]
  },
  {
   "cell_type": "code",
   "execution_count": 11,
   "id": "colonial-prime",
   "metadata": {
    "ExecuteTime": {
     "end_time": "2021-05-11T08:41:38.708610Z",
     "start_time": "2021-05-11T08:41:38.461619Z"
    }
   },
   "outputs": [
    {
     "data": {
      "text/html": [
       "<div>\n",
       "<style scoped>\n",
       "    .dataframe tbody tr th:only-of-type {\n",
       "        vertical-align: middle;\n",
       "    }\n",
       "\n",
       "    .dataframe tbody tr th {\n",
       "        vertical-align: top;\n",
       "    }\n",
       "\n",
       "    .dataframe thead th {\n",
       "        text-align: right;\n",
       "    }\n",
       "</style>\n",
       "<table border=\"1\" class=\"dataframe\">\n",
       "  <thead>\n",
       "    <tr style=\"text-align: right;\">\n",
       "      <th></th>\n",
       "      <th>Released</th>\n",
       "      <th>Maturity</th>\n",
       "      <th>Loan#</th>\n",
       "      <th>Name</th>\n",
       "      <th>IPPIS No</th>\n",
       "      <th>Employee Number</th>\n",
       "      <th>Principal</th>\n",
       "      <th>Due</th>\n",
       "      <th>LoanDiskPaid</th>\n",
       "      <th>TotalDeducted</th>\n",
       "      <th>PendingDue</th>\n",
       "      <th>Last Payment</th>\n",
       "      <th>Duration</th>\n",
       "      <th>Nos Deducted</th>\n",
       "      <th>Balance</th>\n",
       "      <th>MINISTRY/AGENCY</th>\n",
       "      <th>Status</th>\n",
       "    </tr>\n",
       "  </thead>\n",
       "  <tbody>\n",
       "    <tr>\n",
       "      <th>1</th>\n",
       "      <td>2020-10-27</td>\n",
       "      <td>2021-01-27</td>\n",
       "      <td>CC-3429654123</td>\n",
       "      <td>AMINU,  HADIZA A</td>\n",
       "      <td>127405.0</td>\n",
       "      <td>127405.0</td>\n",
       "      <td>49018.00</td>\n",
       "      <td>64948.36</td>\n",
       "      <td>NaN</td>\n",
       "      <td>86597.80</td>\n",
       "      <td>64948.36</td>\n",
       "      <td>NaN</td>\n",
       "      <td>3.0</td>\n",
       "      <td>4.0</td>\n",
       "      <td>64948.36</td>\n",
       "      <td>NIGERIAN TELEVISION AUTHORITY</td>\n",
       "      <td>Past Maturity</td>\n",
       "    </tr>\n",
       "    <tr>\n",
       "      <th>2</th>\n",
       "      <td>2020-10-22</td>\n",
       "      <td>2021-01-22</td>\n",
       "      <td>CC-6706402307</td>\n",
       "      <td>OKELOLA,  KAYODE O</td>\n",
       "      <td>250300.0</td>\n",
       "      <td>250300.0</td>\n",
       "      <td>71685.81</td>\n",
       "      <td>94976.53</td>\n",
       "      <td>63317.68</td>\n",
       "      <td>94976.52</td>\n",
       "      <td>31658.85</td>\n",
       "      <td>31658.84</td>\n",
       "      <td>3.0</td>\n",
       "      <td>3.0</td>\n",
       "      <td>31658.85</td>\n",
       "      <td>FEDERAL MEDICAL CENTRE ABEOKUTA,</td>\n",
       "      <td>Past Maturity</td>\n",
       "    </tr>\n",
       "    <tr>\n",
       "      <th>3</th>\n",
       "      <td>2020-10-22</td>\n",
       "      <td>2021-01-22</td>\n",
       "      <td>CC-645924972</td>\n",
       "      <td>ALHASSAN, ALHASSAN LUKMAN A</td>\n",
       "      <td>464224.0</td>\n",
       "      <td>464224.0</td>\n",
       "      <td>63848.04</td>\n",
       "      <td>84592.26</td>\n",
       "      <td>84592.26</td>\n",
       "      <td>84592.26</td>\n",
       "      <td>NaN</td>\n",
       "      <td>28197.42</td>\n",
       "      <td>3.0</td>\n",
       "      <td>3.0</td>\n",
       "      <td>0.00</td>\n",
       "      <td>NATIONAL BOARD FOR ARABIC AND ISLAMIC STUDIES,</td>\n",
       "      <td>Fully Paid</td>\n",
       "    </tr>\n",
       "    <tr>\n",
       "      <th>4</th>\n",
       "      <td>2020-10-22</td>\n",
       "      <td>2021-01-22</td>\n",
       "      <td>CC-6733683418</td>\n",
       "      <td>AYINLA, JANET OLUREMI A</td>\n",
       "      <td>190057.0</td>\n",
       "      <td>190057.0</td>\n",
       "      <td>37118.30</td>\n",
       "      <td>49178.04</td>\n",
       "      <td>16392.68</td>\n",
       "      <td>49178.04</td>\n",
       "      <td>32785.36</td>\n",
       "      <td>16392.68</td>\n",
       "      <td>3.0</td>\n",
       "      <td>3.0</td>\n",
       "      <td>32785.36</td>\n",
       "      <td>UNILORIN TEACHING HOSPITAL - ILORIN,</td>\n",
       "      <td>Past Maturity</td>\n",
       "    </tr>\n",
       "    <tr>\n",
       "      <th>5</th>\n",
       "      <td>2020-10-22</td>\n",
       "      <td>2021-01-22</td>\n",
       "      <td>CC-69140781</td>\n",
       "      <td>YAKUBU, ANDA YAHAYA Y</td>\n",
       "      <td>218313.0</td>\n",
       "      <td>218313.0</td>\n",
       "      <td>38101.62</td>\n",
       "      <td>50480.84</td>\n",
       "      <td>50480.85</td>\n",
       "      <td>50480.85</td>\n",
       "      <td>NaN</td>\n",
       "      <td>16826.95</td>\n",
       "      <td>3.0</td>\n",
       "      <td>3.0</td>\n",
       "      <td>-0.01</td>\n",
       "      <td>NATIONAL LOTTERY REGULATORY COMMISSION,</td>\n",
       "      <td>Fully Paid</td>\n",
       "    </tr>\n",
       "  </tbody>\n",
       "</table>\n",
       "</div>"
      ],
      "text/plain": [
       "    Released   Maturity          Loan#                         Name  IPPIS No  \\\n",
       "1 2020-10-27 2021-01-27  CC-3429654123             AMINU,  HADIZA A  127405.0   \n",
       "2 2020-10-22 2021-01-22  CC-6706402307           OKELOLA,  KAYODE O  250300.0   \n",
       "3 2020-10-22 2021-01-22   CC-645924972  ALHASSAN, ALHASSAN LUKMAN A  464224.0   \n",
       "4 2020-10-22 2021-01-22  CC-6733683418      AYINLA, JANET OLUREMI A  190057.0   \n",
       "5 2020-10-22 2021-01-22    CC-69140781        YAKUBU, ANDA YAHAYA Y  218313.0   \n",
       "\n",
       "   Employee Number  Principal       Due  LoanDiskPaid  TotalDeducted  \\\n",
       "1         127405.0   49018.00  64948.36           NaN       86597.80   \n",
       "2         250300.0   71685.81  94976.53      63317.68       94976.52   \n",
       "3         464224.0   63848.04  84592.26      84592.26       84592.26   \n",
       "4         190057.0   37118.30  49178.04      16392.68       49178.04   \n",
       "5         218313.0   38101.62  50480.84      50480.85       50480.85   \n",
       "\n",
       "   PendingDue  Last Payment  Duration  Nos Deducted   Balance  \\\n",
       "1    64948.36           NaN       3.0           4.0  64948.36   \n",
       "2    31658.85      31658.84       3.0           3.0  31658.85   \n",
       "3         NaN      28197.42       3.0           3.0      0.00   \n",
       "4    32785.36      16392.68       3.0           3.0  32785.36   \n",
       "5         NaN      16826.95       3.0           3.0     -0.01   \n",
       "\n",
       "                                  MINISTRY/AGENCY         Status  \n",
       "1                   NIGERIAN TELEVISION AUTHORITY  Past Maturity  \n",
       "2                FEDERAL MEDICAL CENTRE ABEOKUTA,  Past Maturity  \n",
       "3  NATIONAL BOARD FOR ARABIC AND ISLAMIC STUDIES,     Fully Paid  \n",
       "4            UNILORIN TEACHING HOSPITAL - ILORIN,  Past Maturity  \n",
       "5         NATIONAL LOTTERY REGULATORY COMMISSION,     Fully Paid  "
      ]
     },
     "execution_count": 11,
     "metadata": {},
     "output_type": "execute_result"
    }
   ],
   "source": [
    "merged_data = new_merge.rename(columns={'Paid':'LoanDiskPaid'})\n",
    "\n",
    "processingMask = merged_data['Status'] != 'Processing'\n",
    "merged_data = merged_data[processingMask]\n",
    "\n",
    "merged_data.head(5)"
   ]
  },
  {
   "cell_type": "code",
   "execution_count": 12,
   "id": "pediatric-desert",
   "metadata": {
    "ExecuteTime": {
     "end_time": "2021-05-11T08:41:38.865598Z",
     "start_time": "2021-05-11T08:41:38.714611Z"
    }
   },
   "outputs": [],
   "source": [
    "merged_data['TotalDeducted'] = merged_data['TotalDeducted'].replace(to_replace = np.nan, value = 0)\n",
    "\n",
    "merged_data['LoanDiskPaid'] = merged_data['LoanDiskPaid'].replace(to_replace = np.nan, value = 0)"
   ]
  },
  {
   "cell_type": "code",
   "execution_count": 13,
   "id": "happy-slovakia",
   "metadata": {
    "ExecuteTime": {
     "end_time": "2021-05-11T08:41:39.070587Z",
     "start_time": "2021-05-11T08:41:38.871597Z"
    }
   },
   "outputs": [],
   "source": [
    "# seye = merged_data[merged_data['TotalDeducted'] == 0]\n",
    "# seye"
   ]
  },
  {
   "cell_type": "code",
   "execution_count": 14,
   "id": "gorgeous-maryland",
   "metadata": {
    "ExecuteTime": {
     "end_time": "2021-05-11T08:41:39.447564Z",
     "start_time": "2021-05-11T08:41:39.082586Z"
    },
    "scrolled": false
   },
   "outputs": [],
   "source": [
    "merged_data['Credit_Diff'] = merged_data['TotalDeducted'] - merged_data['LoanDiskPaid']\n",
    "merged_data['Credit_Diff'] = merged_data['Credit_Diff'].apply(lambda x: round(x, 3))\n",
    "\n",
    "merged_data['LoanBalance'] = merged_data['Due'] - merged_data['TotalDeducted']\n",
    "merged_data['LoanBalance'] = merged_data['LoanBalance'].apply(lambda x: round(x, 0))\n",
    "\n",
    "merged_data['Amortization'] = merged_data['Due'] / merged_data['Duration']\n",
    "merged_data['Amortization'] = merged_data['Amortization'].apply(lambda x: round(x, 2))\n",
    "\n",
    "merged_data['PendingDuration'] = (merged_data['Due'] - merged_data['TotalDeducted']) / merged_data['Amortization']\n",
    "merged_data['PendingDuration'] = merged_data['PendingDuration'].apply(lambda x: round(x, 0))\n",
    "\n",
    "merged_data['Deduction Amount'] = merged_data['LoanBalance'] / merged_data['PendingDuration']\n",
    "merged_data['Deduction Amount'] = merged_data['Deduction Amount'].apply(lambda x: round(x, 0))\n",
    "\n",
    "merged_data['Start Date'] = \"\"\n",
    "merged_data['End Date'] = \"\"\n",
    "\n",
    "\n",
    "merged_data.to_csv('validation.csv')"
   ]
  },
  {
   "cell_type": "code",
   "execution_count": 15,
   "id": "critical-conservative",
   "metadata": {
    "ExecuteTime": {
     "end_time": "2021-05-11T08:41:39.462566Z",
     "start_time": "2021-05-11T08:41:39.450567Z"
    }
   },
   "outputs": [
    {
     "data": {
      "text/plain": [
       "pandas.core.series.Series"
      ]
     },
     "execution_count": 15,
     "metadata": {},
     "output_type": "execute_result"
    }
   ],
   "source": [
    "current_month = dt.datetime.today().strftime('%m/%y')\n",
    "merged_data['Start Date'] = current_month\n",
    "type(merged_data['Start Date'])"
   ]
  },
  {
   "cell_type": "code",
   "execution_count": 16,
   "id": "stuffed-philadelphia",
   "metadata": {
    "ExecuteTime": {
     "end_time": "2021-05-11T08:41:39.681568Z",
     "start_time": "2021-05-11T08:41:39.468564Z"
    }
   },
   "outputs": [],
   "source": [
    "# a = current_month + 1"
   ]
  },
  {
   "cell_type": "code",
   "execution_count": 18,
   "id": "naughty-syndication",
   "metadata": {
    "ExecuteTime": {
     "end_time": "2021-05-11T08:50:27.199935Z",
     "start_time": "2021-05-11T08:50:27.061917Z"
    },
    "scrolled": true
   },
   "outputs": [],
   "source": [
    "NLoan_status = []\n",
    "for data in merged_data['LoanBalance']:\n",
    "    if data < -10 :\n",
    "        NLoan_status.append('Excess Payment')\n",
    "    elif data == 0 or data < 5:\n",
    "        NLoan_status.append('fully paid')\n",
    "    elif data > 5:\n",
    "        NLoan_status.append('running')\n",
    "    elif np.nan:\n",
    "        NLoan_status.append('no deduction')\n",
    "    else:\n",
    "        pass\n",
    "        \n",
    "NLoan_status\n",
    "merged_data['Loan status'] = NLoan_status\n",
    "\n",
    "merged_data.to_csv('csv.csv')"
   ]
  },
  {
   "cell_type": "code",
   "execution_count": null,
   "id": "foster-thompson",
   "metadata": {
    "ExecuteTime": {
     "end_time": "2021-05-11T08:41:42.286411Z",
     "start_time": "2021-05-11T08:41:08.856Z"
    }
   },
   "outputs": [],
   "source": [
    "# i=merged_data[(merged_data['Loan status'] != 'Excess Payment') & (merged_data['Loan status'] != 'fully paid')]\n",
    "gh = merged_data[merged_data['Status'] == 'Past Maturity']\n",
    "i = gh[(merged_data['Loan status'] != 'Excess Payment') & (merged_data['Loan status'] != 'fully paid')]\n",
    "i"
   ]
  },
  {
   "cell_type": "code",
   "execution_count": null,
   "id": "sticky-ireland",
   "metadata": {
    "ExecuteTime": {
     "end_time": "2021-05-11T08:41:42.289410Z",
     "start_time": "2021-05-11T08:41:08.880Z"
    }
   },
   "outputs": [],
   "source": [
    "new_df = i['LoanBalance'] >= 3\n",
    "final_data = i[new_df]"
   ]
  },
  {
   "cell_type": "code",
   "execution_count": null,
   "id": "electric-victor",
   "metadata": {
    "ExecuteTime": {
     "end_time": "2021-05-11T08:41:42.292410Z",
     "start_time": "2021-05-11T08:41:08.911Z"
    }
   },
   "outputs": [],
   "source": [
    "# valid_data = merged_data[(merged_data['Loan status'] != 'Excess Payment') & (merged_data['Loan status'] != 'fully paid')]\n",
    "# merged_data = merged_data[valid_data]\n",
    "# new_df = merged_data['LoanBalance'] >= 3\n",
    "# final_data = merged_data[new_df]\n",
    "\n",
    "# final_data"
   ]
  },
  {
   "cell_type": "code",
   "execution_count": null,
   "id": "stock-orchestra",
   "metadata": {
    "ExecuteTime": {
     "end_time": "2021-05-11T08:41:42.296410Z",
     "start_time": "2021-05-11T08:41:08.942Z"
    }
   },
   "outputs": [],
   "source": [
    "PMask = merged_data[(merged_data['LoanBalance'] == 0.01) & (merged_data[(merged_data['LoanBalance'] <= 3)]\n",
    "update = merged_data[PMask]\n",
    "update.to_csv('Update LoanBalance.csv')"
   ]
  },
  {
   "cell_type": "code",
   "execution_count": null,
   "id": "japanese-wells",
   "metadata": {
    "ExecuteTime": {
     "end_time": "2021-05-11T08:41:42.300410Z",
     "start_time": "2021-05-11T08:41:08.970Z"
    }
   },
   "outputs": [],
   "source": [
    "deductionList = {\n",
    "    \"Employee Number\" : final_data['IPPIS No'],\n",
    "    \"Client Name\" : final_data['Name'],\n",
    "   \"Start_Date\" : final_data['Start Date'],\n",
    "    \"End_Date\" : final_data['End Date'],\n",
    "    \"Deduction Amount\" : final_data['Deduction Amount'],\n",
    "    \"Duration\" : final_data['PendingDuration'],\n",
    "     \"Loan Balance\" : final_data['LoanBalance']\n",
    "}\n",
    "# deductionList\n",
    "df = pd.DataFrame(deductionList)\n",
    "df.to_csv('final_deduction.csv', index=False)"
   ]
  },
  {
   "cell_type": "code",
   "execution_count": null,
   "id": "polar-combination",
   "metadata": {
    "ExecuteTime": {
     "end_time": "2021-05-11T08:41:42.304412Z",
     "start_time": "2021-05-11T08:41:09.000Z"
    }
   },
   "outputs": [],
   "source": [
    "NotDeducted = {\n",
    "    \"Employee Number\" : final_data['IPPIS No'],\n",
    "    \"Client Name\" : final_data['Name'],\n",
    "    \"Principal\" : final_data['Principal'],\n",
    "    \"Tenor\" : final_data['Duration'],\n",
    "   \"Ministry Name\" : final_data['MINISTRY/AGENCY'],\n",
    "    \"Expected Payment\" : final_data['Due'],\n",
    "    \"Loan Balance\": final_data['LoanBalance']\n",
    "   }\n",
    "# deductionList\n",
    "dfa = pd.DataFrame(NotDeducted)\n",
    "dfa.to_csv('not_deducted.csv', index=False)"
   ]
  },
  {
   "cell_type": "code",
   "execution_count": null,
   "id": "passing-remainder",
   "metadata": {
    "ExecuteTime": {
     "end_time": "2021-05-07T14:32:20.462218Z",
     "start_time": "2021-05-07T14:32:20.444193Z"
    }
   },
   "outputs": [],
   "source": []
  },
  {
   "cell_type": "code",
   "execution_count": null,
   "id": "conditional-hygiene",
   "metadata": {
    "ExecuteTime": {
     "end_time": "2021-05-11T08:41:42.314409Z",
     "start_time": "2021-05-11T08:41:09.035Z"
    }
   },
   "outputs": [],
   "source": [
    "# valid_data = merged_data[(merged_data['Loan status'] != 'Excess Payment') & (merged_data['Loan status'] != 'fully paid')]\n",
    "new_df = valid_data(valid_data['LoanBalance'] >= 3) & (valid_data['LoanBalance'] == np.nan)]\n",
    "# final_data = valid_data[new_df]\n",
    "new_df\n",
    "# final_data\n",
    "# # valid_data"
   ]
  },
  {
   "cell_type": "code",
   "execution_count": null,
   "id": "fresh-clause",
   "metadata": {
    "ExecuteTime": {
     "end_time": "2021-05-05T10:31:51.793097Z",
     "start_time": "2021-05-05T10:31:51.789095Z"
    }
   },
   "outputs": [],
   "source": []
  },
  {
   "cell_type": "code",
   "execution_count": null,
   "id": "combined-maldives",
   "metadata": {
    "ExecuteTime": {
     "end_time": "2021-05-05T10:31:56.787824Z",
     "start_time": "2021-05-05T10:31:56.774822Z"
    }
   },
   "outputs": [],
   "source": []
  },
  {
   "cell_type": "code",
   "execution_count": null,
   "id": "nasty-bacon",
   "metadata": {
    "ExecuteTime": {
     "end_time": "2021-05-11T08:41:42.321409Z",
     "start_time": "2021-05-11T08:41:09.096Z"
    },
    "scrolled": true
   },
   "outputs": [],
   "source": [
    "merged_data['Loan status'] = merged_data['Loan status'].where(merged_data['Loan status'] == 'running', 'no deduction')\n",
    "merged_data['Loan status'] # merged_data[(merged_data['Loan status'] != 'Excess Payment') & (merged_data['Loan status'] != 'fully paid')]"
   ]
  },
  {
   "cell_type": "code",
   "execution_count": null,
   "id": "assumed-hammer",
   "metadata": {
    "ExecuteTime": {
     "end_time": "2021-05-05T10:32:00.791604Z",
     "start_time": "2021-05-05T10:32:00.778602Z"
    }
   },
   "outputs": [],
   "source": []
  },
  {
   "cell_type": "code",
   "execution_count": null,
   "id": "australian-unemployment",
   "metadata": {
    "ExecuteTime": {
     "end_time": "2021-05-05T10:32:06.434339Z",
     "start_time": "2021-05-05T10:32:06.416296Z"
    }
   },
   "outputs": [],
   "source": []
  },
  {
   "cell_type": "code",
   "execution_count": null,
   "id": "narrow-mission",
   "metadata": {
    "ExecuteTime": {
     "end_time": "2021-04-21T14:35:24.963519Z",
     "start_time": "2021-04-21T14:35:24.954522Z"
    }
   },
   "outputs": [],
   "source": []
  },
  {
   "cell_type": "code",
   "execution_count": null,
   "id": "banner-equality",
   "metadata": {
    "ExecuteTime": {
     "end_time": "2021-04-21T16:36:50.816199Z",
     "start_time": "2021-04-21T16:36:50.787199Z"
    }
   },
   "outputs": [],
   "source": []
  },
  {
   "cell_type": "code",
   "execution_count": null,
   "id": "noble-drove",
   "metadata": {},
   "outputs": [],
   "source": []
  },
  {
   "cell_type": "code",
   "execution_count": null,
   "id": "progressive-arrival",
   "metadata": {},
   "outputs": [],
   "source": []
  },
  {
   "cell_type": "code",
   "execution_count": null,
   "id": "taken-powder",
   "metadata": {},
   "outputs": [],
   "source": []
  },
  {
   "cell_type": "code",
   "execution_count": null,
   "id": "terminal-trader",
   "metadata": {
    "ExecuteTime": {
     "end_time": "2021-05-11T08:41:42.325409Z",
     "start_time": "2021-05-11T08:41:09.239Z"
    }
   },
   "outputs": [],
   "source": [
    "# merged_data[\"Deduct_Status\"] = merged_data[\"Nos Deducted\"].replace(to_replace=[np.nan,1.0,2.0,3.0,4.0], value = ['not_Deducted','once', 'twice', 'thrice', 'check payment'])\n",
    "# merged_data.head()"
   ]
  },
  {
   "cell_type": "code",
   "execution_count": null,
   "id": "efficient-nerve",
   "metadata": {
    "ExecuteTime": {
     "end_time": "2021-05-11T08:41:42.330409Z",
     "start_time": "2021-05-11T08:41:09.268Z"
    }
   },
   "outputs": [],
   "source": [
    "# deduction\n",
    "# df = pd.DataFrame(deduction)|\n",
    "# df.rename(columns={0:\"Employee Number\"})\n",
    "# df.columns"
   ]
  },
  {
   "cell_type": "markdown",
   "id": "banned-depression",
   "metadata": {
    "ExecuteTime": {
     "end_time": "2021-04-21T15:55:03.775894Z",
     "start_time": "2021-04-21T15:55:03.670900Z"
    }
   },
   "source": [
    "johnson = my_data.groupby([\"Employee Number\",\"Employee Name\", \"Month\", \"Ministry Name\"])[\"Deduction Amount\"].agg([\"sum\",\"count\"]).reset_index()"
   ]
  },
  {
   "cell_type": "code",
   "execution_count": null,
   "id": "latest-india",
   "metadata": {
    "ExecuteTime": {
     "end_time": "2021-05-11T08:41:42.334408Z",
     "start_time": "2021-05-11T08:41:09.292Z"
    }
   },
   "outputs": [],
   "source": [
    "# deduction = my_data.groupby('Employee Number').sum().reset_index()"
   ]
  },
  {
   "cell_type": "code",
   "execution_count": null,
   "id": "manufactured-senior",
   "metadata": {
    "ExecuteTime": {
     "end_time": "2021-05-11T08:41:42.339408Z",
     "start_time": "2021-05-11T08:41:09.314Z"
    }
   },
   "outputs": [],
   "source": [
    "# deduction = my_data.groupby('Employee Number')['Employee Number'].transform('count').sum()"
   ]
  },
  {
   "cell_type": "code",
   "execution_count": null,
   "id": "three-launch",
   "metadata": {
    "ExecuteTime": {
     "end_time": "2021-05-11T08:41:42.343407Z",
     "start_time": "2021-05-11T08:41:09.350Z"
    }
   },
   "outputs": [],
   "source": [
    "# pd.set_option(\"display.max_columns\", 20)\n"
   ]
  },
  {
   "cell_type": "code",
   "execution_count": null,
   "id": "restricted-tender",
   "metadata": {
    "ExecuteTime": {
     "end_time": "2021-05-11T08:41:42.347406Z",
     "start_time": "2021-05-11T08:41:09.410Z"
    }
   },
   "outputs": [],
   "source": [
    "# johnson"
   ]
  },
  {
   "cell_type": "code",
   "execution_count": null,
   "id": "australian-glass",
   "metadata": {
    "ExecuteTime": {
     "end_time": "2021-05-11T08:41:42.350408Z",
     "start_time": "2021-05-11T08:41:09.430Z"
    }
   },
   "outputs": [],
   "source": [
    "# deduction.get_group(\"Ministry Name\")"
   ]
  },
  {
   "cell_type": "code",
   "execution_count": null,
   "id": "palestinian-booking",
   "metadata": {},
   "outputs": [],
   "source": []
  },
  {
   "cell_type": "code",
   "execution_count": null,
   "id": "entire-barbados",
   "metadata": {
    "ExecuteTime": {
     "end_time": "2021-05-11T08:41:42.354408Z",
     "start_time": "2021-05-11T08:41:09.461Z"
    }
   },
   "outputs": [],
   "source": [
    "# current_Month = datetime.datetime.now()\n",
    "# month = current_Month.strftime(\"%B\")\n",
    "# month = date.month\n",
    "# month"
   ]
  },
  {
   "cell_type": "code",
   "execution_count": null,
   "id": "authentic-conservative",
   "metadata": {
    "ExecuteTime": {
     "end_time": "2021-05-11T08:41:42.358407Z",
     "start_time": "2021-05-11T08:41:09.483Z"
    }
   },
   "outputs": [],
   "source": [
    "# current_Month = datetime.datetime.now()\n",
    "# dmonth = current_Month.month,year\n",
    "# # dmonth\n",
    "# type(dmonth)"
   ]
  },
  {
   "cell_type": "code",
   "execution_count": null,
   "id": "adjacent-lesson",
   "metadata": {
    "ExecuteTime": {
     "end_time": "2021-05-11T08:41:42.361408Z",
     "start_time": "2021-05-11T08:41:09.511Z"
    }
   },
   "outputs": [],
   "source": [
    "# my_data.groupby(['Element Name']).get_group(\"LIBERTY ASSURED LIMITED\")"
   ]
  },
  {
   "cell_type": "code",
   "execution_count": null,
   "id": "abroad-prime",
   "metadata": {
    "ExecuteTime": {
     "end_time": "2021-05-11T08:41:42.365407Z",
     "start_time": "2021-05-11T08:41:09.552Z"
    }
   },
   "outputs": [],
   "source": [
    "# deduc_309344_mask = johnson[\"Employee Number\"]==309344\n",
    "# search = johnson[deduc_309344_mask]\n",
    "# search"
   ]
  },
  {
   "cell_type": "markdown",
   "id": "shared-original",
   "metadata": {
    "ExecuteTime": {
     "end_time": "2021-04-21T13:23:28.572065Z",
     "start_time": "2021-04-21T13:23:28.288084Z"
    }
   },
   "source": [
    "new_deduction = my_data[deduction]\n",
    "new_deduction"
   ]
  },
  {
   "cell_type": "code",
   "execution_count": null,
   "id": "focal-thirty",
   "metadata": {
    "ExecuteTime": {
     "end_time": "2021-05-11T08:41:42.369406Z",
     "start_time": "2021-05-11T08:41:09.577Z"
    }
   },
   "outputs": [],
   "source": [
    "# done = deduction.get(\"Ministry Name\")\n",
    "# done"
   ]
  },
  {
   "cell_type": "markdown",
   "id": "underlying-creek",
   "metadata": {
    "ExecuteTime": {
     "end_time": "2021-04-21T13:47:27.528482Z",
     "start_time": "2021-04-21T13:47:27.446491Z"
    }
   },
   "source": [
    "deduc_309344_mask = deduction[\"Employee Number\"]==309344\n",
    "search = deduction[deduc_309344_mask]\n",
    "search"
   ]
  },
  {
   "cell_type": "code",
   "execution_count": null,
   "id": "engaging-links",
   "metadata": {
    "ExecuteTime": {
     "end_time": "2021-05-11T08:41:42.372407Z",
     "start_time": "2021-05-11T08:41:09.597Z"
    }
   },
   "outputs": [],
   "source": [
    "# ippis_data.drop(columns = ['Remita Mandate Status', 'Mobile','Principal After Deduct', 'Account Number', 'Bank Code'])"
   ]
  }
 ],
 "metadata": {
  "kernelspec": {
   "display_name": "Python 3.7.9 32-bit",
   "language": "python",
   "name": "python37932bitdbd09dfa023d4867a5c7356bcb6a5889"
  },
  "language_info": {
   "codemirror_mode": {
    "name": "ipython",
    "version": 3
   },
   "file_extension": ".py",
   "mimetype": "text/x-python",
   "name": "python",
   "nbconvert_exporter": "python",
   "pygments_lexer": "ipython3",
   "version": "3.7.9"
  },
  "toc": {
   "base_numbering": 1,
   "nav_menu": {},
   "number_sections": true,
   "sideBar": true,
   "skip_h1_title": false,
   "title_cell": "Table of Contents",
   "title_sidebar": "Contents",
   "toc_cell": false,
   "toc_position": {},
   "toc_section_display": true,
   "toc_window_display": false
  },
  "varInspector": {
   "cols": {
    "lenName": 16,
    "lenType": 16,
    "lenVar": 40
   },
   "kernels_config": {
    "python": {
     "delete_cmd_postfix": "",
     "delete_cmd_prefix": "del ",
     "library": "var_list.py",
     "varRefreshCmd": "print(var_dic_list())"
    },
    "r": {
     "delete_cmd_postfix": ") ",
     "delete_cmd_prefix": "rm(",
     "library": "var_list.r",
     "varRefreshCmd": "cat(var_dic_list()) "
    }
   },
   "types_to_exclude": [
    "module",
    "function",
    "builtin_function_or_method",
    "instance",
    "_Feature"
   ],
   "window_display": false
  }
 },
 "nbformat": 4,
 "nbformat_minor": 5
}
