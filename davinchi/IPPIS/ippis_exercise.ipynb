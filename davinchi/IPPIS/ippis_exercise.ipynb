{
 "cells": [
  {
   "cell_type": "code",
   "execution_count": 44,
   "id": "rental-acoustic",
   "metadata": {
    "ExecuteTime": {
     "end_time": "2021-05-21T15:40:55.041883Z",
     "start_time": "2021-05-21T15:40:55.022882Z"
    }
   },
   "outputs": [],
   "source": [
    "import os\n",
    "import pandas as pd\n",
    "import numpy as np\n",
    "import datetime as dt\n",
    "from datetime import date\n",
    "from datetime import timedelta\n"
   ]
  },
  {
   "cell_type": "code",
   "execution_count": 27,
   "id": "played-physiology",
   "metadata": {
    "ExecuteTime": {
     "end_time": "2021-05-21T15:40:04.139624Z",
     "start_time": "2021-05-21T15:40:04.121627Z"
    }
   },
   "outputs": [],
   "source": [
    "pd.set_option('display.max_rows', 8)"
   ]
  },
  {
   "cell_type": "code",
   "execution_count": 28,
   "id": "ethical-seeking",
   "metadata": {
    "ExecuteTime": {
     "end_time": "2021-05-21T15:40:06.433502Z",
     "start_time": "2021-05-21T15:40:04.486607Z"
    },
    "scrolled": true
   },
   "outputs": [],
   "source": [
    "my_data = pd.read_excel(\"ippis_deduc_reports.xlsx\", sheet_name = None)\n",
    "my_data = pd.concat(my_data[frame] for frame in my_data.keys())\n",
    "\n",
    "deduction = my_data.groupby(['Employee Number', 'Employee Name', 'Ministry Name']).agg([\"sum\",\"count\"]).reset_index()\n",
    "\n"
   ]
  },
  {
   "cell_type": "code",
   "execution_count": 29,
   "id": "legendary-jesus",
   "metadata": {
    "ExecuteTime": {
     "end_time": "2021-05-21T15:40:06.734485Z",
     "start_time": "2021-05-21T15:40:06.722487Z"
    }
   },
   "outputs": [
    {
     "data": {
      "text/plain": [
       "Index(['Employee Number', 'Employee Name', 'Ministry Name',\n",
       "       'Deduction Amountsum', 'Deduction Amountcount', 'Element Namesum',\n",
       "       'Element Namecount', 'Macro1sum', 'Macro1count', 'Auto_Opensum',\n",
       "       'Auto_Opencount'],\n",
       "      dtype='object')"
      ]
     },
     "execution_count": 29,
     "metadata": {},
     "output_type": "execute_result"
    }
   ],
   "source": [
    "deduction_columns = deduction.columns.map(''.join)\n",
    "deduction.columns = deduction_columns\n",
    "deduction.columns"
   ]
  },
  {
   "cell_type": "code",
   "execution_count": 30,
   "id": "satisfied-leisure",
   "metadata": {
    "ExecuteTime": {
     "end_time": "2021-05-21T15:40:07.023470Z",
     "start_time": "2021-05-21T15:40:06.995471Z"
    }
   },
   "outputs": [],
   "source": [
    "required_columns = ['Employee Number',\n",
    "                    'Ministry Name',\n",
    "                    'Employee Name',\n",
    "                    'Deduction Amountsum',\n",
    "                    'Deduction Amountcount', \n",
    "                    ]\n",
    "\n",
    "target_deduction = deduction[required_columns]\n",
    "deduction = target_deduction.rename(columns = {'Deduction Amountsum': 'TotalDeducted', 'Deduction Amountcount': 'Nos Deducted'})\n",
    "\n",
    "# deduction.head(7)"
   ]
  },
  {
   "cell_type": "code",
   "execution_count": 31,
   "id": "shared-mambo",
   "metadata": {
    "ExecuteTime": {
     "end_time": "2021-05-21T15:40:07.882437Z",
     "start_time": "2021-05-21T15:40:07.313454Z"
    }
   },
   "outputs": [],
   "source": [
    "deduction.to_excel('Cleaned_Deduction_Report.xlsx')"
   ]
  },
  {
   "cell_type": "code",
   "execution_count": 32,
   "id": "decreased-discussion",
   "metadata": {
    "ExecuteTime": {
     "end_time": "2021-05-21T15:40:10.248296Z",
     "start_time": "2021-05-21T15:40:08.094412Z"
    }
   },
   "outputs": [],
   "source": [
    "loandisk = pd.read_csv(\"ippis_loandisk_2020_new.csv\")\n",
    "\n",
    "dateRel = pd.to_datetime(loandisk[\"Released\"])\n",
    "loandisk[\"Released\"]= dateRel\n",
    "\n",
    "MatDate = pd.to_datetime(loandisk[\"Maturity\"])\n",
    "loandisk[\"Maturity\"]= MatDate\n",
    "\n",
    "_loandisk = loandisk.replace({\n",
    "                            'Duration' : '[A-Za-z]', \n",
    "                            },'', regex=True)\n",
    "loandisk = _loandisk\n",
    "\n",
    "loandisk = loandisk[loandisk[\"IPPIS No\"].notnull()]\n",
    "\n",
    "loandisk.to_excel('Cleaned_loan_disk.xlsx')"
   ]
  },
  {
   "cell_type": "code",
   "execution_count": 45,
   "id": "suspended-intake",
   "metadata": {
    "ExecuteTime": {
     "end_time": "2021-05-21T15:41:01.007558Z",
     "start_time": "2021-05-21T15:40:59.614679Z"
    }
   },
   "outputs": [],
   "source": [
    "ippis_data = pd.read_excel(\"Cleaned_loan_disk.xlsx\")\n",
    "# ippis_data"
   ]
  },
  {
   "cell_type": "code",
   "execution_count": 46,
   "id": "satisfied-kingston",
   "metadata": {
    "ExecuteTime": {
     "end_time": "2021-05-21T15:41:01.753517Z",
     "start_time": "2021-05-21T15:41:01.727518Z"
    }
   },
   "outputs": [],
   "source": [
    "file_merge = pd.merge(\n",
    "                left= ippis_data,\n",
    "                right= deduction,\n",
    "                how=\"outer\",\n",
    "                left_on=\"IPPIS No\",\n",
    "                right_on=\"Employee Number\"\n",
    "                )\n",
    "\n"
   ]
  },
  {
   "cell_type": "code",
   "execution_count": 47,
   "id": "maritime-outline",
   "metadata": {
    "ExecuteTime": {
     "end_time": "2021-05-21T15:41:02.470479Z",
     "start_time": "2021-05-21T15:41:02.459479Z"
    }
   },
   "outputs": [
    {
     "data": {
      "text/plain": [
       "Index(['Unnamed: 0', 'Released', 'Maturity', 'Loan#', 'Name', 'IPPIS No',\n",
       "       'Principal', 'Duration', 'Due', 'Paid', 'Amortization', 'PendingDue',\n",
       "       'Last Paid Date', 'Last Payment', 'Balance', 'MINISTRY/AGENCY',\n",
       "       'Status', 'Employee Number', 'Ministry Name', 'Employee Name',\n",
       "       'TotalDeducted', 'Nos Deducted'],\n",
       "      dtype='object')"
      ]
     },
     "execution_count": 47,
     "metadata": {},
     "output_type": "execute_result"
    }
   ],
   "source": [
    "file_merge.columns"
   ]
  },
  {
   "cell_type": "code",
   "execution_count": 48,
   "id": "silver-harvard",
   "metadata": {
    "ExecuteTime": {
     "end_time": "2021-05-21T15:41:03.233437Z",
     "start_time": "2021-05-21T15:41:03.205437Z"
    }
   },
   "outputs": [],
   "source": [
    "new_merge = file_merge[['Released',\n",
    "                        'Maturity',\n",
    "                        'Loan#',\n",
    "                        'Name',\n",
    "                        'IPPIS No',\n",
    "                        'Employee Number',\n",
    "                        'Principal',\n",
    "                        'Due',\n",
    "                        'Paid',\n",
    "                        'TotalDeducted',\n",
    "                        'PendingDue',\n",
    "                        'Last Payment',\n",
    "                        'Duration',\n",
    "                        'Nos Deducted',\n",
    "                        'Balance',\n",
    "                        'MINISTRY/AGENCY',\n",
    "                        'Status'\n",
    "                        ]]\n"
   ]
  },
  {
   "cell_type": "code",
   "execution_count": 49,
   "id": "colonial-prime",
   "metadata": {
    "ExecuteTime": {
     "end_time": "2021-05-21T15:41:03.978398Z",
     "start_time": "2021-05-21T15:41:03.952398Z"
    }
   },
   "outputs": [],
   "source": [
    "merged_data = new_merge.rename(columns={'Paid':'LoanDiskPaid'})\n",
    "\n",
    "processingMask = merged_data['Status'] != 'Processing'\n",
    "merged_data = merged_data[processingMask]\n",
    "\n",
    "# merged_data.head(5)"
   ]
  },
  {
   "cell_type": "code",
   "execution_count": 50,
   "id": "equal-respondent",
   "metadata": {
    "ExecuteTime": {
     "end_time": "2021-05-21T15:41:04.691361Z",
     "start_time": "2021-05-21T15:41:04.679360Z"
    }
   },
   "outputs": [],
   "source": [
    "merged_data['TotalDeducted'] = merged_data['TotalDeducted'].replace(to_replace = np.nan, value = 0)\n",
    "\n",
    "merged_data['LoanDiskPaid'] = merged_data['LoanDiskPaid'].replace(to_replace = np.nan, value = 0)"
   ]
  },
  {
   "cell_type": "code",
   "execution_count": 73,
   "id": "lasting-discipline",
   "metadata": {
    "ExecuteTime": {
     "end_time": "2021-05-21T15:45:01.686574Z",
     "start_time": "2021-05-21T15:45:01.628577Z"
    },
    "scrolled": false
   },
   "outputs": [],
   "source": [
    "merged_data['Credit_Diff'] = merged_data['TotalDeducted'] - merged_data['LoanDiskPaid']\n",
    "merged_data['Credit_Diff'] = merged_data['Credit_Diff'].apply(lambda x: round(x, 3))\n",
    "\n",
    "merged_data['LoanBalance'] = merged_data['Due'] - merged_data['TotalDeducted']\n",
    "merged_data['LoanBalance'] = merged_data['LoanBalance'].apply(lambda x: round(x, 0))\n",
    "\n",
    "merged_data['Amortization'] = merged_data['Due'] / merged_data['Duration']\n",
    "merged_data['Amortization'] = merged_data['Amortization'].apply(lambda x: round(x, 2))\n",
    "\n",
    "merged_data['PendingDuration'] = (merged_data['Due'] - merged_data['TotalDeducted']) / merged_data['Amortization']\n",
    "merged_data['PendingDuration'] = merged_data['PendingDuration'].apply(lambda x: round(x, 0))\n",
    "\n",
    "merged_data['Deduction Amount'] = merged_data['LoanBalance'] / merged_data['PendingDuration']\n",
    "merged_data['Deduction Amount'] = merged_data['Deduction Amount'].apply(lambda x: round(x, 0))\n",
    "\n",
    "merged_data['Start Date'] = \"\"\n",
    "merged_data['End Date'] = \"\"\n",
    "\n",
    "\n",
    "# merged_data"
   ]
  },
  {
   "cell_type": "code",
   "execution_count": 74,
   "id": "precise-affairs",
   "metadata": {
    "ExecuteTime": {
     "end_time": "2021-05-21T15:45:02.620524Z",
     "start_time": "2021-05-21T15:45:02.598528Z"
    }
   },
   "outputs": [
    {
     "ename": "SyntaxError",
     "evalue": "unexpected EOF while parsing (<ipython-input-74-d8dd09c1ff99>, line 3)",
     "output_type": "error",
     "traceback": [
      "\u001b[1;36m  File \u001b[1;32m\"<ipython-input-74-d8dd09c1ff99>\"\u001b[1;36m, line \u001b[1;32m3\u001b[0m\n\u001b[1;33m    # update.to_csv('Update LoanBalance.csv')\u001b[0m\n\u001b[1;37m                                             ^\u001b[0m\n\u001b[1;31mSyntaxError\u001b[0m\u001b[1;31m:\u001b[0m unexpected EOF while parsing\n"
     ]
    }
   ],
   "source": [
    "PMask = merged_data[(merged_data['LoanBalance'] == 0.01) & (merged_data[(merged_data['LoanBalance'] <= 3)]\n",
    "# update = merged_data[PMask]\n",
    "# update.to_csv('Update LoanBalance.csv')"
   ]
  },
  {
   "cell_type": "code",
   "execution_count": 75,
   "id": "dimensional-applicant",
   "metadata": {
    "ExecuteTime": {
     "end_time": "2021-05-21T15:45:05.721359Z",
     "start_time": "2021-05-21T15:45:05.707359Z"
    }
   },
   "outputs": [],
   "source": [
    "current_month = dt.datetime.today().strftime('%m/%y')\n",
    "merged_data['Start Date'] = current_month\n",
    "# type(merged_data['Start Date'])"
   ]
  },
  {
   "cell_type": "code",
   "execution_count": 76,
   "id": "neural-constitution",
   "metadata": {
    "ExecuteTime": {
     "end_time": "2021-05-21T15:45:06.655307Z",
     "start_time": "2021-05-21T15:45:06.643309Z"
    },
    "scrolled": true
   },
   "outputs": [],
   "source": [
    "NLoan_status = []\n",
    "for data in merged_data['LoanBalance']:\n",
    "    if data < -10 :\n",
    "        NLoan_status.append('Excess Payment')\n",
    "    elif data == 0 or data < 5:\n",
    "        NLoan_status.append('fully paid')\n",
    "    elif data > 5:\n",
    "        NLoan_status.append('running')\n",
    "    elif np.nan:\n",
    "        NLoan_status.append('no deduction')\n",
    "    else:\n",
    "        pass\n",
    "        \n",
    "NLoan_status\n",
    "merged_data['Loan status'] = NLoan_status\n",
    "\n",
    "# merged_data.to_csv('csv.csv')"
   ]
  },
  {
   "cell_type": "code",
   "execution_count": 77,
   "id": "possible-papua",
   "metadata": {
    "ExecuteTime": {
     "end_time": "2021-05-21T15:45:07.588259Z",
     "start_time": "2021-05-21T15:45:07.560258Z"
    }
   },
   "outputs": [
    {
     "name": "stderr",
     "output_type": "stream",
     "text": [
      "C:\\Users\\hp\\AppData\\Local\\Programs\\Python\\Python37-32\\lib\\site-packages\\ipykernel_launcher.py:3: UserWarning: Boolean Series key will be reindexed to match DataFrame index.\n",
      "  This is separate from the ipykernel package so we can avoid doing imports until\n"
     ]
    }
   ],
   "source": [
    "# i=merged_data[(merged_data['Loan status'] != 'Excess Payment') & (merged_data['Loan status'] != 'fully paid')]\n",
    "gh = merged_data[merged_data['Status'] == 'Past Maturity']\n",
    "i = gh[(merged_data['Loan status'] != 'Excess Payment') & (merged_data['Loan status'] != 'fully paid')]\n",
    "# i"
   ]
  },
  {
   "cell_type": "code",
   "execution_count": 78,
   "id": "sound-miami",
   "metadata": {
    "ExecuteTime": {
     "end_time": "2021-05-21T15:45:08.507207Z",
     "start_time": "2021-05-21T15:45:08.496207Z"
    }
   },
   "outputs": [],
   "source": [
    "new_df = i['LoanBalance'] >= 3\n",
    "final_data = i[new_df]"
   ]
  },
  {
   "cell_type": "code",
   "execution_count": 79,
   "id": "demographic-edwards",
   "metadata": {
    "ExecuteTime": {
     "end_time": "2021-05-21T15:45:09.399157Z",
     "start_time": "2021-05-21T15:45:09.371159Z"
    }
   },
   "outputs": [],
   "source": [
    "deductionList = {\n",
    "    \"Employee Number\" : final_data['IPPIS No'],\n",
    "    \"Client Name\" : final_data['Name'],\n",
    "   \"Start_Date\" : final_data['Start Date'],\n",
    "    \"End_Date\" : final_data['End Date'],\n",
    "    \"Deduction Amount\" : final_data['Deduction Amount'],\n",
    "    \"Duration\" : final_data['PendingDuration'],\n",
    "     \"Loan Balance\" : final_data['LoanBalance']\n",
    "}\n",
    "# deductionList\n",
    "df = pd.DataFrame(deductionList)\n",
    "df.to_csv('final_deduction.csv', index=False)"
   ]
  },
  {
   "cell_type": "code",
   "execution_count": 80,
   "id": "bronze-hungarian",
   "metadata": {
    "ExecuteTime": {
     "end_time": "2021-05-21T15:45:10.430103Z",
     "start_time": "2021-05-21T15:45:10.403104Z"
    },
    "scrolled": true
   },
   "outputs": [],
   "source": [
    "nd = i['TotalDeducted']==0\n",
    "notdeducted = i[nd]"
   ]
  },
  {
   "cell_type": "code",
   "execution_count": 81,
   "id": "central-intention",
   "metadata": {
    "ExecuteTime": {
     "end_time": "2021-05-21T15:45:11.488045Z",
     "start_time": "2021-05-21T15:45:11.461048Z"
    }
   },
   "outputs": [],
   "source": [
    "NotDeducted = {\n",
    "    \"Employee Number\" : notdeducted['IPPIS No'],\n",
    "    \"Client Name\" : notdeducted['Name'],\n",
    "    \"Principal\" : notdeducted['Principal'],\n",
    "    \"Tenor\" : notdeducted['Duration'],\n",
    "   \"Ministry Name\" : notdeducted['MINISTRY/AGENCY'],\n",
    "    \"Expected Payment\" : notdeducted['Due'],\n",
    "    \"Loan Balance\": notdeducted['LoanBalance']\n",
    "   }\n",
    "# deductionList\n",
    "dfa = pd.DataFrame(NotDeducted)\n",
    "dfa.to_csv('not_deducted.csv', index=False)"
   ]
  },
  {
   "cell_type": "code",
   "execution_count": 82,
   "id": "geographic-business",
   "metadata": {
    "ExecuteTime": {
     "end_time": "2021-05-21T15:45:15.666824Z",
     "start_time": "2021-05-21T15:45:15.648825Z"
    }
   },
   "outputs": [],
   "source": [
    "excess_df = gh['Loan status'] == 'Excess Payment'\n",
    "excess_data = gh[excess_df]\n",
    "# excess_data"
   ]
  },
  {
   "cell_type": "code",
   "execution_count": 83,
   "id": "interested-sigma",
   "metadata": {
    "ExecuteTime": {
     "end_time": "2021-05-21T15:45:19.462619Z",
     "start_time": "2021-05-21T15:45:19.434661Z"
    }
   },
   "outputs": [],
   "source": [
    "excessPayment = {\n",
    "     \"Employee Number\" : excess_data['IPPIS No'],\n",
    "    \"Client Name\" : excess_data['Name'],\n",
    "   \"Start_Date\" : excess_data['Start Date'],\n",
    "    \"End_Date\" : excess_data['End Date'],\n",
    "    \"Deduction Amount\" : excess_data['Deduction Amount'],\n",
    "    \"Loan Balance\" : excess_data['LoanBalance']\n",
    "    \n",
    "}\n",
    "nddf = pd.DataFrame(excess_data)\n",
    "nddf.to_csv('Excess_Deduction.csv', index=False)"
   ]
  },
  {
   "cell_type": "code",
   "execution_count": null,
   "id": "taken-hungarian",
   "metadata": {
    "ExecuteTime": {
     "end_time": "2021-05-12T17:14:19.914735Z",
     "start_time": "2021-05-12T17:14:19.823742Z"
    }
   },
   "outputs": [],
   "source": []
  },
  {
   "cell_type": "code",
   "execution_count": null,
   "id": "combined-maldives",
   "metadata": {
    "ExecuteTime": {
     "end_time": "2021-05-05T10:31:56.787824Z",
     "start_time": "2021-05-05T10:31:56.774822Z"
    }
   },
   "outputs": [],
   "source": []
  },
  {
   "cell_type": "code",
   "execution_count": null,
   "id": "assumed-hammer",
   "metadata": {
    "ExecuteTime": {
     "end_time": "2021-05-05T10:32:00.791604Z",
     "start_time": "2021-05-05T10:32:00.778602Z"
    }
   },
   "outputs": [],
   "source": []
  },
  {
   "cell_type": "code",
   "execution_count": null,
   "id": "australian-unemployment",
   "metadata": {
    "ExecuteTime": {
     "end_time": "2021-05-05T10:32:06.434339Z",
     "start_time": "2021-05-05T10:32:06.416296Z"
    }
   },
   "outputs": [],
   "source": []
  },
  {
   "cell_type": "code",
   "execution_count": null,
   "id": "narrow-mission",
   "metadata": {
    "ExecuteTime": {
     "end_time": "2021-04-21T14:35:24.963519Z",
     "start_time": "2021-04-21T14:35:24.954522Z"
    }
   },
   "outputs": [],
   "source": []
  },
  {
   "cell_type": "code",
   "execution_count": null,
   "id": "noble-drove",
   "metadata": {},
   "outputs": [],
   "source": []
  },
  {
   "cell_type": "code",
   "execution_count": null,
   "id": "progressive-arrival",
   "metadata": {},
   "outputs": [],
   "source": []
  },
  {
   "cell_type": "code",
   "execution_count": null,
   "id": "taken-powder",
   "metadata": {},
   "outputs": [],
   "source": []
  },
  {
   "cell_type": "code",
   "execution_count": null,
   "id": "terminal-trader",
   "metadata": {
    "ExecuteTime": {
     "end_time": "2021-05-11T08:41:42.325409Z",
     "start_time": "2021-05-11T08:41:09.239Z"
    }
   },
   "outputs": [],
   "source": [
    "# merged_data[\"Deduct_Status\"] = merged_data[\"Nos Deducted\"].replace(to_replace=[np.nan,1.0,2.0,3.0,4.0], value = ['not_Deducted','once', 'twice', 'thrice', 'check payment'])\n",
    "# merged_data.head()"
   ]
  },
  {
   "cell_type": "code",
   "execution_count": 85,
   "id": "nasty-bacon",
   "metadata": {
    "ExecuteTime": {
     "end_time": "2021-05-21T15:46:32.228690Z",
     "start_time": "2021-05-21T15:46:32.222691Z"
    },
    "scrolled": true
   },
   "outputs": [],
   "source": [
    "# merged_data['Loan status'] = merged_data['Loan status'].where(merged_data['Loan status'] == 'running', 'no deduction')\n",
    "# merged_data['Loan status'] # merged_data[(merged_data['Loan status'] != 'Excess Payment') & (merged_data['Loan status'] != 'fully paid')]"
   ]
  },
  {
   "cell_type": "code",
   "execution_count": null,
   "id": "banner-equality",
   "metadata": {
    "ExecuteTime": {
     "end_time": "2021-04-21T16:36:50.816199Z",
     "start_time": "2021-04-21T16:36:50.787199Z"
    }
   },
   "outputs": [],
   "source": [
    "# ydata = pd.read_excel(\"ippis_deduc_reports.xlsx\", sheet_name = None)\n",
    "# ydata = pd.concat(ydata[frame] for frame in my_data.keys())\n",
    "\n",
    "# sorti = my_data.groupby(['Employee Number', 'Employee Name', 'Ministry Name']).agg([\"sum\",\"count\"]).reset_index()"
   ]
  },
  {
   "cell_type": "code",
   "execution_count": null,
   "id": "efficient-nerve",
   "metadata": {
    "ExecuteTime": {
     "end_time": "2021-05-11T08:41:42.330409Z",
     "start_time": "2021-05-11T08:41:09.268Z"
    }
   },
   "outputs": [],
   "source": [
    "# deduction\n",
    "# df = pd.DataFrame(deduction)|\n",
    "# df.rename(columns={0:\"Employee Number\"})\n",
    "# df.columns"
   ]
  },
  {
   "cell_type": "markdown",
   "id": "banned-depression",
   "metadata": {
    "ExecuteTime": {
     "end_time": "2021-04-21T15:55:03.775894Z",
     "start_time": "2021-04-21T15:55:03.670900Z"
    }
   },
   "source": [
    "johnson = my_data.groupby([\"Employee Number\",\"Employee Name\", \"Month\", \"Ministry Name\"])[\"Deduction Amount\"].agg([\"sum\",\"count\"]).reset_index()"
   ]
  },
  {
   "cell_type": "code",
   "execution_count": null,
   "id": "latest-india",
   "metadata": {
    "ExecuteTime": {
     "end_time": "2021-05-11T08:41:42.334408Z",
     "start_time": "2021-05-11T08:41:09.292Z"
    }
   },
   "outputs": [],
   "source": [
    "# deduction = my_data.groupby('Employee Number').sum().reset_index()"
   ]
  },
  {
   "cell_type": "code",
   "execution_count": null,
   "id": "manufactured-senior",
   "metadata": {
    "ExecuteTime": {
     "end_time": "2021-05-11T08:41:42.339408Z",
     "start_time": "2021-05-11T08:41:09.314Z"
    }
   },
   "outputs": [],
   "source": [
    "# deduction = my_data.groupby('Employee Number')['Employee Number'].transform('count').sum()"
   ]
  },
  {
   "cell_type": "code",
   "execution_count": null,
   "id": "three-launch",
   "metadata": {
    "ExecuteTime": {
     "end_time": "2021-05-11T08:41:42.343407Z",
     "start_time": "2021-05-11T08:41:09.350Z"
    }
   },
   "outputs": [],
   "source": [
    "# pd.set_option(\"display.max_columns\", 20)\n"
   ]
  },
  {
   "cell_type": "code",
   "execution_count": null,
   "id": "restricted-tender",
   "metadata": {
    "ExecuteTime": {
     "end_time": "2021-05-11T08:41:42.347406Z",
     "start_time": "2021-05-11T08:41:09.410Z"
    }
   },
   "outputs": [],
   "source": [
    "# johnson"
   ]
  },
  {
   "cell_type": "code",
   "execution_count": null,
   "id": "australian-glass",
   "metadata": {
    "ExecuteTime": {
     "end_time": "2021-05-11T08:41:42.350408Z",
     "start_time": "2021-05-11T08:41:09.430Z"
    }
   },
   "outputs": [],
   "source": [
    "# deduction.get_group(\"Ministry Name\")"
   ]
  },
  {
   "cell_type": "code",
   "execution_count": null,
   "id": "broad-blair",
   "metadata": {
    "ExecuteTime": {
     "end_time": "2021-05-11T08:41:42.354408Z",
     "start_time": "2021-05-11T08:41:09.461Z"
    }
   },
   "outputs": [],
   "source": [
    "# current_Month = datetime.datetime.now()\n",
    "# month = current_Month.strftime(\"%B\")\n",
    "# month = date.month\n",
    "# month"
   ]
  },
  {
   "cell_type": "code",
   "execution_count": null,
   "id": "compressed-anthropology",
   "metadata": {
    "ExecuteTime": {
     "end_time": "2021-05-11T08:41:42.358407Z",
     "start_time": "2021-05-11T08:41:09.483Z"
    }
   },
   "outputs": [],
   "source": [
    "# current_Month = datetime.datetime.now()\n",
    "# dmonth = current_Month.month,year\n",
    "# # dmonth\n",
    "# type(dmonth)"
   ]
  },
  {
   "cell_type": "code",
   "execution_count": null,
   "id": "adjacent-lesson",
   "metadata": {
    "ExecuteTime": {
     "end_time": "2021-05-11T08:41:42.361408Z",
     "start_time": "2021-05-11T08:41:09.511Z"
    }
   },
   "outputs": [],
   "source": [
    "# my_data.groupby(['Element Name']).get_group(\"LIBERTY ASSURED LIMITED\")"
   ]
  },
  {
   "cell_type": "code",
   "execution_count": null,
   "id": "abroad-prime",
   "metadata": {
    "ExecuteTime": {
     "end_time": "2021-05-11T08:41:42.365407Z",
     "start_time": "2021-05-11T08:41:09.552Z"
    }
   },
   "outputs": [],
   "source": [
    "# deduc_309344_mask = johnson[\"Employee Number\"]==309344\n",
    "# search = johnson[deduc_309344_mask]\n",
    "# search"
   ]
  },
  {
   "cell_type": "markdown",
   "id": "shared-original",
   "metadata": {
    "ExecuteTime": {
     "end_time": "2021-04-21T13:23:28.572065Z",
     "start_time": "2021-04-21T13:23:28.288084Z"
    }
   },
   "source": [
    "new_deduction = my_data[deduction]\n",
    "new_deduction"
   ]
  },
  {
   "cell_type": "code",
   "execution_count": null,
   "id": "focal-thirty",
   "metadata": {
    "ExecuteTime": {
     "end_time": "2021-05-11T08:41:42.369406Z",
     "start_time": "2021-05-11T08:41:09.577Z"
    }
   },
   "outputs": [],
   "source": [
    "# done = deduction.get(\"Ministry Name\")\n",
    "# done"
   ]
  },
  {
   "cell_type": "markdown",
   "id": "underlying-creek",
   "metadata": {
    "ExecuteTime": {
     "end_time": "2021-04-21T13:47:27.528482Z",
     "start_time": "2021-04-21T13:47:27.446491Z"
    }
   },
   "source": [
    "deduc_309344_mask = deduction[\"Employee Number\"]==309344\n",
    "search = deduction[deduc_309344_mask]\n",
    "search"
   ]
  },
  {
   "cell_type": "code",
   "execution_count": null,
   "id": "engaging-links",
   "metadata": {
    "ExecuteTime": {
     "end_time": "2021-05-11T08:41:42.372407Z",
     "start_time": "2021-05-11T08:41:09.597Z"
    }
   },
   "outputs": [],
   "source": [
    "# ippis_data.drop(columns = ['Remita Mandate Status', 'Mobile','Principal After Deduct', 'Account Number', 'Bank Code'])"
   ]
  },
  {
   "cell_type": "code",
   "execution_count": 52,
   "id": "packed-float",
   "metadata": {
    "ExecuteTime": {
     "end_time": "2021-05-11T15:40:48.049512Z",
     "start_time": "2021-05-11T15:40:48.030478Z"
    }
   },
   "outputs": [],
   "source": [
    "# valid_data = merged_data[(merged_data['Loan status'] != 'Excess Payment') & (merged_data['Loan status'] != 'fully paid')]\n",
    "# merged_data = merged_data[valid_data]\n",
    "# new_df = merged_data['LoanBalance'] >= 3\n",
    "# final_data = merged_data[new_df]\n",
    "\n",
    "# final_data"
   ]
  },
  {
   "cell_type": "code",
   "execution_count": 118,
   "id": "fresh-clause",
   "metadata": {
    "ExecuteTime": {
     "end_time": "2021-05-12T17:13:56.821059Z",
     "start_time": "2021-05-12T17:13:55.629069Z"
    }
   },
   "outputs": [],
   "source": [
    "\n",
    "\n",
    "# columns = deduction.columns\n",
    "# my_data2.columns\n",
    "# columns.apply(tuple)\n",
    "# data"
   ]
  },
  {
   "cell_type": "code",
   "execution_count": 120,
   "id": "conditional-hygiene",
   "metadata": {
    "ExecuteTime": {
     "end_time": "2021-05-12T17:14:41.909527Z",
     "start_time": "2021-05-12T17:14:41.898530Z"
    }
   },
   "outputs": [],
   "source": [
    "# valid_data = merged_data[(merged_data['Loan status'] != 'Excess Payment') & (merged_data['Loan status'] != 'fully paid')]\n",
    "# new_df = valid_data(valid_data['LoanBalance'] >= 3) & (valid_data['LoanBalance'] == np.nan)]\n",
    "# final_data = valid_data[new_df]\n",
    "# new_df\n",
    "# final_data\n",
    "# # valid_data"
   ]
  }
 ],
 "metadata": {
  "kernelspec": {
   "display_name": "Python 3.7.9 32-bit",
   "language": "python",
   "name": "python37932bitdbd09dfa023d4867a5c7356bcb6a5889"
  },
  "language_info": {
   "codemirror_mode": {
    "name": "ipython",
    "version": 3
   },
   "file_extension": ".py",
   "mimetype": "text/x-python",
   "name": "python",
   "nbconvert_exporter": "python",
   "pygments_lexer": "ipython3",
   "version": "3.7.9"
  },
  "toc": {
   "base_numbering": 1,
   "nav_menu": {},
   "number_sections": true,
   "sideBar": true,
   "skip_h1_title": false,
   "title_cell": "Table of Contents",
   "title_sidebar": "Contents",
   "toc_cell": false,
   "toc_position": {},
   "toc_section_display": true,
   "toc_window_display": false
  },
  "varInspector": {
   "cols": {
    "lenName": 16,
    "lenType": 16,
    "lenVar": 40
   },
   "kernels_config": {
    "python": {
     "delete_cmd_postfix": "",
     "delete_cmd_prefix": "del ",
     "library": "var_list.py",
     "varRefreshCmd": "print(var_dic_list())"
    },
    "r": {
     "delete_cmd_postfix": ") ",
     "delete_cmd_prefix": "rm(",
     "library": "var_list.r",
     "varRefreshCmd": "cat(var_dic_list()) "
    }
   },
   "types_to_exclude": [
    "module",
    "function",
    "builtin_function_or_method",
    "instance",
    "_Feature"
   ],
   "window_display": false
  }
 },
 "nbformat": 4,
 "nbformat_minor": 5
}
