{
 "cells": [
  {
   "cell_type": "code",
   "execution_count": 32,
   "id": "taken-gravity",
   "metadata": {
    "ExecuteTime": {
     "end_time": "2021-04-06T11:37:44.609914Z",
     "start_time": "2021-04-06T11:37:09.371746Z"
    }
   },
   "outputs": [
    {
     "name": "stdout",
     "output_type": "stream",
     "text": [
      "Enter any hour to countdown:-  2\n",
      "1:58:56"
     ]
    },
    {
     "ename": "KeyboardInterrupt",
     "evalue": "",
     "output_type": "error",
     "traceback": [
      "\u001b[1;31m---------------------------------------------------------------------------\u001b[0m",
      "\u001b[1;31mKeyboardInterrupt\u001b[0m                         Traceback (most recent call last)",
      "\u001b[1;32m<ipython-input-32-1f8ff1be0a5c>\u001b[0m in \u001b[0;36m<module>\u001b[1;34m\u001b[0m\n\u001b[0;32m     19\u001b[0m             \u001b[0mseconds\u001b[0m \u001b[1;33m-=\u001b[0m\u001b[1;36m1\u001b[0m\u001b[1;33m\u001b[0m\u001b[1;33m\u001b[0m\u001b[0m\n\u001b[0;32m     20\u001b[0m             \u001b[0mprint\u001b[0m\u001b[1;33m(\u001b[0m\u001b[1;34mf\"{hour}:{minutes}:{seconds}\"\u001b[0m\u001b[1;33m,\u001b[0m \u001b[0msep\u001b[0m\u001b[1;33m=\u001b[0m\u001b[1;34m\" \"\u001b[0m\u001b[1;33m,\u001b[0m  \u001b[0mend\u001b[0m \u001b[1;33m=\u001b[0m \u001b[1;34m''\u001b[0m\u001b[1;33m)\u001b[0m\u001b[1;33m\u001b[0m\u001b[1;33m\u001b[0m\u001b[0m\n\u001b[1;32m---> 21\u001b[1;33m             \u001b[0msleep\u001b[0m\u001b[1;33m(\u001b[0m\u001b[1;36m0.5\u001b[0m\u001b[1;33m)\u001b[0m\u001b[1;33m\u001b[0m\u001b[1;33m\u001b[0m\u001b[0m\n\u001b[0m\u001b[0;32m     22\u001b[0m             \u001b[0mprint\u001b[0m\u001b[1;33m(\u001b[0m\u001b[1;34m\"\\r\"\u001b[0m\u001b[1;33m,\u001b[0m\u001b[0mend\u001b[0m\u001b[1;33m=\u001b[0m\u001b[1;34m\"\"\u001b[0m\u001b[1;33m)\u001b[0m\u001b[1;33m\u001b[0m\u001b[1;33m\u001b[0m\u001b[0m\n\u001b[0;32m     23\u001b[0m \u001b[1;33m\u001b[0m\u001b[0m\n",
      "\u001b[1;31mKeyboardInterrupt\u001b[0m: "
     ]
    }
   ],
   "source": [
    "from time import sleep\n",
    "from winsound import Beep\n",
    "import winsound\n",
    "\n",
    "hour = int(input(\"Enter any hour to countdown:-  \"))\n",
    "while hour > 0:\n",
    "    hour -= 1\n",
    "    minutes = 60\n",
    "    \n",
    "          \n",
    "    while minutes > 0:\n",
    "        seconds = 60\n",
    "        minutes -= 1\n",
    "              \n",
    "        \n",
    "        while seconds > 0:\n",
    "           \n",
    "            \n",
    "            seconds -=1\n",
    "            print(f\"{hour}:{minutes}:{seconds}\", sep=\" \",  end = '')\n",
    "            sleep(0.5)\n",
    "            print(\"\\r\",end=\"\")\n",
    "            "
   ]
  },
  {
   "cell_type": "code",
   "execution_count": 76,
   "id": "rough-sandwich",
   "metadata": {
    "ExecuteTime": {
     "end_time": "2021-04-06T16:30:19.433140Z",
     "start_time": "2021-04-06T16:30:13.752444Z"
    }
   },
   "outputs": [
    {
     "name": "stdout",
     "output_type": "stream",
     "text": [
      "Enter your name:  SEYE\n",
      "Hi SEYE, How are you today and how's work activities progressing with you?\n",
      "reply: fine\n",
      "fine\n",
      "Do have a safe trip back home.\n"
     ]
    }
   ],
   "source": [
    "staff = ['TAIWO',\n",
    "         'SEYE',\n",
    "         'IDRIS',\n",
    "         'JOHNSON',\n",
    "         'FAITH',\n",
    "         'ALABA',\n",
    "         'LOLU',\n",
    "         'MARVELOUS',\n",
    "         'MOBOLAJI'\n",
    "        ]\n",
    "name = input(\"Enter your name:  \")\n",
    "greet = (\"How are you today and how's work activities progressing with you?\")\n",
    "message = (\"fine\")\n",
    "\n",
    "if name in staff:\n",
    "    print(f\"Hi {name}, {greet}\")\n",
    "    ask = input(\"reply: \")\n",
    "    print(ask)\n",
    "    \n",
    "    if ask == message:\n",
    "        print(\"Do have a safe trip back home.\")\n",
    "        \n",
    "else:\n",
    "    print(\"Sorry, you are not a registered staff of Liberty Assured!\")"
   ]
  },
  {
   "cell_type": "code",
   "execution_count": null,
   "id": "normal-patent",
   "metadata": {},
   "outputs": [],
   "source": []
  },
  {
   "cell_type": "code",
   "execution_count": null,
   "id": "political-defeat",
   "metadata": {},
   "outputs": [],
   "source": []
  }
 ],
 "metadata": {
  "kernelspec": {
   "display_name": "Python 3.7.9 32-bit",
   "language": "python",
   "name": "python37932bitdbd09dfa023d4867a5c7356bcb6a5889"
  },
  "language_info": {
   "codemirror_mode": {
    "name": "ipython",
    "version": 3
   },
   "file_extension": ".py",
   "mimetype": "text/x-python",
   "name": "python",
   "nbconvert_exporter": "python",
   "pygments_lexer": "ipython3",
   "version": "3.7.9"
  },
  "toc": {
   "base_numbering": 1,
   "nav_menu": {},
   "number_sections": true,
   "sideBar": true,
   "skip_h1_title": false,
   "title_cell": "Table of Contents",
   "title_sidebar": "Contents",
   "toc_cell": false,
   "toc_position": {},
   "toc_section_display": true,
   "toc_window_display": false
  },
  "varInspector": {
   "cols": {
    "lenName": 16,
    "lenType": 16,
    "lenVar": 40
   },
   "kernels_config": {
    "python": {
     "delete_cmd_postfix": "",
     "delete_cmd_prefix": "del ",
     "library": "var_list.py",
     "varRefreshCmd": "print(var_dic_list())"
    },
    "r": {
     "delete_cmd_postfix": ") ",
     "delete_cmd_prefix": "rm(",
     "library": "var_list.r",
     "varRefreshCmd": "cat(var_dic_list()) "
    }
   },
   "types_to_exclude": [
    "module",
    "function",
    "builtin_function_or_method",
    "instance",
    "_Feature"
   ],
   "window_display": false
  }
 },
 "nbformat": 4,
 "nbformat_minor": 5
}
