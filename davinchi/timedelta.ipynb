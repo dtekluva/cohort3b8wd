{
 "cells": [
  {
   "cell_type": "code",
   "execution_count": 1,
   "id": "mineral-remark",
   "metadata": {
    "ExecuteTime": {
     "end_time": "2021-04-16T15:49:13.682498Z",
     "start_time": "2021-04-16T15:49:12.886545Z"
    }
   },
   "outputs": [],
   "source": [
    "import pandas as pd\n",
    "import datetime\n",
    "\n"
   ]
  },
  {
   "cell_type": "code",
   "execution_count": 17,
   "id": "handmade-cedar",
   "metadata": {
    "ExecuteTime": {
     "end_time": "2021-04-16T16:13:27.413853Z",
     "start_time": "2021-04-16T16:13:27.393808Z"
    }
   },
   "outputs": [
    {
     "data": {
      "text/plain": [
       "datetime.date(2021, 3, 15)"
      ]
     },
     "execution_count": 17,
     "metadata": {},
     "output_type": "execute_result"
    }
   ],
   "source": [
    "\n",
    "today = datetime.date.today()\n",
    "today_days =today.day\n",
    "lastmonth = today-datetime.timedelta(days= today_days)\n",
    "last_month_days = lastmonth.day\n",
    "scheduled_report_day = 15\n",
    "\n",
    "last_month_20th = lastmonth -datetime.timedelta(days = last_month_days) + datetime.timedelta(days = scheduled_report_day)\n",
    "\n",
    "last_month_20th"
   ]
  },
  {
   "cell_type": "code",
   "execution_count": null,
   "id": "several-dimension",
   "metadata": {},
   "outputs": [],
   "source": []
  }
 ],
 "metadata": {
  "kernelspec": {
   "display_name": "Python 3.7.9 32-bit",
   "language": "python",
   "name": "python37932bitdbd09dfa023d4867a5c7356bcb6a5889"
  },
  "language_info": {
   "codemirror_mode": {
    "name": "ipython",
    "version": 3
   },
   "file_extension": ".py",
   "mimetype": "text/x-python",
   "name": "python",
   "nbconvert_exporter": "python",
   "pygments_lexer": "ipython3",
   "version": "3.7.9"
  },
  "toc": {
   "base_numbering": 1,
   "nav_menu": {},
   "number_sections": true,
   "sideBar": true,
   "skip_h1_title": false,
   "title_cell": "Table of Contents",
   "title_sidebar": "Contents",
   "toc_cell": false,
   "toc_position": {},
   "toc_section_display": true,
   "toc_window_display": false
  },
  "varInspector": {
   "cols": {
    "lenName": 16,
    "lenType": 16,
    "lenVar": 40
   },
   "kernels_config": {
    "python": {
     "delete_cmd_postfix": "",
     "delete_cmd_prefix": "del ",
     "library": "var_list.py",
     "varRefreshCmd": "print(var_dic_list())"
    },
    "r": {
     "delete_cmd_postfix": ") ",
     "delete_cmd_prefix": "rm(",
     "library": "var_list.r",
     "varRefreshCmd": "cat(var_dic_list()) "
    }
   },
   "types_to_exclude": [
    "module",
    "function",
    "builtin_function_or_method",
    "instance",
    "_Feature"
   ],
   "window_display": false
  }
 },
 "nbformat": 4,
 "nbformat_minor": 5
}
